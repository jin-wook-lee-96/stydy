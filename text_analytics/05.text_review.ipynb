{
 "cells": [
  {
   "attachments": {},
   "cell_type": "markdown",
   "metadata": {},
   "source": [
    "<font color=\"#CC3D3D\"><p>\n",
    "# 05. 토픽 모델링(LSA)"
   ]
  },
  {
   "attachments": {},
   "cell_type": "markdown",
   "metadata": {},
   "source": [
    "<font color=\"#green\"><p>\n",
    "## 토픽 모델링(LSA)"
   ]
  },
  {
   "attachments": {},
   "cell_type": "markdown",
   "metadata": {},
   "source": [
    "### 토픽 모델링"
   ]
  },
  {
   "attachments": {},
   "cell_type": "markdown",
   "metadata": {},
   "source": [
    "- 텍스트에 대한 비지도 학습\n",
    "\n",
    "- 문서의 단어빈도에 영향을 미치는 잠재변수를 가정\n",
    "\n",
    "- 위의 잠재변수를 '토픽(topic)'이라고 함\n",
    "\n",
    "- 일상적 의미에서 토픽과는 다름\n",
    "\n",
    "-> 더 편한 결과를 찾아서 쓰면 된다"
   ]
  },
  {
   "attachments": {},
   "cell_type": "markdown",
   "metadata": {},
   "source": [
    "### 토픽 모델링의 방법"
   ]
  },
  {
   "attachments": {},
   "cell_type": "markdown",
   "metadata": {},
   "source": [
    ">행렬 분해에 의한 방법   <- 이쪽을 좀 더 사용\n",
    "\n",
    "- Latent Semantic Analysis\n",
    "- Non-negative Matrix Factorization\n",
    "\n",
    "확률 뷴포에 의한 방법\n",
    "\n",
    "- Latent Dirichlet Allocation"
   ]
  },
  {
   "attachments": {},
   "cell_type": "markdown",
   "metadata": {},
   "source": [
    "<font color=\"#green\"><p>\n",
    "## 잠재 의미 분석"
   ]
  },
  {
   "attachments": {},
   "cell_type": "markdown",
   "metadata": {},
   "source": [
    "### 잠재 의미 분석(Latent Semantic Analysis)"
   ]
  },
  {
   "attachments": {},
   "cell_type": "markdown",
   "metadata": {},
   "source": [
    "- 문서 단어 행렬을 여러 행렬의 곱으로 분해하는 방법\n",
    "    - 문서-토픽 행렬: 문서별 토픽\n",
    "    - 토픽-단어 행렬: 단어별 토픽"
   ]
  },
  {
   "attachments": {},
   "cell_type": "markdown",
   "metadata": {},
   "source": [
    "- 토픽이 여러 변수라고 가정\n",
    "- 여러 토픽들에 가중치를 곱하여 더하면 문서 단어 행렬이 된다고 가정\n",
    "- 토픽들은 단어 빈도의 분산을 설명\n",
    "- 수학적으로는 주성분분석과 거의 비슷"
   ]
  },
  {
   "attachments": {},
   "cell_type": "markdown",
   "metadata": {},
   "source": [
    "### 행렬(Matrix)"
   ]
  },
  {
   "attachments": {},
   "cell_type": "markdown",
   "metadata": {},
   "source": [
    "- 수를 사각형 형태로 배열한 것. 간단히 생각하면 표\n",
    "\n",
    "- 예) 문서 단어 \"행렬\"\n",
    "\n",
    "- 행렬은 일반적인 수와 비슷하게 더하거나, 곱할 수 있음\n",
    "\n",
    "- mxn크기의 행렬은 mxk크기의 행렬과 kxn크기의 행렬의 곱으로 표현 가능\n",
    "\n",
    "- 선형 모형 y=wx+b도 행렬의 곱셈 형태로 나타낼 수 있음"
   ]
  },
  {
   "attachments": {},
   "cell_type": "markdown",
   "metadata": {},
   "source": [
    "### LSA의 기본 아이디어"
   ]
  },
  {
   "attachments": {},
   "cell_type": "markdown",
   "metadata": {},
   "source": [
    "- 문서 단어 행렬 X를 ZW형태로 표현\n",
    "- 차원 축소: 단어보다 토픽의 수가 적음(n >k)"
   ]
  },
  {
   "attachments": {},
   "cell_type": "markdown",
   "metadata": {},
   "source": [
    "### LSA의 특징"
   ]
  },
  {
   "attachments": {},
   "cell_type": "markdown",
   "metadata": {},
   "source": [
    "- 계산이 비교적 단순\n",
    "\n",
    "- 통계학에서 매우 많이 사용하는 기법\n",
    "\n",
    "- 토픽의 해석이 어려움\n",
    "\n",
    "- 차원의 수를 정하기 어려움\n",
    "\n",
    "- 해가 무수히 많음"
   ]
  },
  {
   "attachments": {},
   "cell_type": "markdown",
   "metadata": {},
   "source": [
    "### 행렬분해"
   ]
  },
  {
   "attachments": {},
   "cell_type": "markdown",
   "metadata": {},
   "source": [
    "- 하나의 행렬을 여러 개의 행렬의 곱 형태로 나타내는것\n",
    "\n",
    "    - LU분해\n",
    "    - QR분해\n",
    "    - 촐래스키 분해\n",
    "    - 고유값 분해(eigen decomposition)\n",
    "    - 특이값 분해(Singular Value Decomposition)"
   ]
  },
  {
   "attachments": {},
   "cell_type": "markdown",
   "metadata": {},
   "source": [
    "### 차원축소"
   ]
  },
  {
   "attachments": {},
   "cell_type": "markdown",
   "metadata": {},
   "source": [
    "- TDM(Truncated SVD)은 m개의 문서를 표현하기 위해 n가지 단어로 표현\n",
    "- U*는 m개의 문서를 k가지 토픽으로 표현\n",
    "- n>k 이므로 문서를 나타내는 차원이 축소되었다고 이해할 수 있음\n",
    "\n",
    "\n",
    "- 차원 축소를 하는 이유:\n",
    "    - 문서들이 단어가 아닌 의미상으로 재배치\n",
    "    - 동음이의어, 오탈자 등이 (어느정도)처리됨\n",
    "    - 문서에 존재하는 noise가 줄어 더 잘 분류됨"
   ]
  },
  {
   "attachments": {},
   "cell_type": "markdown",
   "metadata": {},
   "source": [
    "### LSA실습: 명사 추출 함수"
   ]
  },
  {
   "cell_type": "code",
   "execution_count": 2,
   "metadata": {},
   "outputs": [],
   "source": [
    "import kiwipiepy\n",
    "kiwi = kiwipiepy.Kiwi() \n",
    "def extract_nouns(text):\n",
    "    for token in kiwi.tokenize(text):\n",
    "        if token.tag in {'NNG', 'NNP'}:\n",
    "            yield token.form"
   ]
  },
  {
   "attachments": {},
   "cell_type": "markdown",
   "metadata": {},
   "source": [
    "### LSA 실습: 샴푸 특허 데이터"
   ]
  },
  {
   "attachments": {},
   "cell_type": "markdown",
   "metadata": {},
   "source": [
    "- 데이터"
   ]
  },
  {
   "cell_type": "code",
   "execution_count": 3,
   "metadata": {},
   "outputs": [],
   "source": [
    "import pandas as pd\n",
    "df = pd.read_excel('data/patents.xlsx')"
   ]
  },
  {
   "cell_type": "markdown",
   "metadata": {},
   "source": [
    "- 문서 단어 행렬"
   ]
  },
  {
   "cell_type": "code",
   "execution_count": 4,
   "metadata": {},
   "outputs": [
    {
     "name": "stderr",
     "output_type": "stream",
     "text": [
      "/opt/anaconda3/lib/python3.9/site-packages/sklearn/feature_extraction/text.py:528: UserWarning: The parameter 'token_pattern' will not be used since 'tokenizer' is not None'\n",
      "  warnings.warn(\n"
     ]
    }
   ],
   "source": [
    "from sklearn.feature_extraction.text import CountVectorizer\n",
    "cv = CountVectorizer(tokenizer= extract_nouns, min_df=10) #min_df : 최소 문서수\n",
    "dtm = cv.fit_transform(df.abstract)"
   ]
  },
  {
   "attachments": {},
   "cell_type": "markdown",
   "metadata": {},
   "source": [
    "### 고빈도 단어 보기"
   ]
  },
  {
   "cell_type": "code",
   "execution_count": 5,
   "metadata": {},
   "outputs": [
    {
     "data": {
      "text/html": [
       "<div>\n",
       "<style scoped>\n",
       "    .dataframe tbody tr th:only-of-type {\n",
       "        vertical-align: middle;\n",
       "    }\n",
       "\n",
       "    .dataframe tbody tr th {\n",
       "        vertical-align: top;\n",
       "    }\n",
       "\n",
       "    .dataframe thead th {\n",
       "        text-align: right;\n",
       "    }\n",
       "</style>\n",
       "<table border=\"1\" class=\"dataframe\">\n",
       "  <thead>\n",
       "    <tr style=\"text-align: right;\">\n",
       "      <th></th>\n",
       "      <th>word</th>\n",
       "      <th>count</th>\n",
       "    </tr>\n",
       "  </thead>\n",
       "  <tbody>\n",
       "    <tr>\n",
       "      <th>145</th>\n",
       "      <td>샴푸</td>\n",
       "      <td>972</td>\n",
       "    </tr>\n",
       "    <tr>\n",
       "      <th>83</th>\n",
       "      <td>물</td>\n",
       "      <td>737</td>\n",
       "    </tr>\n",
       "    <tr>\n",
       "      <th>92</th>\n",
       "      <td>발명</td>\n",
       "      <td>671</td>\n",
       "    </tr>\n",
       "    <tr>\n",
       "      <th>262</th>\n",
       "      <td>조성</td>\n",
       "      <td>615</td>\n",
       "    </tr>\n",
       "    <tr>\n",
       "      <th>137</th>\n",
       "      <td>상기</td>\n",
       "      <td>485</td>\n",
       "    </tr>\n",
       "    <tr>\n",
       "      <th>80</th>\n",
       "      <td>모발</td>\n",
       "      <td>475</td>\n",
       "    </tr>\n",
       "    <tr>\n",
       "      <th>286</th>\n",
       "      <td>추출물</td>\n",
       "      <td>474</td>\n",
       "    </tr>\n",
       "    <tr>\n",
       "      <th>315</th>\n",
       "      <td>포함</td>\n",
       "      <td>447</td>\n",
       "    </tr>\n",
       "    <tr>\n",
       "      <th>114</th>\n",
       "      <td>부</td>\n",
       "      <td>421</td>\n",
       "    </tr>\n",
       "    <tr>\n",
       "      <th>66</th>\n",
       "      <td>량</td>\n",
       "      <td>362</td>\n",
       "    </tr>\n",
       "    <tr>\n",
       "      <th>361</th>\n",
       "      <td>효과</td>\n",
       "      <td>354</td>\n",
       "    </tr>\n",
       "    <tr>\n",
       "      <th>266</th>\n",
       "      <td>중</td>\n",
       "      <td>347</td>\n",
       "    </tr>\n",
       "    <tr>\n",
       "      <th>62</th>\n",
       "      <td>두피</td>\n",
       "      <td>316</td>\n",
       "    </tr>\n",
       "    <tr>\n",
       "      <th>258</th>\n",
       "      <td>제조</td>\n",
       "      <td>295</td>\n",
       "    </tr>\n",
       "    <tr>\n",
       "      <th>54</th>\n",
       "      <td>단계</td>\n",
       "      <td>270</td>\n",
       "    </tr>\n",
       "    <tr>\n",
       "      <th>130</th>\n",
       "      <td>사용</td>\n",
       "      <td>259</td>\n",
       "    </tr>\n",
       "    <tr>\n",
       "      <th>151</th>\n",
       "      <td>성분</td>\n",
       "      <td>237</td>\n",
       "    </tr>\n",
       "    <tr>\n",
       "      <th>97</th>\n",
       "      <td>방지</td>\n",
       "      <td>236</td>\n",
       "    </tr>\n",
       "    <tr>\n",
       "      <th>206</th>\n",
       "      <td>용기</td>\n",
       "      <td>221</td>\n",
       "    </tr>\n",
       "    <tr>\n",
       "      <th>300</th>\n",
       "      <td>탈모</td>\n",
       "      <td>219</td>\n",
       "    </tr>\n",
       "  </tbody>\n",
       "</table>\n",
       "</div>"
      ],
      "text/plain": [
       "    word  count\n",
       "145   샴푸    972\n",
       "83     물    737\n",
       "92    발명    671\n",
       "262   조성    615\n",
       "137   상기    485\n",
       "80    모발    475\n",
       "286  추출물    474\n",
       "315   포함    447\n",
       "114    부    421\n",
       "66     량    362\n",
       "361   효과    354\n",
       "266    중    347\n",
       "62    두피    316\n",
       "258   제조    295\n",
       "54    단계    270\n",
       "130   사용    259\n",
       "151   성분    237\n",
       "97    방지    236\n",
       "206   용기    221\n",
       "300   탈모    219"
      ]
     },
     "execution_count": 5,
     "metadata": {},
     "output_type": "execute_result"
    }
   ],
   "source": [
    "word_count = pd.DataFrame({\n",
    "    'word': cv.get_feature_names_out(),\n",
    "    'count': dtm.sum(axis=0).flat\n",
    "})\n",
    "\n",
    "word_count.sort_values('count', ascending=False).head(20)"
   ]
  },
  {
   "cell_type": "markdown",
   "metadata": {},
   "source": [
    "### SVD 적용"
   ]
  },
  {
   "attachments": {},
   "cell_type": "markdown",
   "metadata": {},
   "source": [
    "- 문서 단어 행렬에 SVD 적용, 100차원으로 축소"
   ]
  },
  {
   "cell_type": "code",
   "execution_count": 6,
   "metadata": {},
   "outputs": [],
   "source": [
    "from sklearn.decomposition import TruncatedSVD\n",
    "svd = TruncatedSVD(n_components=14, random_state=1234)\n",
    "doc_emb = svd.fit_transform(dtm)"
   ]
  },
  {
   "attachments": {},
   "cell_type": "markdown",
   "metadata": {},
   "source": [
    "### 스크리 플롯"
   ]
  },
  {
   "attachments": {},
   "cell_type": "markdown",
   "metadata": {},
   "source": [
    "- TruncatedSVD에서 \"설명된 분산\"의 시각화\n",
    "    - PCA와 다르게 완전히 정렬되어 있지 않음"
   ]
  },
  {
   "attachments": {},
   "cell_type": "markdown",
   "metadata": {},
   "source": [
    "- 절벽 밑의 비탈(scree)모양\n",
    "\n",
    "- 완만한 경사가 시작하는 부분이 적정한 컴포넌트의 수"
   ]
  },
  {
   "cell_type": "code",
   "execution_count": 7,
   "metadata": {},
   "outputs": [
    {
     "data": {
      "image/png": "[encoded data removed]",
      "text/plain": [
       "<Figure size 640x480 with 1 Axes>"
      ]
     },
     "metadata": {},
     "output_type": "display_data"
    }
   ],
   "source": [
    "import matplotlib.pyplot as plt\n",
    "plt.plot(svd.explained_variance_)\n",
    "plt.show()"
   ]
  },
  {
   "attachments": {},
   "cell_type": "markdown",
   "metadata": {},
   "source": [
    "<font color=\"#green\"><p>\n",
    "## 단어 임베딩과 유사도"
   ]
  },
  {
   "attachments": {},
   "cell_type": "markdown",
   "metadata": {},
   "source": [
    "### 단어 임베팅"
   ]
  },
  {
   "attachments": {},
   "cell_type": "markdown",
   "metadata": {},
   "source": [
    "- 단어를 낮은 차원의 벡터로 나타내는 것\n",
    "\n",
    "- 단어의 의미를 좌표로 나타내는 것 또는 수치화\n",
    "\n",
    "- 의미가 비슷한 단어들은 비슷한 값을 가져야함\n",
    "\n",
    "- LSA의 단어-토픽 행렬도 일종의 단어 임베딩\n",
    "\n",
    "- 단어 임베딩의 다차원 공간상에서 방향에 의미가 있어야함"
   ]
  },
  {
   "cell_type": "code",
   "execution_count": 8,
   "metadata": {},
   "outputs": [],
   "source": [
    "word_emb = svd.components_.T"
   ]
  },
  {
   "cell_type": "markdown",
   "metadata": {},
   "source": [
    "- 단어 text의 번호"
   ]
  },
  {
   "cell_type": "code",
   "execution_count": 9,
   "metadata": {},
   "outputs": [],
   "source": [
    "words = cv.get_feature_names_out().tolist()\n",
    "i = words.index('모발')"
   ]
  },
  {
   "cell_type": "markdown",
   "metadata": {},
   "source": [
    "- 단어와 각 토픽의 관련도를 시각화"
   ]
  },
  {
   "cell_type": "code",
   "execution_count": 10,
   "metadata": {},
   "outputs": [
    {
     "data": {
      "text/plain": [
       "[<matplotlib.lines.Line2D at 0x7fd6714255b0>]"
      ]
     },
     "execution_count": 10,
     "metadata": {},
     "output_type": "execute_result"
    },
    {
     "data": {
      "image/png": "[encoded data removed]",
      "text/plain": [
       "<Figure size 640x480 with 1 Axes>"
      ]
     },
     "metadata": {},
     "output_type": "display_data"
    }
   ],
   "source": [
    "plt.plot(word_emb[i])"
   ]
  },
  {
   "attachments": {},
   "cell_type": "markdown",
   "metadata": {},
   "source": [
    "### 거리와 유사도"
   ]
  },
  {
   "attachments": {},
   "cell_type": "markdown",
   "metadata": {},
   "source": [
    "- 거리 d(x,y): 두 사례 x,y의 차이 표현\n",
    "    - d(x,y) >=0\n",
    "    - 두 사례가 같으면 0\n",
    "    - d(x,y) = d(y,x)\n",
    "    - d(x,y) <= d(x,z) + d(z,y)\n",
    "<br>\n",
    "<br>\n",
    "\n",
    "- 유사도: 두 사례의 비슷함을 표현. 거리와 달리 엄밀한 정의는 없음"
   ]
  },
  {
   "attachments": {},
   "cell_type": "markdown",
   "metadata": {},
   "source": [
    "### 민코우스키 거리"
   ]
  },
  {
   "attachments": {},
   "cell_type": "markdown",
   "metadata": {},
   "source": [
    "$ d(x,y) = (\\sum_{i}^{}\\left|x_i-y_i \\right|^p)^{1/p}$"
   ]
  },
  {
   "attachments": {},
   "cell_type": "markdown",
   "metadata": {},
   "source": [
    "- 벡터의 길이 개념인 L_p-norm을 거리에 적용한 것\n",
    "- 종류:\n",
    "    - 유클리드거리: p = 2인 경우, L2거리\n",
    "    - 맨하탄거리: p = 1인 경우, L1거리\n",
    "    - 치비셰프거리:p -> infinite 인 경우, L_infinite 거리"
   ]
  },
  {
   "attachments": {},
   "cell_type": "markdown",
   "metadata": {},
   "source": [
    "### 문자열의 거리"
   ]
  },
  {
   "attachments": {},
   "cell_type": "markdown",
   "metadata": {},
   "source": [
    "- 레벤슈타인 거리\n",
    "    - 두 문자열을 같게 만들기 위해 필요한 수정의 수\n",
    "    - 예: cat, data -> c삭제, d추가, a추가 ->3\n"
   ]
  },
  {
   "attachments": {},
   "cell_type": "markdown",
   "metadata": {},
   "source": [
    "- 해밍거리\n",
    "    - 길이가 같은 문자열에서 같은 위치에 다른 글자가 있는 경우\n",
    "    - 예: ayc, axc -> 2"
   ]
  },
  {
   "attachments": {},
   "cell_type": "markdown",
   "metadata": {},
   "source": [
    "### 자카드 유사도\n"
   ]
  },
  {
   "attachments": {},
   "cell_type": "markdown",
   "metadata": {},
   "source": [
    "- 교집합의 크기/ 합집합의 크기"
   ]
  },
  {
   "attachments": {},
   "cell_type": "markdown",
   "metadata": {},
   "source": [
    "### 유클리드 거리"
   ]
  },
  {
   "attachments": {},
   "cell_type": "markdown",
   "metadata": {},
   "source": [
    "- 글의 방향성을 무시하고 길이에 민감\n",
    "\n",
    "- 짧은 글들은 거리가 모두 가까움\n",
    "\n",
    "- 글이 길어지면 거리가 멀어짐"
   ]
  },
  {
   "attachments": {},
   "cell_type": "markdown",
   "metadata": {},
   "source": [
    "### 코사인 유사도"
   ]
  },
  {
   "attachments": {},
   "cell_type": "markdown",
   "metadata": {},
   "source": [
    "- cosθ\n",
    "\n",
    "- θ: 원점에서 보았을 때 두 좌표의 각도\n",
    "\n",
    "- 문서 유사도를 계산할 때 흔히 사용\n",
    "\n",
    "- -1을 곱하면 코사인 비유사도 또는 거리"
   ]
  },
  {
   "attachments": {},
   "cell_type": "markdown",
   "metadata": {},
   "source": [
    "### 점곱(dot product)"
   ]
  },
  {
   "attachments": {},
   "cell_type": "markdown",
   "metadata": {},
   "source": [
    "- 벡터 $a = (a_1,a_2,..)$ 와 $b = (b_1,b_2,..)$ 가 있을떄 점곱은"
   ]
  },
  {
   "attachments": {},
   "cell_type": "markdown",
   "metadata": {},
   "source": [
    "$a\\bullet b = a_1b_1 + a_2b_2+..$"
   ]
  },
  {
   "attachments": {},
   "cell_type": "markdown",
   "metadata": {},
   "source": [
    "- 또한"
   ]
  },
  {
   "attachments": {},
   "cell_type": "markdown",
   "metadata": {},
   "source": [
    "$a\\bullet b = \\left\\|a\\right\\|\\left\\|b\\right\\|cosθ$"
   ]
  },
  {
   "attachments": {},
   "cell_type": "markdown",
   "metadata": {},
   "source": [
    "### Normalization"
   ]
  },
  {
   "attachments": {},
   "cell_type": "markdown",
   "metadata": {},
   "source": [
    "- Normalization: 통계에서 크기를 맞춰주는 종류의 계산들\n",
    "- L2 Normalization -> 모든 문서의 원점에서 거리를 1로 맞춤\n",
    "- 두 문서의 점곱과 코사인 유사도 같아짐"
   ]
  },
  {
   "attachments": {},
   "cell_type": "markdown",
   "metadata": {},
   "source": [
    "### 단어임베딩의 코사인 유사도"
   ]
  },
  {
   "attachments": {},
   "cell_type": "markdown",
   "metadata": {},
   "source": [
    "- 코사인 유사도 구하기"
   ]
  },
  {
   "cell_type": "code",
   "execution_count": 11,
   "metadata": {},
   "outputs": [],
   "source": [
    "from sklearn.metrics.pairwise import cosine_similarity\n",
    "sim = cosine_similarity(word_emb)"
   ]
  },
  {
   "attachments": {},
   "cell_type": "markdown",
   "metadata": {},
   "source": [
    "- 유사도 높은 단어 10개 보기"
   ]
  },
  {
   "cell_type": "code",
   "execution_count": 12,
   "metadata": {},
   "outputs": [
    {
     "name": "stdout",
     "output_type": "stream",
     "text": [
      "손상\n",
      "염색\n",
      "염모제\n",
      "트리트먼트\n",
      "최소\n",
      "회복\n",
      "자극\n",
      "클렌징\n",
      "윤기\n",
      "도포\n",
      "보호\n",
      "건조\n",
      "세척\n",
      "산\n",
      "피\n",
      "감\n",
      "기\n",
      "감소\n",
      "완화\n",
      "컨디셔너\n",
      "미용\n",
      "금속\n",
      "부가\n",
      "아미노산\n",
      "물질\n",
      "일\n",
      "보습\n",
      "증가\n",
      "예\n",
      "다양\n",
      "영양\n",
      "동안\n",
      "부여\n",
      "다음\n",
      "열\n",
      "개선\n",
      "산화\n",
      "탄력\n",
      "흡착\n",
      "케어\n",
      "스타일링\n",
      "배합\n",
      "발생\n",
      "일반\n",
      "두피\n",
      "건강\n",
      "시간\n",
      "지속\n",
      "향료\n",
      "처리\n",
      "후\n",
      "헤어\n",
      "구체\n",
      "이온\n",
      "향상\n",
      "실시\n",
      "녹차\n",
      "장점\n",
      "알코올\n",
      "폴리머\n",
      "향\n",
      "피지\n",
      "기포\n",
      "시\n",
      "료\n",
      "강화\n",
      "우수\n",
      "종\n",
      "일정\n",
      "폴리쿼터늄\n",
      "기술\n",
      "화장\n",
      "세정\n",
      "보조\n",
      "삽입\n",
      "방법\n",
      "실록\n",
      "유래\n",
      "섬유\n",
      "관련\n",
      "유용\n",
      "오일\n",
      "폴리\n",
      "유지\n",
      "이상\n",
      "용도\n",
      "성\n",
      "관리\n",
      "측면\n",
      "정력\n",
      "성장\n",
      "뿌리\n",
      "컨디셔닝\n",
      "포함\n",
      "가려움증\n",
      "발명\n",
      "양\n",
      "분해\n",
      "표면\n",
      "표시\n",
      "길이\n",
      "화합물\n",
      "때\n",
      "음이온\n",
      "실리콘\n",
      "점증\n",
      "조\n",
      "과\n",
      "복수\n",
      "과정\n",
      "구성\n",
      "분사\n",
      "억제\n",
      "방향\n",
      "형상\n",
      "계면\n",
      "모근\n",
      "화학\n",
      "시스템\n",
      "계면활성제\n",
      "효과\n",
      "거품\n",
      "청결\n",
      "결합\n",
      "투명\n",
      "부재\n",
      "상\n",
      "디\n",
      "수\n",
      "전\n",
      "유효\n",
      "안정\n",
      "나무\n",
      "메틸\n",
      "생성\n",
      "도움\n",
      "성분\n",
      "압력\n",
      "염\n",
      "저장\n",
      "상태\n",
      "에센스\n",
      "액상\n",
      "제거\n",
      "특성\n",
      "흡수\n",
      "오염\n",
      "질량\n",
      "사용\n",
      "이동\n",
      "각질\n",
      "바디\n",
      "작용\n",
      "크림\n",
      "세제\n",
      "구조\n",
      "비듬\n",
      "잎\n",
      "위치\n",
      "제품\n",
      "추출물\n",
      "적합\n",
      "동시\n",
      "중량\n",
      "상기\n",
      "베타\n",
      "별도\n",
      "특징\n",
      "수단\n",
      "와\n",
      "종래\n",
      "타입\n",
      "물\n",
      "구비\n",
      "개시\n",
      "정제\n",
      "원료\n",
      "용품\n",
      "린스\n",
      "외부\n",
      "특정\n",
      "선택\n",
      "판테놀\n",
      "펌핑\n",
      "용액\n",
      "고정\n",
      "단계\n",
      "지지\n",
      "중\n",
      "량\n",
      "세정제\n",
      "탄소\n",
      "염증\n",
      "가능\n",
      "필요\n",
      "로션\n",
      "샴푸\n",
      "홈\n",
      "노즐\n",
      "상부\n",
      "이용\n",
      "사용자\n",
      "공급\n",
      "글리세린\n",
      "자동\n",
      "스펜서\n",
      "하부\n",
      "밀착\n",
      "식물\n",
      "체\n",
      "부\n",
      "통\n",
      "백\n",
      "조성\n",
      "수용\n",
      "단\n",
      "내용물\n",
      "용기\n",
      "제형\n",
      "비율\n",
      "당귀\n",
      "연장\n",
      "한약재\n",
      "재료\n",
      "목\n",
      "상면\n",
      "토출\n",
      "제어\n",
      "고안\n",
      "캡\n",
      "배출\n",
      "편리\n",
      "액체\n",
      "구\n",
      "액\n",
      "머리\n",
      "형성\n",
      "내부\n",
      "제공\n",
      "환경\n",
      "균\n",
      "하\n",
      "형\n",
      "면\n",
      "을\n",
      "의자\n",
      "광택\n",
      "침투\n",
      "부착\n",
      "공\n",
      "본체\n",
      "창포\n",
      "적용\n",
      "회전\n",
      "화장품\n",
      "등받이\n",
      "성물\n",
      "인\n",
      "샤워\n",
      "연결\n",
      "펌프\n",
      "홍삼\n",
      "받침대\n",
      "고삼\n",
      "분리\n",
      "화장료\n",
      "베이스\n",
      "혼합\n",
      "장치\n",
      "배치\n",
      "비누\n",
      "추가\n",
      "호스\n",
      "머리카락\n",
      "인체\n",
      "분말\n",
      "마사지\n",
      "방지\n",
      "반응\n",
      "일체\n",
      "비\n",
      "하단\n",
      "탄성\n",
      "상단\n",
      "장착\n",
      "천연\n",
      "온도\n",
      "보습제\n",
      "로즈마리\n",
      "천궁\n",
      "돌출\n",
      "재질\n",
      "전체\n",
      "작동\n",
      "부분\n",
      "샤워기\n",
      "보관\n",
      "조절\n",
      "부작용\n",
      "순환\n",
      "모공\n",
      "돌기\n",
      "공정\n",
      "내측\n",
      "설치\n",
      "혈액\n",
      "제조\n",
      "함유\n",
      "손\n",
      "진정\n",
      "피부\n",
      "기존\n",
      "각종\n",
      "반\n",
      "발\n",
      "공간\n",
      "솔잎\n",
      "형태\n",
      "팩\n",
      "목적\n",
      "안전\n",
      "기능\n",
      "하수오\n",
      "세포\n",
      "유발\n",
      "활용\n",
      "한방\n",
      "한련초\n",
      "모\n",
      "질환\n",
      "혼합물\n",
      "양모\n",
      "이\n",
      "투입\n",
      "탈모\n",
      "촉진\n",
      "예방\n",
      "함량\n",
      "추출액\n",
      "첨가제\n",
      "르\n",
      "알로에\n",
      "감초\n",
      "발모\n",
      "가열\n",
      "숙성\n",
      "경우\n",
      "발효\n",
      "접촉\n",
      "인삼\n",
      "항산화\n",
      "추출\n"
     ]
    }
   ],
   "source": [
    "import numpy as np\n",
    "s = np.argsort(sim[i]) #i번째 단어와 유사도 순으로 정렬\n",
    "related = s[-2:12:-1]  #가장 유사도가 높은 10개\n",
    "for j in related:\n",
    "    print(words[j])"
   ]
  },
  {
   "attachments": {},
   "cell_type": "markdown",
   "metadata": {},
   "source": [
    "### 단어 번호 찾기"
   ]
  },
  {
   "cell_type": "code",
   "execution_count": 13,
   "metadata": {},
   "outputs": [
    {
     "name": "stdout",
     "output_type": "stream",
     "text": [
      "모발 80\n",
      "손상 159\n",
      "두피 62\n",
      "모공 78\n",
      "용기 206\n",
      "내용물 47\n"
     ]
    }
   ],
   "source": [
    "indices = []\n",
    "target = ['모발', '손상', '두피', '모공', '용기', '내용물']\n",
    "for w in target:\n",
    "    i = words.index(w)\n",
    "    indices.append(i)\n",
    "    print(w, i)"
   ]
  },
  {
   "attachments": {},
   "cell_type": "markdown",
   "metadata": {},
   "source": [
    "### 다차원 척도법"
   ]
  },
  {
   "attachments": {},
   "cell_type": "markdown",
   "metadata": {},
   "source": [
    "- 주어진 거리를 최대한 만족하는 방시긍로 점들의 좌표를 계산하여 시각화하는 방법\n",
    "\n",
    "- 유사도를 거리로 바꿈"
   ]
  },
  {
   "cell_type": "code",
   "execution_count": 14,
   "metadata": {},
   "outputs": [],
   "source": [
    "dist = 1-sim[indices,][:, indices]"
   ]
  },
  {
   "cell_type": "markdown",
   "metadata": {},
   "source": [
    "- 좌표계산"
   ]
  },
  {
   "cell_type": "code",
   "execution_count": 15,
   "metadata": {},
   "outputs": [
    {
     "name": "stderr",
     "output_type": "stream",
     "text": [
      "/opt/anaconda3/lib/python3.9/site-packages/sklearn/manifold/_mds.py:299: FutureWarning: The default value of `normalized_stress` will change to `'auto'` in version 1.4. To suppress this warning, manually set the value of `normalized_stress`.\n",
      "  warnings.warn(\n"
     ]
    }
   ],
   "source": [
    "from sklearn.manifold import MDS\n",
    "mds = MDS(dissimilarity='precomputed', random_state=1234) # precomputed -> 미리계산해봤다\n",
    "pos = mds.fit_transform(dist)"
   ]
  },
  {
   "cell_type": "markdown",
   "metadata": {},
   "source": [
    "### adjustText"
   ]
  },
  {
   "cell_type": "markdown",
   "metadata": {},
   "source": [
    "- plot 에서 글자가 겹치지 않도록 조정해주는 adjustText를 설피"
   ]
  },
  {
   "cell_type": "markdown",
   "metadata": {},
   "source": [
    "```\n",
    "pip install adjusttext\n",
    "```"
   ]
  },
  {
   "cell_type": "markdown",
   "metadata": {},
   "source": [
    "- 임포트"
   ]
  },
  {
   "cell_type": "code",
   "execution_count": 17,
   "metadata": {},
   "outputs": [],
   "source": [
    "from adjustText import adjust_text"
   ]
  },
  {
   "cell_type": "markdown",
   "metadata": {},
   "source": [
    "### 한글 글꼴 설정"
   ]
  },
  {
   "attachments": {},
   "cell_type": "markdown",
   "metadata": {},
   "source": [
    "- 글꼴 이름 찾기 및 글꼴 설정"
   ]
  },
  {
   "cell_type": "code",
   "execution_count": 21,
   "metadata": {},
   "outputs": [],
   "source": [
    "#mac 환경\n",
    "import matplotlib.pyplot as plt\n",
    "from matplotlib import font_manager, rc\n",
    "rc('font', family='AppleGothic')"
   ]
  },
  {
   "attachments": {},
   "cell_type": "markdown",
   "metadata": {},
   "source": [
    "### 마이너스 부호 설정"
   ]
  },
  {
   "attachments": {},
   "cell_type": "markdown",
   "metadata": {},
   "source": [
    "- 유키코드에는 수학의 마이너스를 나타내는 별도의 글자가 있음(−, U+2212)\n",
    "-  키보드에 있는 - (U+002D)는 하이픈(예: ex-wife)\n",
    "\n",
    "- 대부분 한글 글꼴이 유니코드 마이너스를 미지원 -> 마이너스 부호가 깨짐\n",
    "- 한글 글꼴 사용시 유니코드 마이너스를 사용않도록 설정"
   ]
  },
  {
   "cell_type": "code",
   "execution_count": 22,
   "metadata": {},
   "outputs": [],
   "source": [
    "#마이너스 부호 설정\n",
    "plt.rcParams['axes.unicode_minus'] = False"
   ]
  },
  {
   "attachments": {},
   "cell_type": "markdown",
   "metadata": {},
   "source": [
    "### 단어 임베딩 시각화"
   ]
  },
  {
   "cell_type": "code",
   "execution_count": 25,
   "metadata": {},
   "outputs": [
    {
     "data": {
      "text/plain": [
       "6"
      ]
     },
     "execution_count": 25,
     "metadata": {},
     "output_type": "execute_result"
    },
    {
     "data": {
      "image/png": "[encoded data removed]",
      "text/plain": [
       "<Figure size 640x480 with 1 Axes>"
      ]
     },
     "metadata": {},
     "output_type": "display_data"
    }
   ],
   "source": [
    "from adjustText import adjust_text\n",
    "plt.plot(pos[:,0], pos[:,1],'.')\n",
    "texts = [plt.text(pos[i,0], pos[i,1],w)for i ,w in enumerate(target)]\n",
    "adjust_text(texts)"
   ]
  },
  {
   "attachments": {},
   "cell_type": "markdown",
   "metadata": {},
   "source": [
    "<font color=\"#green\"><p>\n",
    "## 회전"
   ]
  },
  {
   "attachments": {},
   "cell_type": "markdown",
   "metadata": {},
   "source": [
    "- LSA는 해가 무수히 많음\n",
    " \n",
    "$X = ZW = ZR_1R_1^{-1}W = ZR_2R_2^{-1}W = ...$\n",
    "\n",
    "- R은 kxk 형태의 행렬, $R^{-1}$ 은 역행렬\n",
    "\n",
    "- kxk 행렬은 k차원에서 회전을 나타냄"
   ]
  },
  {
   "attachments": {},
   "cell_type": "markdown",
   "metadata": {},
   "source": [
    "### 회전의 선택"
   ]
  },
  {
   "attachments": {},
   "cell_type": "markdown",
   "metadata": {},
   "source": [
    "- 축소된 차원 내에서 축을 회전시키더라도 결과 자체는 달라지지 않음\n",
    "\n",
    "- 결과에 대한 해석이 달라짐\n",
    "\n",
    "- 기계적 처리에는 중요하지 않음\n",
    "\n",
    "- 해석이 필요할 경우 적절한 회전을 선택"
   ]
  },
  {
   "attachments": {},
   "cell_type": "markdown",
   "metadata": {},
   "source": [
    "### VARIMAX"
   ]
  },
  {
   "attachments": {},
   "cell_type": "markdown",
   "metadata": {},
   "source": [
    "- 가중치(W)의 제곱의 분산(variance)을 최대화(max)하도록 회전\n",
    "\n",
    "- 직교회전: 회전 후에도 축들이 직교 <-> 사교회전\n",
    "\n",
    "- 하나의 토픽은 소수의 단어에만 높은 가중치\n",
    "\n",
    "- 단순한 구조를 가지게 되어 해석이 쉬워짐"
   ]
  },
  {
   "attachments": {},
   "cell_type": "markdown",
   "metadata": {},
   "source": [
    "### 회전"
   ]
  },
  {
   "attachments": {},
   "cell_type": "markdown",
   "metadata": {},
   "source": [
    "- 설치"
   ]
  },
  {
   "attachments": {},
   "cell_type": "markdown",
   "metadata": {},
   "source": [
    "```\n",
    "pip install factor_analyzer\n",
    "```"
   ]
  },
  {
   "attachments": {},
   "cell_type": "markdown",
   "metadata": {},
   "source": [
    "- 회전"
   ]
  },
  {
   "cell_type": "code",
   "execution_count": 26,
   "metadata": {},
   "outputs": [],
   "source": [
    "from factor_analyzer.rotator import Rotator\n",
    "rotator = Rotator()\n",
    "rot = rotator.fit_transform(word_emb)"
   ]
  },
  {
   "attachments": {},
   "cell_type": "markdown",
   "metadata": {},
   "source": [
    "- 단어와 각 토픽의 관련도를 시각화"
   ]
  },
  {
   "cell_type": "code",
   "execution_count": 27,
   "metadata": {},
   "outputs": [
    {
     "data": {
      "text/plain": [
       "[<matplotlib.lines.Line2D at 0x7fd67ce52670>]"
      ]
     },
     "execution_count": 27,
     "metadata": {},
     "output_type": "execute_result"
    },
    {
     "data": {
      "image/png": "[encoded data removed]",
      "text/plain": [
       "<Figure size 640x480 with 1 Axes>"
      ]
     },
     "metadata": {},
     "output_type": "display_data"
    }
   ],
   "source": [
    "plt.plot(rot[i])"
   ]
  },
  {
   "cell_type": "markdown",
   "metadata": {},
   "source": [
    "### 관련도 높은 토픽 보기"
   ]
  },
  {
   "attachments": {},
   "cell_type": "markdown",
   "metadata": {},
   "source": [
    "\n",
    "- i번 단어와 가장 관련도가 큰 토픽 번호"
   ]
  },
  {
   "cell_type": "code",
   "execution_count": 29,
   "metadata": {},
   "outputs": [],
   "source": [
    "t = np.argmax(rot[i])"
   ]
  },
  {
   "cell_type": "markdown",
   "metadata": {},
   "source": [
    "- t번 토픽과 관련도가 큰 단어들"
   ]
  },
  {
   "cell_type": "code",
   "execution_count": 30,
   "metadata": {},
   "outputs": [],
   "source": [
    "topic_words_idx = np.argsort(rot[:,t])"
   ]
  },
  {
   "cell_type": "markdown",
   "metadata": {},
   "source": [
    "- 관련도 순으로 출력"
   ]
  },
  {
   "cell_type": "code",
   "execution_count": 32,
   "metadata": {},
   "outputs": [
    {
     "name": "stdout",
     "output_type": "stream",
     "text": [
      "용기\n",
      "형성\n",
      "내용물\n",
      "펌프\n",
      "액체\n",
      "배출\n",
      "수용\n",
      "외부\n",
      "구성\n",
      "발명\n"
     ]
    }
   ],
   "source": [
    "for j in topic_words_idx[-1:-11:-1]:\n",
    "    print(words[j])"
   ]
  },
  {
   "cell_type": "code",
   "execution_count": null,
   "metadata": {},
   "outputs": [],
   "source": []
  }
 ],
 "metadata": {
  "kernelspec": {
   "display_name": "base",
   "language": "python",
   "name": "python3"
  },
  "language_info": {
   "codemirror_mode": {
    "name": "ipython",
    "version": 3
   },
   "file_extension": ".py",
   "mimetype": "text/x-python",
   "name": "python",
   "nbconvert_exporter": "python",
   "pygments_lexer": "ipython3",
   "version": "3.9.12"
  },
  "orig_nbformat": 4
 },
 "nbformat": 4,
 "nbformat_minor": 2
}
