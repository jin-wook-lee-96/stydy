{
 "cells": [
  {
   "attachments": {},
   "cell_type": "markdown",
   "metadata": {},
   "source": [
    "<font color=\"#CC3D3D\"><p>\n",
    "# 04. 텍스트 데이터 수집"
   ]
  },
  {
   "attachments": {},
   "cell_type": "markdown",
   "metadata": {},
   "source": [
    "### 텍스트 데이터 수집"
   ]
  },
  {
   "attachments": {},
   "cell_type": "markdown",
   "metadata": {},
   "source": [
    "- 파일이나 DB 형태로 구축된 경우도 있으나 대부분 별도의 수집 과정이 필요\n",
    "\n",
    "- 음성: 음성인식(STT)\n",
    "\n",
    "- 이미지: 광학 문자 인식(OCR)\n",
    "\n",
    "- 웹: 웹 스크랩핑"
   ]
  },
  {
   "attachments": {},
   "cell_type": "markdown",
   "metadata": {},
   "source": [
    "### 스펙트로그램"
   ]
  },
  {
   "attachments": {},
   "cell_type": "markdown",
   "metadata": {},
   "source": [
    "- 오디오 신호는 시간에 따른 공기 압력의 변화 \n",
    "\n",
    "- 푸리에 변환을 통해 신호를 주파수별로 분해 \n",
    "\n",
    "- 오디오 신호는 시간에 따라 변하므로 구간별로 잘라 푸리에 변환\\\n",
    "\n",
    "- 스펙트로그램: 각 구간에서 주파수별로 신호의 크기를 시각화한 것"
   ]
  },
  {
   "attachments": {},
   "cell_type": "markdown",
   "metadata": {},
   "source": [
    "### Mel 스펙토그램"
   ]
  },
  {
   "cell_type": "markdown",
   "metadata": {},
   "source": [
    "- 인간은 높은 주파수보다 낮은 주파수의 차이를 더 잘 감지\n",
    "    - 500Hz와 1000Hz의 차이는 쉽게 구분\n",
    "    - 10,000Hz와 10,500Hz의 차이는 거의 구분 못함"
   ]
  },
  {
   "attachments": {},
   "cell_type": "markdown",
   "metadata": {},
   "source": [
    "- Mel 스케일: 물리적 주파수를 인간의 귀에 맞게 변환한 것 \n",
    "    - Mel은 Melody에서 따옴"
   ]
  },
  {
   "attachments": {},
   "cell_type": "markdown",
   "metadata": {},
   "source": [
    "    \n",
    "- 음성인식은 Mel 스케일로 변환된 스펙트로그램을 사용"
   ]
  },
  {
   "attachments": {},
   "cell_type": "markdown",
   "metadata": {},
   "source": [
    ">### OpenAI Whisper"
   ]
  },
  {
   "attachments": {},
   "cell_type": "markdown",
   "metadata": {},
   "source": [
    "- OpenAI Whisper은 OpenAI에서 배포한 실시간 음성인식/번역 엔진 \n",
    "    - 멀티언어 음성인식\n",
    "    - 음성 번역\n",
    "    - 언어 식별\n"
   ]
  },
  {
   "attachments": {},
   "cell_type": "markdown",
   "metadata": {},
   "source": [
    "- Transformer 모델\n",
    "    - 입력 오디오는 30초 단위로 분할\n",
    "    - 오디오를 Mel 스펙트로그램으로 변환하여 인코더에 입력\n",
    "    - 디코더는 해당 텍스트를 예측 \n",
    "    - 언어 식별 등은 특수 토큰"
   ]
  },
  {
   "attachments": {},
   "cell_type": "markdown",
   "metadata": {},
   "source": [
    "### Whisper 실습"
   ]
  },
  {
   "attachments": {},
   "cell_type": "markdown",
   "metadata": {},
   "source": [
    "- 설치\n",
    "\n",
    "```\n",
    "pip install -U openai-whisper kiwipiepy\n"
   ]
  },
  {
   "attachments": {},
   "cell_type": "markdown",
   "metadata": {},
   "source": [
    "- 임포드"
   ]
  },
  {
   "cell_type": "code",
   "execution_count": 1,
   "metadata": {},
   "outputs": [],
   "source": [
    "import unicodedata\n",
    "import tqdm\n",
    "import whisper\n",
    "from kiwipiepy import Kiwi"
   ]
  },
  {
   "attachments": {},
   "cell_type": "markdown",
   "metadata": {},
   "source": [
    "- 모델로딩"
   ]
  },
  {
   "cell_type": "code",
   "execution_count": 2,
   "metadata": {},
   "outputs": [],
   "source": [
    "model = whisper.load_model(\"small\")\n",
    "kiwi = Kiwi()\n"
   ]
  },
  {
   "attachments": {},
   "cell_type": "markdown",
   "metadata": {},
   "source": [
    "- mp3 파일 찾기\n"
   ]
  },
  {
   "cell_type": "code",
   "execution_count": 3,
   "metadata": {},
   "outputs": [],
   "source": [
    "import glob\n",
    "filelist = glob.glob('*.mp3')"
   ]
  },
  {
   "attachments": {},
   "cell_type": "markdown",
   "metadata": {},
   "source": [
    "- 음성인식"
   ]
  },
  {
   "cell_type": "code",
   "execution_count": 5,
   "metadata": {},
   "outputs": [
    {
     "name": "stderr",
     "output_type": "stream",
     "text": [
      "/Users/wksdnr123wlsdnr4816/opt/anaconda3/lib/python3.9/site-packages/whisper/transcribe.py:114: UserWarning: FP16 is not supported on CPU; using FP32 instead\n",
      "  warnings.warn(\"FP16 is not supported on CPU; using FP32 instead\")\n"
     ]
    }
   ],
   "source": [
    "#for filename in tqdm.notebook.tqdm(filelist):    <-나는 요게 안댐\n",
    "for filename in filelist:\n",
    "    result = model.transcribe(filename, language='ko') # 음성 인식 \n",
    "    sents = kiwi.split_into_sents(result['text']) # 문장 단위로 자르기 \n",
    "    text = '\\n\\n'.join(sent.text for sent in sents) # 하나로 합치기\n",
    "    \n",
    "    txt_name = filename.replace('.mp3', '.txt') # 저장할 파일명\n",
    "    txt_name = unicodedata.normalize('NFC', txt_name) # NFC로 노말라이즈 \n",
    "    with open(txt_name, \"w\") as f:\n",
    "        f.write(text)"
   ]
  },
  {
   "attachments": {},
   "cell_type": "markdown",
   "metadata": {},
   "source": [
    "<font color=\"#green\"><p>\n",
    "## 웹 스크래핑"
   ]
  },
  {
   "attachments": {},
   "cell_type": "markdown",
   "metadata": {},
   "source": [
    "### 인터넷"
   ]
  },
  {
   "attachments": {},
   "cell_type": "markdown",
   "metadata": {},
   "source": [
    "- 전지구적 컴퓨터 네트워크의 하나\n",
    "\n",
    "- WWW, 이메일, FTP, 뉴스그룹, IRC 등의 서비스로 구성"
   ]
  },
  {
   "attachments": {},
   "cell_type": "markdown",
   "metadata": {},
   "source": [
    "### 월드 와이드 웹(World Wide Web)"
   ]
  },
  {
   "attachments": {},
   "cell_type": "markdown",
   "metadata": {},
   "source": [
    "- 하이퍼텍스트 중심의 인터넷 서비스\n",
    "\n",
    "- 웹 브라우저라는 전용 프로그램을 사용\n",
    "    - 인터넷 익스플로러, 크롬, 파이어폭스, 사파리 등\n",
    "<br>\n",
    "<br>\n",
    "- HTTP: WWW에서 사용하는 하이퍼 텍스트 전송 프로토콜\n",
    "\n",
    "- URL: WWW에서 사용하는 주소 표시 방법"
   ]
  },
  {
   "attachments": {},
   "cell_type": "markdown",
   "metadata": {},
   "source": [
    "### HTTP의 원리"
   ]
  },
  {
   "attachments": {},
   "cell_type": "markdown",
   "metadata": {},
   "source": [
    "- 서버(server)와 클라이언트(client)로 구성\n",
    "    - 서버: 구글, 페이스북, 네이터, 다음 등 서비스를 제공하는 측\n",
    "    - 클라이언트: 일반 사용자"
   ]
  },
  {
   "attachments": {},
   "cell_type": "markdown",
   "metadata": {},
   "source": [
    "### 요청과 응답"
   ]
  },
  {
   "attachments": {},
   "cell_type": "markdown",
   "metadata": {},
   "source": [
    "- 클라이언트가 요청(request)을 보내면 서버가 응답(response)\n",
    "\n",
    "- 웹 브라우저에서 주소를 입력하거나 링크를 클릭하면 요청 전송"
   ]
  },
  {
   "attachments": {},
   "cell_type": "markdown",
   "metadata": {},
   "source": [
    "### HTTP Method"
   ]
  },
  {
   "attachments": {},
   "cell_type": "markdown",
   "metadata": {},
   "source": [
    "- GET: 서버의 자원(resurse)을 가져올떄\n",
    "    - 목록 보기\n",
    "    - 글 보기\n",
    "    - 다운로드"
   ]
  },
  {
   "attachments": {},
   "cell_type": "markdown",
   "metadata": {},
   "source": [
    "- POST: 서버에 자원을 추가할 때\n",
    "    - 글 쓰기\n",
    "    - 업로드"
   ]
  },
  {
   "attachments": {},
   "cell_type": "markdown",
   "metadata": {},
   "source": [
    "- 구분이 잘 지켜지지 않음\n",
    "\n",
    "- PUT, DELETE등 method도 있으나 웹 브라우저는 지원X"
   ]
  },
  {
   "attachments": {},
   "cell_type": "markdown",
   "metadata": {},
   "source": [
    "### URL"
   ]
  },
  {
   "attachments": {},
   "cell_type": "markdown",
   "metadata": {},
   "source": [
    "- 인터넷 주소체계\n",
    "\n",
    "- https://movie.daum.net/moviedb/grade?movieId=12932&page=2\\\n",
    "scheme|____ host ___ | ___ path ___ | _____ query_____\n",
    "\n",
    "- scheme: 통신 방식\n",
    "\n",
    "- host: 서버\n",
    "\n",
    "- path: 서버에서 자원의 위치\n",
    "\n",
    "- query: 추가 정보. 변수=값 형태. &로 구분"
   ]
  },
  {
   "attachments": {},
   "cell_type": "markdown",
   "metadata": {},
   "source": [
    "### 절대 주소와 상대 주소"
   ]
  },
  {
   "attachments": {},
   "cell_type": "markdown",
   "metadata": {},
   "source": [
    "- 상대 주소: 현재 주소(URL)를 기준으로 한 상대적 주소\n",
    "\n",
    "- 예) 현재 http://test.com/first 에 접속해 있을 경우\n",
    "\n",
    "- 상대주소 /second = 절대주소 http://test.com/second\n",
    "\n",
    "- 실제로 접속할 때는 절대주소로 변환해야 한다"
   ]
  },
  {
   "attachments": {},
   "cell_type": "markdown",
   "metadata": {},
   "source": [
    "### requsets 실습"
   ]
  },
  {
   "attachments": {},
   "cell_type": "markdown",
   "metadata": {},
   "source": [
    "- 위키백과에 요청을 보내고 res 변수에 웹사이트 응답을 받아옵니다."
   ]
  },
  {
   "cell_type": "code",
   "execution_count": 2,
   "metadata": {},
   "outputs": [],
   "source": [
    "import requests\n",
    "url = 'https://ko.wikipedia.org/wiki/HTML'\n",
    "res = requests.get(url)\n"
   ]
  },
  {
   "attachments": {},
   "cell_type": "markdown",
   "metadata": {},
   "source": [
    "- 코드 실행결과로 Response[200]이 출력됩니다."
   ]
  },
  {
   "cell_type": "code",
   "execution_count": 3,
   "metadata": {},
   "outputs": [
    {
     "data": {
      "text/plain": [
       "<Response [200]>"
      ]
     },
     "execution_count": 3,
     "metadata": {},
     "output_type": "execute_result"
    }
   ],
   "source": [
    "res"
   ]
  },
  {
   "attachments": {},
   "cell_type": "markdown",
   "metadata": {},
   "source": [
    "### HTTP 상태코드"
   ]
  },
  {
   "attachments": {},
   "cell_type": "markdown",
   "metadata": {},
   "source": [
    "- 세자리수"
   ]
  },
  {
   "attachments": {},
   "cell_type": "markdown",
   "metadata": {},
   "source": [
    "- 2XX: Succes ->성공\n",
    "    - 200 OK\n",
    "\n",
    "\n"
   ]
  },
  {
   "attachments": {},
   "cell_type": "markdown",
   "metadata": {},
   "source": [
    "- 3XX: Redirection -> 이사갔음\n",
    "    - 302 Found"
   ]
  },
  {
   "attachments": {},
   "cell_type": "markdown",
   "metadata": {},
   "source": [
    "- 4XX: Client Error -> 사용자 오류\n",
    "    - 400 Bad Request\n",
    "    - 403 Forbidden\n",
    "    - 404 Not Found -> 주소 잘못씀\n",
    "    - Method Not Allowed"
   ]
  },
  {
   "attachments": {},
   "cell_type": "markdown",
   "metadata": {},
   "source": [
    "- 5XX: Server Error -> 서버오류"
   ]
  },
  {
   "attachments": {},
   "cell_type": "markdown",
   "metadata": {},
   "source": [
    "### 개발자 도구\n"
   ]
  },
  {
   "attachments": {},
   "cell_type": "markdown",
   "metadata": {},
   "source": [
    "- 웹 브라우저에서 웹의 통신 내용과 웹 페이지의 실제 내용들을 보고 다룰 수 있는 도구"
   ]
  },
  {
   "attachments": {},
   "cell_type": "markdown",
   "metadata": {},
   "source": [
    "<font color=\"#green\"><p>\n",
    "## HTML(Hyper Text Markup Language)"
   ]
  },
  {
   "attachments": {},
   "cell_type": "markdown",
   "metadata": {},
   "source": [
    "### HTML(Hyper Text Markup Language)"
   ]
  },
  {
   "attachments": {},
   "cell_type": "markdown",
   "metadata": {},
   "source": [
    "- mark up\n",
    "    - 원래의미: 빨간 펜으로 원고에 표시하는 것\n",
    "    - 확장된 의미: 텍스트의 의미, 표현 방법 등을 표시하는 것"
   ]
  },
  {
   "attachments": {},
   "cell_type": "markdown",
   "metadata": {},
   "source": [
    "- HTML:\n",
    "    - 웹에서 사용하는 하이퍼텍스트에 마크업을 하기 위한 언어 또는 파일 형식\n",
    "    - 웹 브라우저의 기본 기능: HTTP요청 및 응답, HTML 보여주기"
   ]
  },
  {
   "attachments": {},
   "cell_type": "markdown",
   "metadata": {},
   "source": [
    "### 태그"
   ]
  },
  {
   "attachments": {},
   "cell_type": "markdown",
   "metadata": {},
   "source": [
    "``` HTML is a <em>markup</em> language```\n",
    "\n",
    "- 태크(tag): HTML에서 마크업을 하기 위한 표기법\n",
    "\n",
    "- <태그이름>의 형식을 사용\n",
    "\n",
    "- 여는 태그와 닫는 태그가 한 쌍을 이룸\n",
    "\n",
    "- 닫는 태그는 </태그이름>의 형식\n",
    "\n",
    "- em은 강조(emphasis)하라는 뜻"
   ]
  },
  {
   "attachments": {},
   "cell_type": "markdown",
   "metadata": {},
   "source": [
    "### 요소(element)"
   ]
  },
  {
   "attachments": {},
   "cell_type": "markdown",
   "metadata": {},
   "source": [
    "- 여는 태그와 닫는 태그로 감싸인 하나의 영역\n",
    "\n",
    "- 요소 안에는 다른 요소가 포함될 수 있음\n",
    "\n",
    "``` <p>HTML is a <em>markup</em> language.<p> ```\n",
    "\n",
    "- p태그는 문단(paragraph)라는 뜻\n"
   ]
  },
  {
   "attachments": {},
   "cell_type": "markdown",
   "metadata": {},
   "source": [
    "### 속성(attribute)"
   ]
  },
  {
   "attachments": {},
   "cell_type": "markdown",
   "metadata": {},
   "source": [
    "- 요소가 가지는 속성은 여는 태그에 표시\n",
    "```\n",
    "<a href=\"https://google.com\">search<a>\n",
    "```\n",
    "- a는 링크가 걸린 위치를 표시(anchor). 보통 파란색 글꼴에 밑줄로 표시\n",
    "\n",
    "- herf: 링크를 클릭했을 떄 이동할 주소"
   ]
  },
  {
   "attachments": {},
   "cell_type": "markdown",
   "metadata": {},
   "source": [
    "#### HTML의 구조"
   ]
  },
  {
   "attachments": {},
   "cell_type": "markdown",
   "metadata": {},
   "source": [
    "- HTML은 최상위 요소인 < html >로 시작\n",
    "\n",
    "- < html >은 < head >와 < body >를 가짐\n",
    "\n",
    "- < head >: 문서에 대한 여러 가지 정보(제목, 요약, 서식 등)\n",
    "\n",
    "- < body >: 문서의 본문 내용"
   ]
  },
  {
   "attachments": {},
   "cell_type": "markdown",
   "metadata": {},
   "source": [
    "### HTML요소를 선택하는 방법"
   ]
  },
  {
   "attachments": {},
   "cell_type": "markdown",
   "metadata": {},
   "source": [
    "- CSS선택자(selector)\n",
    "    - HTML문서의 서식을 지정하기 위한 용도\n",
    "    - 짧고 간단\n",
    "    - 대부분의 경우에는 충분함"
   ]
  },
  {
   "attachments": {},
   "cell_type": "markdown",
   "metadata": {},
   "source": [
    "- XPath\n",
    "    - 복잡한 조건으로 노드를 선택할 때 사용"
   ]
  },
  {
   "attachments": {},
   "cell_type": "markdown",
   "metadata": {},
   "source": [
    "### 태그이름"
   ]
  },
  {
   "attachments": {},
   "cell_type": "markdown",
   "metadata": {},
   "source": [
    "- 태그 이름으로 가리킬 경우 해당 이름의 태그를 가진 모든 노드를 찾음\n",
    "\n",
    "- CSS선택자 a\n"
   ]
  },
  {
   "attachments": {},
   "cell_type": "markdown",
   "metadata": {},
   "source": [
    "```\n",
    "<body>\n",
    "<a href=\"https://google.com>구글</a>  <-\n",
    "<p>안녕하세요</p>\n",
    "</body>\n",
    "```"
   ]
  },
  {
   "attachments": {},
   "cell_type": "markdown",
   "metadata": {},
   "source": [
    "### 클래스"
   ]
  },
  {
   "attachments": {},
   "cell_type": "markdown",
   "metadata": {},
   "source": [
    "- 태그의 종류를 지정한 것, 같은 클래스의 모든 노드를 찾음\n",
    "\n",
    "- CSS 선택자 ***.contnet***\n",
    "```\n",
    "<div>hello</div>\n",
    "<div class=\"content\">world</div>  <-\n",
    "```"
   ]
  },
  {
   "attachments": {},
   "cell_type": "markdown",
   "metadata": {},
   "source": [
    "### 여러 클래스를 가진 경우"
   ]
  },
  {
   "attachments": {},
   "cell_type": "markdown",
   "metadata": {},
   "source": [
    "- 클래스가 여럿인 경우\n",
    "    - HTML에서는 띄어쓰기\n",
    "    - CSS선택자에서는 붙여서 표시"
   ]
  },
  {
   "attachments": {},
   "cell_type": "markdown",
   "metadata": {},
   "source": [
    "- CSS 선택자 ***.content.text***\n",
    "```\n",
    "<div>hello</div>\n",
    "<div class=\"content text\">world</div>  <-\n",
    "```"
   ]
  },
  {
   "attachments": {},
   "cell_type": "markdown",
   "metadata": {},
   "source": [
    "- 여러 개 중 하나만 선택할 수도 있음\n",
    "\n",
    "- CSS선택자 ***.content***\n",
    "```\n",
    "<div>hello</div>\n",
    "<div class=\"content text\">world</div>  <-\n",
    "```\n",
    "\n",
    "보통 반복적으로 나눌때"
   ]
  },
  {
   "attachments": {},
   "cell_type": "markdown",
   "metadata": {},
   "source": [
    "### 아이디"
   ]
  },
  {
   "attachments": {},
   "cell_type": "markdown",
   "metadata": {},
   "source": [
    "- 노드의 고유한 아이디. 한 페이지에 하나만 존재\n",
    "- ...하는 것이 원칙이지만 지켜지지 않는 경우도 많음\n",
    "\n",
    "- CSS 선택자 ***#content***\n",
    "\n",
    "```\n",
    "<div>hello</div>\n",
    "<div id=\"content\">world</div>  <-\n",
    "```\n",
    "\n",
    "보통 전체 웹사이트에서 한번 나올때\n"
   ]
  },
  {
   "attachments": {},
   "cell_type": "markdown",
   "metadata": {},
   "source": [
    "### 태그.클래스"
   ]
  },
  {
   "attachments": {},
   "cell_type": "markdown",
   "metadata": {},
   "source": [
    "- 태그와 클래스를 한 번에 지정하려면 붙여서 표시\n",
    "\n",
    "- CSS 선택자 ***div.content***\n",
    "```\n",
    "<div>hello</div>\n",
    "<span class=\"content\">beautiful</div>  <- X\n",
    " <div class=\"content text\">world</div>  <- O\n",
    "```\n"
   ]
  },
  {
   "attachments": {},
   "cell_type": "markdown",
   "metadata": {},
   "source": [
    "### 포함관계"
   ]
  },
  {
   "attachments": {},
   "cell_type": "markdown",
   "metadata": {},
   "source": [
    "- 어떤 노드 아래 포함된 노드를 가리키려면 띄어쓰기\n",
    "\n",
    "- CSS선택자 ***.content h1***\n",
    "```\n",
    "<div>hello</div>\n",
    "<div class=\"content\">\n",
    "  <h1>World</h1>      <-\n",
    "</div>\n",
    "```"
   ]
  },
  {
   "attachments": {},
   "cell_type": "markdown",
   "metadata": {},
   "source": [
    "### python에서 css선택자 사용"
   ]
  },
  {
   "attachments": {},
   "cell_type": "markdown",
   "metadata": {},
   "source": [
    "- 설치"
   ]
  },
  {
   "cell_type": "code",
   "execution_count": 4,
   "metadata": {},
   "outputs": [],
   "source": [
    "#pip install cssselect"
   ]
  },
  {
   "cell_type": "markdown",
   "metadata": {},
   "source": [
    "- 응답의 텍스트를 처리"
   ]
  },
  {
   "cell_type": "code",
   "execution_count": 5,
   "metadata": {},
   "outputs": [],
   "source": [
    "import lxml.html\n",
    "root = lxml.html.fromstring(res.text)"
   ]
  },
  {
   "attachments": {},
   "cell_type": "markdown",
   "metadata": {},
   "source": [
    "- CSS선택자를 이용하여 title 태그를 선택"
   ]
  },
  {
   "cell_type": "code",
   "execution_count": 6,
   "metadata": {},
   "outputs": [],
   "source": [
    "ts = root.cssselect('title')"
   ]
  },
  {
   "cell_type": "markdown",
   "metadata": {},
   "source": [
    "- 선택된 요소의 텍스트를 추출"
   ]
  },
  {
   "cell_type": "code",
   "execution_count": 7,
   "metadata": {},
   "outputs": [
    {
     "data": {
      "text/plain": [
       "'HTML - 위키백과, 우리 모두의 백과사전'"
      ]
     },
     "execution_count": 7,
     "metadata": {},
     "output_type": "execute_result"
    }
   ],
   "source": [
    "ts[0].text_content()"
   ]
  },
  {
   "attachments": {},
   "cell_type": "markdown",
   "metadata": {},
   "source": [
    "### 다음 뉴스 스크래핑: 검색결과"
   ]
  },
  {
   "attachments": {},
   "cell_type": "markdown",
   "metadata": {},
   "source": [
    "- 다음 포털에서 뉴스를 검색하고, 그 결과의 주소를 url 변수에 저장\n",
    "\n",
    "- 기사 검색결과의 첫번째 페이지 이외에도 다른 페이지의 검색결과를 받아오가 위하여, 주소를 변경\n",
    "\n",
    "- url 변수에서 페이지 번호를 의미하는 &p=1 을 &p={}와 같이 변경\n",
    "\n"
   ]
  },
  {
   "cell_type": "code",
   "execution_count": 8,
   "metadata": {},
   "outputs": [],
   "source": [
    "url = ('https://search.daum.net/search?w=news&nil_search=btn&DA=NTB&enc=utf8&cluster=y&cluster_page=1&q=빅데이터&p={}')"
   ]
  },
  {
   "cell_type": "markdown",
   "metadata": {},
   "source": [
    "### 다음 뉴스 스크래핑: 링크선택"
   ]
  },
  {
   "attachments": {},
   "cell_type": "markdown",
   "metadata": {},
   "source": [
    "- 주소에 접속\n",
    "    - url에 저장된 주소에 요청을 보내고 응답을 받아와 res에 저장"
   ]
  },
  {
   "cell_type": "code",
   "execution_count": 9,
   "metadata": {},
   "outputs": [],
   "source": [
    "res = requests.get(url.format(1))"
   ]
  },
  {
   "attachments": {},
   "cell_type": "markdown",
   "metadata": {},
   "source": [
    "- HTML 처리"
   ]
  },
  {
   "cell_type": "code",
   "execution_count": 10,
   "metadata": {},
   "outputs": [],
   "source": [
    "root = lxml.html.fromstring(res.text)"
   ]
  },
  {
   "cell_type": "markdown",
   "metadata": {},
   "source": [
    "- 링크 선택"
   ]
  },
  {
   "cell_type": "code",
   "execution_count": 11,
   "metadata": {},
   "outputs": [],
   "source": [
    "links = root.cssselect('span.cont_info a.f_nb')"
   ]
  },
  {
   "cell_type": "markdown",
   "metadata": {},
   "source": [
    "### 다음 뉴스 스크래핑: 텍스트와 주소 추출"
   ]
  },
  {
   "attachments": {},
   "cell_type": "markdown",
   "metadata": {},
   "source": [
    "- 텍스트 추출"
   ]
  },
  {
   "cell_type": "code",
   "execution_count": 12,
   "metadata": {},
   "outputs": [
    {
     "data": {
      "text/plain": [
       "'아시아경제'"
      ]
     },
     "execution_count": 12,
     "metadata": {},
     "output_type": "execute_result"
    }
   ],
   "source": [
    "link = links[0]\n",
    "link.text_content()"
   ]
  },
  {
   "cell_type": "markdown",
   "metadata": {},
   "source": [
    "- a 태그는 링그\n",
    "    - href 속성 값은 링크된 주소"
   ]
  },
  {
   "cell_type": "code",
   "execution_count": 13,
   "metadata": {},
   "outputs": [
    {
     "data": {
      "text/plain": [
       "'https://v.daum.net/channel/90/home'"
      ]
     },
     "execution_count": 13,
     "metadata": {},
     "output_type": "execute_result"
    }
   ],
   "source": [
    "link.attrib['href']"
   ]
  },
  {
   "attachments": {},
   "cell_type": "markdown",
   "metadata": {},
   "source": [
    "- 링크의 내용을 출력해보면 \"다음뉴스\"와 언론사 이름이 섞여 있음"
   ]
  },
  {
   "cell_type": "code",
   "execution_count": 14,
   "metadata": {},
   "outputs": [
    {
     "name": "stdout",
     "output_type": "stream",
     "text": [
      "아시아경제\n",
      "다음뉴스\n",
      "뉴스1\n",
      "다음뉴스\n",
      "뉴시스\n",
      "다음뉴스\n",
      "연합뉴스\n",
      "다음뉴스\n",
      "의학신문사\n",
      "머니투데이\n",
      "다음뉴스\n",
      "파이낸셜뉴스\n",
      "다음뉴스\n",
      "이데일리\n",
      "다음뉴스\n",
      "브레이크뉴스\n",
      "헤럴드경제\n",
      "다음뉴스\n",
      "머니투데이\n",
      "다음뉴스\n",
      "대한경제\n",
      "뉴스1\n",
      "다음뉴스\n",
      "전자신문\n",
      "다음뉴스\n",
      "정보통신신문\n",
      "노컷뉴스\n",
      "다음뉴스\n",
      "데일리팜\n",
      "UPI 뉴스\n",
      "뉴스1\n",
      "다음뉴스\n"
     ]
    }
   ],
   "source": [
    "for link in links:\n",
    "    print(link.text)"
   ]
  },
  {
   "attachments": {},
   "cell_type": "markdown",
   "metadata": {},
   "source": [
    "### 다음 뉴스 스크래핑: 기사 주소 수집"
   ]
  },
  {
   "attachments": {},
   "cell_type": "markdown",
   "metadata": {},
   "source": [
    "- 기사검색결과의 1페이지 주소부터 2페이지 주소까지 접속하여 개별 신문 기사 주소를 추출"
   ]
  },
  {
   "cell_type": "code",
   "execution_count": 15,
   "metadata": {},
   "outputs": [],
   "source": [
    "href = []\n",
    "for page in range(1, 3):\n",
    "    res = requests.get(url.format(page))\n",
    "    root = lxml.html.fromstring(res.text)\n",
    "    for link in root.cssselect('span.cont_info a.f_nb'):\n",
    "        if link.text == '다음뉴스':\n",
    "            href.append(link.attrib['href'])"
   ]
  },
  {
   "cell_type": "code",
   "execution_count": 16,
   "metadata": {},
   "outputs": [
    {
     "data": {
      "text/plain": [
       "['http://v.daum.net/v/20230410084235462',\n",
       " 'http://v.daum.net/v/20230412161935213',\n",
       " 'http://v.daum.net/v/20230412151726487',\n",
       " 'http://v.daum.net/v/20230412152848977',\n",
       " 'http://v.daum.net/v/20230412120032643',\n",
       " 'http://v.daum.net/v/20230412120018593',\n",
       " 'http://v.daum.net/v/20230412120058710',\n",
       " 'http://v.daum.net/v/20230410115943795',\n",
       " 'http://v.daum.net/v/20230410155455576',\n",
       " 'http://v.daum.net/v/20230411111208055',\n",
       " 'http://v.daum.net/v/20230411135402848',\n",
       " 'http://v.daum.net/v/20230411143006236',\n",
       " 'http://v.daum.net/v/20230411071008420',\n",
       " 'http://v.daum.net/v/20230411060105624',\n",
       " 'http://v.daum.net/v/20230409102018554',\n",
       " 'http://v.daum.net/v/20230410220305072',\n",
       " 'http://v.daum.net/v/20230409092403747',\n",
       " 'http://v.daum.net/v/20230412151804509',\n",
       " 'http://v.daum.net/v/20230411132357831',\n",
       " 'http://v.daum.net/v/20230412132017353',\n",
       " 'http://v.daum.net/v/20230410112024288',\n",
       " 'http://v.daum.net/v/20230410180712497',\n",
       " 'http://v.daum.net/v/20230406135218887']"
      ]
     },
     "execution_count": 16,
     "metadata": {},
     "output_type": "execute_result"
    }
   ],
   "source": [
    "href"
   ]
  },
  {
   "attachments": {},
   "cell_type": "markdown",
   "metadata": {},
   "source": [
    "### 다음 뉴스 스크래핑: 기사 본문 스크랩"
   ]
  },
  {
   "attachments": {},
   "cell_type": "markdown",
   "metadata": {},
   "source": [
    "- 기사 분문은 HTML의 class태그의 .article_view에 있습니다"
   ]
  },
  {
   "cell_type": "code",
   "execution_count": 20,
   "metadata": {},
   "outputs": [
    {
     "data": {
      "application/vnd.jupyter.widget-view+json": {
       "model_id": "e99527b1acec43d3b622ef8ff9286e01",
       "version_major": 2,
       "version_minor": 0
      },
      "text/plain": [
       "  0%|          | 0/23 [00:00<?, ?it/s]"
      ]
     },
     "metadata": {},
     "output_type": "display_data"
    }
   ],
   "source": [
    "import tqdm.notebook\n",
    "articles = [] # 기사 본문을 저장할 빈 리스트\n",
    "for h in tqdm.notebook.tqdm(href):\n",
    "    res = requests.get(h)\n",
    "    root = lxml.html.fromstring(res.text)\n",
    "    for article in root.cssselect('.article_view'):\n",
    "        articles.append(article.text_content())"
   ]
  },
  {
   "cell_type": "code",
   "execution_count": 22,
   "metadata": {},
   "outputs": [
    {
     "data": {
      "text/plain": [
       "[' \\n         \\n          삼성생명이 보험 가입 승인 여부를 판단하는 언더라이팅 과정에 빅데이터를 적극 활용한다. 기존의 까다로운 절차가 간소해져 고령자, 유병자도 보다 간편하게 가입할 수 있을 것으로 전망된다.\\n          삼성생명은 빅데이터를 활용한 \\'가상 언더라이팅\\'을 도입했다고 10일 밝혔다. 프랑스 재보험사인 SCOR사가 개발한 빅데이터 분석 프로그램으로 삼성생명의 보유계약 정보를 활용해 고객의 고혈압, 갑상선 질환 등 기왕력별 인수 여부를 간편하게 예측하는 식이다. 이를 위해 삼성생명은 SCOR사와 6개월간 공동 프로젝트를 실시한 뒤 그 결과를 간편보험 심사에 적용했다.\\n          삼성생명의 기존 언더라이팅은 인수한 피보험자의 정보만 확인할 수 있어서 인수 이력이 없는 질병들의 심사 기준 완화에 어려움이 있었다. 하지만 가상 언더라이팅 도입으로 그간 인수이력이 없었던 질병에 대한 판단이 가능해졌다.\\n          삼성생명은 보유한 10년 치 실손의료보험 계약 데이터를 바탕으로 가상 상황을 구축하고 질병별로 예상되는 사안들을 산출했다. 또한 각종 예측기법을 정교화해 기존 기준을 유지하면서 인수 가능한 질병을 확대했다는 설명이다. 향후 가상 언더라이팅 시스템을 간편상품 외에 일반상품까지 확대 적용할 계획이다.\\n          \\n           삼성생명 관계자는 \"고객의 가입 편의성 확대 및 언더라이팅 정교화를 위해 디지털혁신을 지속해왔다\"며 \"이번 가상 언더라이팅 도입으로 유병자, 고령 고객에게 더 많은 가입 기회를 제공할 수 있을 것\"이라고 했다.\\n          \\n          \\n           \\n          \\n          이민우 기자 letzwin@asiae.co.kr\\n          \\n        ',\n",
       " ' \\n         \\n          \\n           \\n           \\n            왼쪽부터 울산대학교병원 박경민 빅데이터 센터장,울산연구원 박재영 빅데이터 센터장, 울산광역시 이지호 환경보건센터장이 12일 오전 울산대병원 별관에서 ‘환경보건 빅데이터 구축’을 위한 업무협약을 체결하고 있다. (울산대학교병원 제공)\\n           \\n          \\n          (울산=뉴스1) 김지혜 기자 = 울산대학교병원은 울산광역시 환경보건센터, 울산연구원 빅데이터센터, 울산대학교병원 빅데이터센터가 ‘환경보건 빅데이터 구축’을 위한 업무협약을 체결했다고 12일 밝혔다.\\n          이날 협약식은 울산시 환경보건센터 이지호 센터장, 울산연구원 박재영 센터장, 울산대학교병원 빅데이터센터 박경민 센터장 등 관계자들이 참여한 가운데 개최됐다.\\n          이들 세 기관은 환경보건 데이터 구축뿐만 아니라, 향후 구축될 빅데이터를 활용해 지역 환경보건문제 현안에 대한 환경보건 정책 지원방안을 제시할 계획이다.\\n          또한 기존에 구축된 빅데이터를 활용해 환경보건 취약지역 및 건강영향 평가도 수행하여 울산 특성에 맞춘 환경 위험요인과 질병의 상관관계도 분석연구한다.\\n          이지호 울산광역시 환경보건센터장은 “세 기관은 시민건강 보호를 위해 유기적인 협력과 환경보건 빅데이터를 구축을 강화하고자 한다”며 “환경보건 빅데이터를 적극적으로 활용해 건강안전망 확보, 건강증진을 위해 최선을 다하겠다”고 밝혔다.\\n          joojiok@news1.kr \\n          \\n        ',\n",
       " \" \\n         \\n          \\n           \\n          \\n           [울산=뉴시스] 박수지 기자 = 울산시 환경보건센터와 울산연구원 빅데이터센터, 울산대학교병원 빅데이터센터는 12일 울산대병원 별관에서 '환경보건 빅데이터 구축'을 위한 업무협약을 체결했다. \\n          이날 협약식에는 울산시 환경보건센터 이지호 센터장, 울산연구원 박재영 센터장, 울산대학교병원 빅데이터센터 박경민 센터장 등 관계자가 참석했다.\\n          세 기관은 협약에 따라 유기적인 협력을 통해 울산지역 환경보건 빅데이터를 구축할 계획이다. \\n          향후 구축된 빅데이터를 활용해 지역 환경보건문제 현안에 대한 신속한 파악과 적절한 대응을 위한 환경보건 정책 지원방안을 제시한다.\\n          또한 환경, 건강, 사회경제 등 기존에 구축된 빅데이터를 활용해 환경보건 취약지역 및 건강영향 평가도 수행한다. \\n          이를 통해 울산 특성에 맞춘 환경 위험요인과 질병의 상관관계를 분석연구한다.\\n          ◇북구 염포양정도서관, RFID 시스템 구축 위한 임시 휴관\\n          울산시 북구 염포양정도서관은 RFID 시스템 구축을 위해 오는 18일부터 30일까지 임시 휴관한다고 12일 밝혔다.\\n          무선주파수를 이용해 ID를 식별하는 무선인식시스템인 RFID 시스템은 바코드에서 진화된 '전자태그' 개념이다. \\n          기존 바코드 인식방식이 도서 단권만 인식하던 것과 달리 5권 이상의 도서를 한꺼번에 처리할 수 있어 도서 대출반납서비스 이용 대기시간이 크게 줄어드는 장점이 있다.\\n          염포양정도서관은 RFID 시스템 구축과 함께 장서 점검과 이용자 편의를 위한 시설 설치 등도 진행할 예정이다.\\n          도서열람과 대출반납은 16일까지만 가능하다. \\n          시스템 구축 기간 이용자 편의를 위해 무인도서반납함을 운영한다. \\n          단, 상호대차서비스와 예약도서 신청서비스 이용은 불가하다.\\n          봄학기 교육문화 프로그램 성인독서회 및 북스타트 프로그램 등은 정상 운영된다.\\n          ☞공감언론 뉴시스 parksj@newsis.com \\n          \\n        \",\n",
       " ' \\n         \\n          \\n           \\n           \\n            울산 환경보건 빅데이터 구축 협약 [울산대병원 제공. 재판매 및 DB 금지]\\n           \\n          \\n          (울산=연합뉴스) 김근주 기자 = 울산시 환경보건센터와 울산연구원 빅데이터센터, 울산대학교병원 빅데이터센터는 12일 울산대병원 별관에서 \\'환경보건 빅데이터 구축\\'을 위한 업무협약을 체결했다.\\n          세 기관은 빅데이터를 활용해 지역 환경보건 현안을 신속히 파악하고, 적절한 대응을 위한 정책 지원 방안을 제시할 계획이다.\\n          또 환경, 건강, 사회경제 등 기존 구축된 빅데이터를 활용해 환경보건 취약지역과 건강 영향 평가를 수행하고 지역 특성에 맞춘 환경 위험 요인과 질병 상관관계를 분석한다.\\n          시 환경보건센터 관계자는 \"향후 환경보건 빅데이터를 적극적으로 활용해 환경보건 안전망을 확보하고 시민 건강증진을 위해 최선을 다하겠다\"고 말했다.\\n          canto@yna.co.kr\\n          ▶제보는 카톡 okjebo\\n          \\n        ',\n",
       " ' \\n         \\n          [머니투데이 이창명 기자] 행안부 통합데이터센터, 병역면탈 단속 등 5개 분야 12개 과제 선정해 정부 정책결정 지원\\n          \\n           \\n           \\n            [수원=뉴시스] 김종택 기자 = 2023년도 첫 병역판정검사가 열린 1일 경기도 수원시 팔달구 경인지방병무청에서 검사 대상자들이 신체 검사를 받고 있다. (공동취재사진) 2023.02.01.\\n           \\n          \\n          정부가 빅데이터를 활용해 병역면탈 의심자를 찾아낸다.\\n          행정안전부 통합데이터분석센터는 국민생활과 밀접한 사회 문제를 해결하고 정부 정책결정을 지원하기 위해 병역면탈 단속 등 5개 분야 12건의 데이터 분석과제를 선정해 이같이 추진한다고 12일 밝혔다.\\n          통합데이터분석센터는 이달 중 외교부와 병무청·부산시 등 수요기관과 함께 데이터 수집 및 활용방안을 구체화한 뒤 연말까지 데이터 분석과 모델 개발을 진행할 방침이다.\\n          센터는 우선 불법 병역면탈 예방과 단속을 위한 분석모델을 개발한다. 이를 통해 출입국 기록과 각종 병원진료 기록, 고용보험 가입이력 등을 토대로 병역판정 이후에도 추적관리를 통해 병역면탈 시도가 있었는지 확인에 나선다.\\n          생활 필수의약품 수급 불안 상황을 예방하기 위한 분석모델과 산업재해 취약 지수 예측 모형 개발도 추진한다. 신종플루와 코로나19 등 감염병 유행 상황에서 필수의약품의 수급 불안이 발생했던 경험을 바탕으로 국민수요가 큰 필수의약품의 평상시 수급 현황을 점검(모니터링)하고 이에 기초해 수요를 예측해 물량 부족 상황이 발생하지 않도록 지원한다. 또 지역별 산재보험 적용 사업장의 사고질병 유형, 산업재해 발생 변화 등을 분석하고 지수화해 결과를 외부에서 활용 가능하도록 개방한다.\\n          센터는 또 재난현장의 골든타임 확보에 필요한 소방차 출동 최적경로 분석 및 저수지 수위 변화 예측에 나선다. 시간대별 주정차 단속현황, 도로별 교통량 및 이동시간 등을 분석해 개선 조치가 필요한 도로 내 장애 요소를 발굴하고 최적의 이동 경로를 제안한다. 최근 남부 지방의 극심한 가뭄으로 많은 피해가 발생하는 상황과 관련 강수량을 기반으로 저수지 수위 변화를 예측하는 과제도 함께 추진한다. \\n          아울러 신규창업이나 업종변경을 고려하는 소상공인들에게 상권별로 적합 업종을 제시하고 상권 주변 인구특성과 소비성향 등을 종합적으로 분석해 상권별 적합 업종을 지수 형태로 제시한다. 이밖에 지역내 최적의 대중교통 노선을 파악하고, 시간대별 대중교통 수요 및 이동경로, 교통수단별 이용자 규모 등을 분석해 주민들의 편익을 최대화할 수 있는 대중교통 노선을 제안할 예정이다.\\n          이용석 행안부 공공데이터정책관은 \"과학적 데이터 분석을 통해 정부정책이 국민의 마음에 더욱 가까이 다가설 수 있도록 지원하겠다\"면서 \"정부 내에서 데이터분석과 활용이 일상화될 수 있도록 맞춤형 분석환경 제공, 분석 역량 강화 등 입체적 지원을 시행해 나가겠다\"고 말했다.\\n          이창명 기자 charming@mt.co.kr\\n          ⓒ 머니투데이 & mt.co.kr, 무단 전재 및 재배포 금지\\n          \\n        ',\n",
       " ' \\n         \\n          \\n           \\n           \\n            2023년도 첫 병역판정검사가 열린 지난 2월 1일 경기도 수원시 팔달구 경인지방병무청에서 검사 대상자들이 신체 검사를 받기 위해 줄 서 대기하고 있다. /사진=뉴시스\\n           \\n          \\n          \\n           [파이낸셜뉴스] 정부가 병역면탈 의심자를 찾아내기 위해 빅데이터를 활용한 데이터 분석을 추진한다. \\n          \\n          행정안전부 통합데이터분석센터는 국민생활과 밀접한 사회 문제를 해결하기 위해 5개 분야 12건의 데이터 분석과제를 선정, 데이터 분석을 추진한다고 12일 밝혔다. \\n          5대 분야 12개 과제는 △공정사회(1개 과제) △보건·의료·근로(3개 과제) △국민안전(4개 과제) △지역경제(2개 과제) △국민편의(2개 과제) 등으로 구성됐다. \\n          공정사회 분야에서는 불법 병역면탈 예방과 단속을 위한 분석모델 개발이 이뤄진다. 출입국 기록, 각종 병원진료 기록, 고용보험 가입이력 등을 토대로 병역판정 이후에도 추적관리를 통해 병역면탈 시도가 있었는지를 확인하는 것이다. \\n          보건·의료·근로 분야에서는 생활 필수의약품 수급 불안 상황을 예방하기 위한 분석모델과 산업재해 취약 지수 예측 모형 개발이 추진된다. \\n          이에 따라 국민수요가 큰 필수의약품의 평상시 수급 현황을 점검하고, 수요를 예측하여 물량 부족 상황이 발생하지 않도록 지원한다. \\n          국민안전분야에서는 재난현장의 골든타임 확보에 필요한 소방차 출동 최적경로 분석 및 저수지 수위 변화 예측 분석이 추진된다. \\n          통합데이터분석센터는 시간대별 주정차 단속현황, 도로별 교통량 및 이동시간 등을 분석해 개선 조치가 필요한 도로 내 장애 요소를 발굴하고 최적의 이동 경로를 제안한다. \\n          지역경제분야에서는 신규창업이나 업종변경을 고려하는 소상공인들에게 상권별로 적합 업종을 제시하기 위한 분석이 진행된다. 상권 주변 인구특성, 소비성향 등을 종합적으로 분석해 상권별 적합 업종을 지수 형태로 제시한다는 설명이다. \\n          이외에 국민편의분야에서는 지역내 최적의 대중교통 노선을 파악하기 위한 분석이 이뤄진다. \\n          이용석 공공데이터정책관은 \"정부 내에서 데이터분석과 활용이 일상화될 수 있도록 통합데이터분석센터를 중심으로 맞춤형 분석환경 제공, 분석 역량 강화 등 입체적 지원을 시행해 나가겠다”라고 말했다.\\n          \\n        ',\n",
       " ' \\n         \\n           [이데일리 양희동 기자] 정부가 최근 허위 진단서 발급 등을 통해 병역면탈을 시도한 축구선수, 연예인, 의사 등이 대거 적발돼, 빅데이터를 활용해 병역면탈 의심자를 찾아내기 위한 데이터 분석을 추진한다. 출입국 기록과 각종 병원 진료·고용보험 가입 이력 등을 분석해 병역면탈 시도 여부를 확인하는 방식이다.\\n          \\n           \\n           \\n            (자료=행안부)\\n           \\n          \\n          \\n           행정안전부 통합데이터분석센터는 국민생활과 밀접한 사회 문제를 해결하고 정부 정책결정을 지원하기 위한 5개 분야·12개 데이터 분석과제를 선정해 데이터 분석을 추진한다고 12일 밝혔다. 5대 분야·12개 과제는 △공정사회(1개 과제) △보건·의료·근로(3개 과제) △국민안전(4개 과제) △지역경제(2개 과제) △국민편의(2개 과제) 등이다. 지난 1월부터 중앙부처와 지자체, 공공기관 대상 수요조사와 전문가 평가를 거쳐 선정됐다.\\n          \\n          통합데이터분석센터는 이달 중 외교부, 병무청, 부산시 등 수요기관과 함께 데이터 수집 및 활용방안을 구체화한 뒤 연말까지 데이터 분석과 모델 개발을 진행하게 된다.\\n          분야별 주요과제를 살펴보면 먼저 공정사회 분야에선 불법 병역면탈 예방과 단속을 위한 분석모델 개발이 이뤄진다. 출입국 기록과 각종 병원진료 기록, 고용보험 가입이력 등을 토대로 병역판정 이후에도 추적관리를 통해 병역면탈 시도가 있었는지를 확인할 수 있게 된다.\\n          보건·의료·근로 분야에선 생활 필수의약품 수급 불안 상황을 예방하기 위한 분석모델과 산업재해 취약 지수 예측 모형 개발이 추진된다. 코로나19 등 국민 수요가 큰 필수의약품의 평상시 수급 현황을 점검(모니터링)하고, 이에 기초해 수요를 예측해 물량 부족 상황이 발생하지 않도록 지원한다.\\n          국민편의분야에선 지역 내 최적의 대중교통 노선을 파악하기 위한 분석이 이뤄진다. 시간대별 대중교통 수요 및 이동경로, 교통수단별 이용자 규모 등을 분석하여 주민들의 편익을 최대화할 수 있는 대중교통 노선을 제안하게 된다.\\n          이용석 행안부 공공데이터정책관은 “과학적 데이터 분석을 통해 정부정책이 국민의 마음에 더욱 가까이 다가설 수 있도록 지원해 나갈 것”이라며 “정부 내에서 데이터분석과 활용이 일상화될 수 있도록 통합데이터분석센터를 중심으로 맞춤형 분석환경 제공, 분석 역량 강화 등 입체적 지원을 시행해 나가겠다”고 말했다.\\n          양희동 (eastsun@edaily.co.kr) \\n          \\n        ',\n",
       " ' \\n         \\n          \\n           \\n           \\n            광명시청,\\n           \\n          \\n          [헤럴드경제(광명)=박정규 기자]광명시(시장 박승원)가 시민 안전 등 주요 시정 분야에 빅데이터를 적극 반영한다.\\n          광명시는 지난 3월 ‘광명시 유동인구 밀집지 현황’과 ‘광명시 인구현황별 파악 및 장래인구’에 대한 빅데이터 분석을 마치고 분석 결과를 정책에 반영한다고 10일 밝혔다.\\n          박승원 광명시장은 “광명시는 어느 곳보다 빠르게 성장하는 도시로 변화 속도에 부응하는 행정이 필요하다”며, “디지털 대전환과 4차 산업혁명 흐름에 맞춰 빅데이터 등을 통해 정책 혁신을 도모하겠다”고 밝혔다.\\n          ▶빅데이터 기반 안전사고 예방지역 선정… 안전관리 강화, 지능형 CCTV 도입=각종 행사와 축제에 인파가 몰려 발생하는 안전사고와 재난에 대응하기 위한 목적으로 실시한 ‘광명시 유동인구 밀집지 현황’ 빅데이터 분석은 2022년 실시간 유동인구, 경사도, 도로 폭 등 데이터에 기반했다. 시는 결과를 반영해 ‘다중인파 밀집지역 안전사고 예방지역’ 3개 소를 선정하고 광명경찰서와 협력해 선정 지역 안전관리를 강화하고 있다. 선정 지역은▷광명3동 스타벅스 광명사거리역점 일대▷광명7동 GS25 광명스타점 일대 ▷철산역 앞 삼거리 일대이다. 시는 이와 함께 올 하반기에 관내 전 지역에 ‘딥러닝 기반 영상분석’이 가능한 ‘지능형 CCTV 관제시스템’을 구축해 안전 환경을 한층 강화한다는 방침이다. 지능형 CCTV 관제시스템은 CCTV에 딥러닝 기반 영상분석이 가능한 소프트웨어를 설치하고 유관기관과 시스템을 연계해 각종 사건사고 대응력을 높일 수 있다. 딥러닝 기반 영상분석은 촬영 대상의 움직임을 분석해 배회, 침입, 군집, 역주행, 쓰러짐, 화재, 쓰레기투기 등 8가지 유형으로 확인되면 ‘광명시 통합관제센터’로 통보해 모니터링 방식보다 신속한 대응이 가능하다는 장점이 있다.\\n          ▶인구 빅데이터 분석 반영해 생애주기별 맞춤형 인구정책 수립=‘장래인구 빅데이터 분석 결과’는 인구변화에 따른 생애주기별 맞춤 정책에 활용한다. 미래 인구변화를 예측해 각 정책에 필요한 예산과 사업을 조정하거나 새로운 맞춤형 정책을 발굴해 추진하겠다는 전략이다. 이에 따라 이번 분석 결과는 출산축하금 지급사업, 50세 이상 신중년 대상 광명시인생다모작지원센터 및 통합취업지원센터, 평생학습지원금, 1인 세대 지원 등 정책 개선에 활용될 예정이다. 분석 결과에 따르면 광명시 인구는 공동주택 공급 추가, 재개발, 재건축 정비사업 등 요인으로 2025년 말 30만 명을 넘어설 전망이다. 한편, 2023년 1월 말 기준 광명시 인구는 28만 7603명이다. 시민 평균 연령은 43.1세이다. 연령별로는 50~64세가 7만 1518명으로 가장 많았고, 35~49세가 6만 7833명으로 뒤를 이었다. 19세 이하는 4만 9천312명, 20세~34세는 5만 3605명, 65세 이상은 4만 5335명이다.\\n          1세대당 인구수는 뉴타운 개발 시기인 2016년 1월 말 기준 2.69명에서 2023년 1월 말 기준 2.43명으로 0.26명 감소했다. 같은 시기 세대수는 12만 8165세대에서 11만 8233세대로 9932세대가 감소했다.\\n          세대 구성원 변화도 뚜렷하게 나타났다. 같은 기간 3인 세대 이상 가구는 6만 8467세대에서 5만 2447세대로 감소한 반면 1인 세대는 3만 3435세대에서 3만 765세대로 3천630세대가 증가했다.\\n          시 관계자는 “광명시는 빅데이터를 기반으로 정책 혁신을 촉진하기 위해 지난해 1월 빅데이터 전담부서를 신설하고, 공모전 등 과제 발굴과 빅데이터 분석을 실시해왔으며, 분석 결과를 구체적으로 시정에 반영하기 시작했다”며, “향후 다양한 분야의 빅데이터 분석과 정책 추진 부서와 긴밀한 협조를 통해 시정이 발전할 수 있도록 노력하겠다”고 밝혔다.\\n          fob140@heraldcorp.com\\n          \\n        ',\n",
       " ' \\n         \\n          [머니투데이 경기=권현수 기자] \\n          \\n           \\n           \\n            광명시청 전경/사진제공=광명시\\n           \\n          \\n          경기 광명시가 시민 안전 등 주요 시정 분야에 빅데이터를 반영해 정책 혁신을 도모한다. \\n          10일 광명시에 따르면 시는 지난 3월부터 \\'광명시 유동인구 밀집지 현황\\'과 \\'광명시 인구현황별 파악 및 장래인구\\'에 대한 빅데이터 분석을 마치고 분석 결과를 정책에 반영한다.\\n          우선 각종 행사와 축제에 인파가 몰려 발생하는 안전사고와 재난에 대응하기 위한 목적으로 실시한 \\'광명시 유동인구 밀집지 현황\\' 빅데이터 분석은 2022년 실시간 유동인구, 경사도, 도로 폭 등 데이터에 기반했다.\\n          시는 결과를 반영해 \\'다중인파 밀집지역 안전사고 예방지역\\' 3곳을 선정하고 광명경찰서와 협력해 선정 지역 안전관리를 강화하고 있다. \\n          선정 지역은 △광명3동 스타벅스 광명사거리역점 일대 △광명7동 GS25 광명스타점 일대 △철산역 앞 삼거리 일대다.\\n          시는 이와 함께 올 하반기에 관내 전 지역에 \\'딥러닝 기반 영상분석\\'이 가능한 \\'지능형 CCTV 관제시스템\\'을 구축해 안전 환경을 강화한다는 방침이다.\\n          지능형 CCTV 관제시스템은 CCTV에 딥러닝 기반 영상분석이 가능한 소프트웨어를 설치하고 유관기관과 시스템을 연계해 각종 사건사고 대응력을 높일 수 있다.\\n          촬영 대상의 움직임을 배회, 침입, 군집, 역주행, 쓰러짐, 화재, 쓰레기투기 등 8가지 유형으로 분석해 \\'광명시 통합관제센터\\'로 통보, 모니터링 방식보다 신속한 대응이 가능하게 한다. \\n          \\'장래인구 빅데이터 분석 결과\\'는 인구변화에 따른 생애주기별 맞춤 정책에 활용한다. 미래 인구변화를 예측해 각 정책에 필요한 예산과 사업을 조정하거나 새로운 맞춤형 정책을 발굴해 추진하겠다는 전략이다.\\n          이번 분석 결과는 출산축하금 지급사업, 50세 이상 신중년 대상 광명시인생다모작지원센터 및 통합취업지원센터, 평생학습지원금, 1인 세대 지원 등 정책 개선에 활용한다.\\n          분석 결과에 따르면 광명 인구는 공동주택 공급 추가, 재개발, 재건축 정비사업 등 요인으로 오는 2025년 말 30만명을 넘어설 전망이다.\\n          올 1월 말 기준 광명시 인구는 28만 7603명이며, 시민 평균 연령은 43.1세다. 연령별로는 50~64세가 7만 1518명으로 가장 많았고, 35~49세가 6만 7833명으로 뒤를 이었다. 19세 이하는 4만 9312명, 20세~34세는 5만 3605명, 65세 이상은 4만 5335명이다.\\n          1세대당 인구수는 뉴타운 개발 시기인 2016년 1월 말 기준 2.69명에서 2023년 1월 말 기준 2.43명으로 0.26명 감소했다. 같은 시기 세대수는 12만 8165세대에서 11만 8233세대로 9932세대가 감소했다. \\n          세대 구성원 변화도 뚜렷하게 나타났다. 같은 기간 3인 세대 이상 가구는 6만 8467세대에서 5만 2447세대로 감소한 반면 1인 세대는 3만 3435세대에서 3만 7065세대로 3630세대가 증가했다.\\n          박승원 광명시장은 \"광명시는 어느 곳보다 빠르게 성장하는 도시로 변화 속도에 부응하는 행정이 필요하다\"며 \"디지털 대전환과 4차 산업혁명 흐름에 맞춰 빅데이터 등을 통해 정책 혁신을 도모하겠다\"고 밝혔다.\\n          경기=권현수 기자 khs@mt.co.kr\\n          ⓒ 머니투데이 & mt.co.kr, 무단 전재 및 재배포 금지\\n          \\n        ',\n",
       " ' \\n         \\n          \\n           \\n           \\n            한국전자통신연구원 전경. (ETRI 제공) /뉴스1\\n           \\n          \\n          (대전ㆍ충남=뉴스1) 김태진 기자 = 국내 연구기관들이 스포츠 빅데이터와 정보통신기술(ICT)을 접목해 4차 산업혁명 시대를 선도하는 스포츠 첨단화에 나선다.\\n          한국전자통신연구원(ETRI)은 11일 오전 11시 대전 본원에서 한국스포츠정책과학원과 인공지능(AI) 기반 스포츠 빅데이터 분석을 통한 스포츠 산업 및 과학의 첨단화에 상호 협력하기로 했다.\\n          이번 협력은 우수한 국내 정보통신기술(ICT) 스포츠 빅데이터 기술 활용 및 분석을 통해 스포츠산업을 미래 고부가가치 4차 산업혁명으로 혁신하기 위한 첫 걸음이다.\\n          양 기관은 스포츠산업 정책 수립 및 중장기 연구개발(R&D) 추진과 관련한 의제 발굴을 비롯해 스포츠과학(국가대표선수 경기력향상, 첨단스포츠기술 활용) 및 스포츠의학 연구, ICT 융합을 위한 핵심기술 개발 등 협력을 추진한다.\\n          ETRI 연구진은 문체부의 지능형 개인맞춤 재활운동 서비스 기술개발 등을 통해 의료·스포츠연계 빅데이터 플랫폼 연구, AI기반 운동 분석·추천 연구 등에 핵심원천기술을 보유하고 있다. \\n          이러한 기술을 기반으로 한국스포츠정책과학원의 풍부한 스포츠 데이터를 활용, 가술의 완성도를 제고하고 국가대표 선수들에 적용해 경기력 향상을 적극 돕기로 했다.\\n          양 기관은 또 학술세미나, 포럼 공동 개최 및 제반 자료 공동 활용으로 협력을 확대할 예정이다.\\n          \\n           \\n           \\n            방승찬 ETRI 원장. /뉴스1\\n           \\n          \\n          방승찬 ETRI 원장은 “국가 스포츠 빅데이터와 ICT를 접목하는 이번 업무협력을 통해 양 기관의 시너지 효과는 물론 4차 산업혁명 시대의 스포츠와 ICT가 융합된 첨단 스포츠산업 시장 활성화에도 기여하겠다\"고 말했다.\\n          남윤신 한국스포츠정책과학원장은 “디지털전환 시대에 스포츠와 첨단기술의 융합은 필연적이고 ETRI와의 기술 협력을 통해 한국 스포츠의 글로벌 경쟁력 강화에 더욱 매진하겠다”고 밝혔다. \\n          한편 한국스포츠정책과학원은 1980년 설립돼 국민체육진흥 및 스포츠과학의 체계적ㆍ종합적 연구를 하는 국가 연구기관이다.\\n          memory4444444@news1.kr \\n          \\n        ',\n",
       " ' \\n         \\n          \\n           \\n           \\n            방승찬 ETRI 원장(오르쪽)과 남윤신 한국스포츠정책과학원 원장.\\n           \\n          \\n          국내 연구기관들이 스포츠 빅데이터와 정보통신기술(ICT)을 접목, 4차 산업혁명 시대를 선도하는 스포츠의 첨단화에 나선다.\\n          한국전자통신연구원(ETRI)은 11일 원내에서 한국스포츠정책과학원과 인공지능(AI) 기반 스포츠 빅데이터 분석을 통한 스포츠 산업 및 과학 첨단화에 상호 협력키로 했다.\\n          이번 협력은 우수한 국내 ICT 스포츠 빅데이터 기술 활용 및 분석을 통해 스포츠산업을 미래 고부가가치 4차 산업으로 혁신하기 위한 첫 발걸음이다.\\n          향후 양 기관은 △스포츠산업 정책 수립 및 중장기 연구개발(R&D) 추진과 관련한 의제 발굴 △스포츠과학(국가대표선수 경기력향상, 첨단스포츠기술 활용) 및 스포츠의학 연구와 ICT 융합을 위한 핵심기술 개발 등에 협력을 추진한다.\\n          ETRI 연구진은 문체부의 지능형 개인맞춤 재활운동 서비스 기술개발 등을 통해 의료·스포츠연계 빅데이터 플랫폼 연구, AI기반 운동 분석·추천 연구 등에 핵심원천기술을 보유하고 있다. 이런 기술을 기반으로 한국스포츠정책과학원의 풍부한 스포츠 데이터를 활용, 가술의 완성도를 제고하고 국가대표 선수들에 적용하여 경기력 향상을 적극 돕기로 했다.\\n          이번 협력을 계기로, 양 기관은 학술세미나, 포럼 공동 개최 및 제반 자료 공동 활용으로 협력을 확대할 예정이다.\\n          방승찬 원장은 “국가 스포츠 빅데이터와 ICT를 접목하는 이번 업무협력을 통해 양기관의 시너지 효과는 물론 나아가 4차 산업혁명 시대의 스포츠와 ICT가 융합된 첨단 스포츠산업 시장 활성화에도 기여하겠다”고 말했다.\\n          남윤신 원장도 “디지털전환 시대에 스포츠와 첨단기술의 융합은 필연적이고 ETRI와의 기술 협력을 통해 한국 스포츠의 글로벌 경쟁력 강화에 더욱 매진하겠다”고 밝혔다.\\n          한국스포츠정책과학원은 1980년 설립된 국민체육진흥 및 스포츠과학의 체계적·종합적 연구를 하는 국가 연구기관이다.\\n          김영준기자 kyj85@etnews.com\\n          \\n        ',\n",
       " ' \\n         \\n          \\n           \\n           \\n            ETRI-한국스포츠정책과학원 업무협약 기념촬영. ETRI제공\\n           \\n          \\n          국내 연구기관들이 스포츠 빅데이터와 정보통신기술(ICT)를 접목, 4차 산업시대 스포츠 첨단화에 나선다.\\n          한국전자통신연구원(ETRI)은 11일 한국스포츠정책과학원과 인공지능(AI) 기반 스포츠 빅데이터 분석을 통한 스포츠 산업 및 과학 첨단화에 협력키로 했다.\\xa0\\n          두 기관은 앞으로 △스포츠 정책 수립 및 중장기 연구개발(R&D) 의제 발굴 △스포츠과학(국가대표선수 경기력 향상, 첨단 스포츠 기술 활용) 및 스포츠의학 연구와 ICT 융합을 위한 핵심기술 개발 등에 협력하게 된다.\\n          학술세미나, 포럼 공동 개최 및 자료 공동 활용 등도 확대해 나갈 예정이다.\\xa0\\n          ETRI 방승찬 원장은 \"국가 스포츠 빅데이터와 ICT를 접목하는 이번 업무협력을 통해 양 기관의 시너지 효과는 물론 4차 산업혁명 시대 첨단 스포츠산업 시장 활성화에도 기여하겠다\"고 말했다.\\xa0\\n          한국스포츠정책과학원 남윤신 원장도 \"디지털전환 시대에 스포츠와 첨단기술의 융합은 필연적\"이라며 \"ETRI와 기술 협력을 통해 한국 스포츠의 글로벌 경쟁력 강화에 더욱 매진하겠다\"고 밝혔다.\\xa0\\n          한편 한국스포츠정책과학원은 1980년 설립된 국민체육진흥 및 스포츠 과학의 체계적·종합적 연구를 수행하는 국가 연구기관이다.\\n          \\n           ※CBS노컷뉴스는 여러분의 제보로 함께 세상을 바꿉니다. 각종 비리와 부당대우, 사건사고와 미담 등 모든 얘깃거리를 알려주세요.\\n           \\n            이메일 :jebo@cbs.co.kr\\n            카카오톡 :@노컷뉴스\\n            사이트 :https://url.kr/b71afn\\n           \\n          \\n          대전CBS 신석우 기자 dolbi@cbs.co.kr\\n          ▶ 기자와 카톡 채팅하기▶ 노컷뉴스 영상 구독하기 \\n          \\n        ',\n",
       " ' \\n         \\n          \\n           \\n           \\n            ⓒ News1 DB\\n           \\n          \\n          (서울=뉴스1) 신병남 기자 = 앞으로 병력이 있는 사람(유병자)들도 보험 상품 가입이 한결 쉬워질 전망이다. 보험사들이 연이어 빅데이터 기술을 활용한 보험계약 가입심사 체계인 \\'가상 언더라이팅\\'을 도입하고 있기 때문이다. 기술 발전, 인구구조 등 시장 변화에 따라 보험 계약의 성립 여부를 심사담당관이 판단하는 것에서 시스템이 대처하는 구조로 변화하고 있다.\\n          ◇현대해상·흥국생명 이어 삼성생명도 \\'가상 언더라이팅\\' 도입\\n          삼성생명은 10일 유병자 등 보험가입을 희망하는 소비자를 위해 가상 언더라이팅(Virtual Underwriting)을 도입했다고 밝혔다. 가상 언더라이팅은 프랑스 재보험사인 스코르(SCOR)사가 개발한 빅데이터 분석 프로그램이다. 유병자를 대상으로 하는 간편심사상품에 시스템을 먼저 도입하고, 향후 일반상품까지 확대 적용한다는 계획이다.\\n          삼성생명이 스코르와 함께 개발한 간편보험 가상 언더라이팅 시스템은 여러 시나리오에 따른 손해율(들어온 보험료 중에서 가입자에게 지급한 보험금의 비율)을 산출한 후 보험사가 목표로 하는 손해율에 맞게 보험계약 인수 기준을 완성하는 구조다. 시나리오는 △보험계약이 인수된 경우 △특정 질병 부담보 보험계약 △보험계약 인수가 거절된 경우 등 다양하다.\\n          삼성생명은 자사가 보유한 10년 치 실손 계약 데이터를 바탕으로 가상의 상황을 구축하고 질병별로 예상되는 이슈들을 산출했다. 이를 통해 고객의 고혈압, 갑상선 질환 등 기왕력(과거 병력)별 인수 여부를 간편하게 예측할 수 있게 됐다는 설명이다.\\n          이 시스템은 앞서 현대해상도 지난해 7월부터 간편심사보험에 도입했으며 10월에는 흥국생명도 도입한 바 있다. 현대해상의 경우 기존 취급이 가능했던 기왕력 인수 대상이 202개 경증질환에서 424개가 더해진 626개 질환으로 확대될 것으로 내다봤으며, 흥국생명도 기존 100여개에서 600개 이상 질환으로 확대될 것으로 전망했다.\\n          다른 보험사들도 시스템 도입 여부를 검토하고 있는 것으로 전해진다. 언더라이팅은 그간 의료 전문지식이 필요한 정성적 요소가 많다고 판단돼 도입을 망설였는데, 생명보험업계 1위인 삼성생명까지 가세하면서 상황이 달라졌다고 판단하는 것이다.\\n          한 보험업계 관계자는 \"삼성생명까지 시스템을 도입하는 것이라면 손해율 산출에 유의미한 수치가 나왔다는 의미\"라며 \"간편심사보험 시장 경쟁도 치열해 데이터 보유량이 많은 중대형사를 중심으로 가상 언더라이팅 도입에 나설 것으로 보인다\"고 전망했다.\\n          ◇유병자·고령자 보험 경쟁 확대 보험사도 변화에 \\'반색\\'\\n          보험사의 가상 언더라이팅 도입 확대는 과거 병력이 있는 소비자의 보험가입 접근성이 확대된다는 뜻이다. 더 많은 보험소비자의 편익 확대가 예상되는 가운데, 판매 고객 군이 늘어난다는 의미에서 보험사들도 반색할 만한 변화로 인식하는 분위기다.\\n          특히 보험사들은 고령화 시대로 접어듦에 따라 젊고 건강한 고객 비중은 줄어드는 반면, 지병이 있는 유병자나 고령자들은 급속히 늘고 있어 고민이 컸다. 실제 삼성생명은 지난해 3분기 실적발표에서 상품에서 5060세대를 중점 공략하겠다고 밝히기도 했다.\\n          이 중 삼성생명은 유병자, 고령자 시장 확대에 적극 대응하겠다고 밝혔었다. 보험개발원에 따르면 지난 2020년 기준 유병자 보험 건수는 467만7000건으로 전년 대비 16% 늘었다. 올 들어 한화손해보험은 단 6개의 질문유형에만 응답하면 간편 가입할 수 있는 \\'무배당 3N5 WELL 100 간편건강보험\\'을 출시하는 등 상품도 계속 다양해지고 있다. \\n          이런 상황에서 신기술로 손해율 예측가능성이 커지자 보험사들은 유병자보험 시장 공략에 적극적으로 나서고자 기술 도입을 서두른 것으로 풀이된다. 더구나 간편심사보험을 통해 가입을 받는 유병자보험은 일반인 대상 보험상품 대비 가입 문턱을 낮지만, 보험료가 비싼 특징이 있다. 요금이 같다면 보장 범위가 작은 형태로 구성돼 수익성이 높다.\\n          또 다른 관계자는 \"인구 구조가 변화된 만큼 유병자 보험 시장은 보험사와 소비자 모두에게 매력적인 시장이 된 것\"이라며 \"이런 상황에서 손해율을 산출할 수 있다는 점은 전통적인 언더라이팅 기법을 고수할 필요가 없다는 의미 아니겠냐\"고 말했다.\\n          fellsick@news1.kr \\n          \\n        ',\n",
       " \" \\n         \\n          기사내용 요약 기술·미래가치 기업에 투자자 관심 스픽이지랩스·버드뷰·테사 등 주목 3월 벤처투자도 꽁꽁…7200억 감소\\n          \\n           \\n           \\n            [서울=뉴시스] 국내 최대 스타트업 축제 '컴업(COME UP)'. (사진=뉴시스 DB). photo@newsis.com\\n           \\n          \\n          [서울=뉴시스] 배민욱 기자 = 경기 불황으로 투자 빙하기를 맞았지만 유망 스타트업은 투자자의 선택을 받고 있다. 스타트업 투자 시장이 얼어붙은 지난해부터 올해까지 투자 유치에 성공한 스타트업을 살펴보면 챗GPT, 빅데이터, 토큰증권(STO) 등 기술과 미래가치를 지닌 기업들이었다. \\n          11일 관련 업계에 따르면 오픈AI의 챗GPT가 세계적인 돌풍을 일으키면서 인공지능(AI)을 활용한 서비스에 소비자의 관심이 쏠리고 있다. 투자자들도 챗GPT를 적용한 AI 스타트업을 눈 여겨 보는 추세다.\\n          에듀테크 기업 스픽이지랩스는 AI 음성인식 기술로 누구나 쉽게 영어를 학습할 수 있도록 돕는 영어 스피킹 앱 '스픽'을 운영하고 있다. 자체 개발한 음성인식 AI 엔진이 0.1초 안에 사용자의 음성을 처리해 기존 영어회화 온라인 강의나 학원 대비 최대 10배에 달하는 회화 연습량을 제공한다. \\n          이들은 지난해 11월 오픈AI와 기술적 파트너십을 체결하고 '오픈AI 스타트업 펀드' 등을 통해 약 382억원 규모의 시리즈B 투자 유치에 성공했다. 이어 지난달에는 오픈AI의 새로운 모델인 'GPT-4'를 적용해 AI와 프리토킹이 가능한 신기능 'AI 튜터' 서비스를 공개하기도 했다.\\n          빅데이터로 차별화된 개인화 서비스를 제공해 성장성을 인정받고 '상장 전 지분투자'(프리 IPO)를 마무리한 기업도 있다.\\n          뷰티테크 기업 버드뷰는 최근 국내 사모투자펀드(PEF) 운용사인 PS얼라이언스를 통해 200억원 규모의 프리 IPO 투자 유치를 마무리했다. 버드뷰는 2013년 뷰티 플랫폼 '화해'를 출시하고 개인별 맞춤 화장품 정보 탐색과 쇼핑 서비스를 제공 중인 기업이다. \\n          지난 1월 기준 MAU(월간활성화이용자수) 130만명, 누적 가입자 수는 1000만명이다. 성분을 포함한 제품 정보는 27만여개, 사용자들의 솔직한 화장품 리뷰는 730만개다. 버드뷰는 빅데이터를 기반으로 고객 피부 타입별 제품을 추천해주는 서비스도 제공하고 있다. \\n          금융당국의 가이드라인 발표로 토큰증권의 제도권 편입이 가시화되면서 증권사들은 적극적으로 조각투자 플랫폼과 협력에 나서고 있다. 미술품 조각투자 기업 테사(TESSA)도 그중에 하나다. \\n          테사는 글로벌 미술 시장에서 검증된 블루칩 작가의 작품에 소액으로 조각투자 할 수 있는 블루칩 아트테크 플랫폼이다. 특히 뱅크시, 데이비드 호크니 등의 작가들 작품을 취급하며 차별화를 꾀하고 있다. \\n          이들은 서비스 출시 3년 만에 회원 수 13만명을 모으며 국내 미술품 조각투자업계에서 최다 회원 수를 보유하고 있다. 테사는 키움증권의 투자를 이끌어 낸 데 이어 지난해 교보증권의 투자 주도 하에 전략적 투자 유치에 성공했다. 누적 투자금은 121억원을 돌파했다.\\n          국내 스타트업계의 투자 한파는 이어지고 있다. 스타트업 민관 협력 네트워크인 '스타트업얼라이언스'의 투자 동향을 살펴보면 지난달 스타트업 총 투자 건수는 96건, 투자금은 3472억원으로 나타났다. 총 투자건수는 지난해 같은달 161건에서 96건으로 65건 줄었다. 전달과 비교하면 92건에서 96건으로 4건 증가했다. \\n          총 투자금액은 지난해 같은달과 비교하면 1조716억원에서 3427억원으로 7289억원(68.02%) 가량 감소했다. 지난 2월과 비교하면 2952억원에서 3427억원으로 475억원(16.09%) 늘었다. 상세 금액별로는 300억원 이상 투자는 2건, 100억원 이상 투자는 8건, 10억원 이상 투자는 26건, 10억원 미만과 비공개 투자는 60건으로 조사됐다.\\n          ☞공감언론 뉴시스 mkbae@newsis.com \\n          \\n        \",\n",
       " ' \\n         \\n          기사내용 요약 AI·빅데이터 기반 과학적 시정 운영으로 경쟁력 높여 \\n          \\n           \\n           \\n            물금 벚꽃길 유동인구 측정. *재판매 및 DB 금지\\n           \\n          \\n           [양산=뉴시스] 안지율 기자 = 경남 양산시는 인공지능과 민간 클라우드 데이터를 융합, 빅데이터를 분석해 지역 내 상권 및 축제 활성화 등 과학적 시정을 적극적으로 운영한다고 9일 밝혔다. \\n          시는 전국 지방자치단체 중 유일하게 2022년 6월 실시간 유동인구 측정 인공지능 서비스를 자체 구축한 바 있다. 인공지능이 이동하는 사람을 스스로 찾아서 누적하는 방식으로 시간대별·일자별 실시간 행사장에 방문하는 관광객 수를 측정해 행사 시간 조정 및 방문객 안전 조치 활용 등 축제 계획에 반영하고 있다.\\n          이와 함께 행사기간 다른 지역 방문객 수 파악을 위해 이동통신사 데이터를 활용해 방문객의 거주지, 성별, 나이 등 이용객의 성향을 분석하며 다른 지역 방문객의 맞춤형 환경 조성 및 홍보로 관광객 유치에 적극적으로 활용하고 있다.\\n          특히 2022년 8월에 ㈜KB국민카드와의 빅데이터 업무협약을 체결해 데이터분석 플랫폼과 노하우를 공유해 카드와 현금결제 데이터로 이용객 소비성향과 소비 품목 등을 파악하고 있다. \\n          \\n           \\n           \\n            이동식 유동인구 현장 측정 장비 구성. *재판매 및 DB 금지\\n           \\n          \\n           또 행사지역 상권과 주변 상권지역까지 매출액 증가 및 소비패턴 평상시와 행사 기간으로 구분하여 구체적인 데이터로 수치화해 행정에 반영하고 있다. \\n          이와 함께 올해 실시한 원동매화, 물금 벚꽃길 축제 등 행사지역 상권 분석은 물론 지역 내 침체한 증산라피에스타상권의 상권 평가 등 분석을 진행했다. 분석한 결과를 토대로 물금 증산 상권이 젊은이들이 머물 수 있는 공간이 될 수 있도록 정책 수립할 수 있는 기초자료로 제공하고 추후 상권 변화를 확인하기 위해 반기별로 분석을 진행할 예정이다.\\n          시의 빅데이터 성과는 축제·행사뿐만 아니라 교통 분야에서도 두각을 나타내고 있다. 지난 2022년 구축한 양산시 딥러닝 인공지능(AI) 서비스로 전국 도로교통량조사와 병행했고, 행정안전부 2022년 공공빅데이터 표준분석모델 정립 및 확산사업의 협조기관으로 선정됐다. \\n          시 관계자는 \"빅데이터로 과학화된 행정으로 다양한 업무 분야에 활용할 수 있는 방안을 마련하고 더 나아가 시민들에게도 상권 분석에 도움이 되도록 사례를 확대 공개해 나갈 예정이다\"고 밝혔다.\\n          ☞공감언론 뉴시스 alk9935@newsis.com \\n          \\n        ',\n",
       " \" \\n         \\n          [석동재 기자(=양산)(035sdj@naver.com)]경남 양산시가 인공지능과 민간 클라우드 데이터를 접목한 빅데이터를 활용해 지역내 상권을 비롯한 축제 활성화 등 과학적 시정 운영에 박차를 가한다.\\n          양산시는 전국 지방자치단체 중 유일하게 지난 2022년 6월 실시간 유동인구 측정 인공지능 서비스를 자체 구축한 바 있다. 이 서비스는 인공지능이 이동하는 사람을 스스로 찾아서 누적하는 방식으로 시간대별 ‧ 일자별 실시간 행사장에 방문하는 관광객수를 측정하는 방식이다.\\n          시는 이에 더해 타지역 방문객수 파악을 위해 이동통신사 데이터를 활용하여 방문객의 거주지, 성별, 나이 등 이용객의 성향을 분석하며 타지역 방문객의 맞춤형 환경 조성 및 홍보로 관광객 유치에 적극 활용하고 있다.\\n          \\n           \\n           \\n            ▲양산시청 전경.ⓒ양산시\\n           \\n          \\n          \\n           특히 2022년 8월에 ㈜KB국민카드와의 빅데이터 업무협약을 체결하여 데이터분석 플랫폼과 노하우를 공유하여 카드와 현금결제 데이터로 이용객 소비성향과 소비 품목 등을 파악하고 있다.\\n          \\n          또한 행사지역 상권과 주변 상권지역까지 매출액 증가 및 소비패턴 평상시와 행사 기간으로 구분하여 구체적인 데이터로 수치화해 행정에 반영하고 있다. \\n          시는 인공지능과 민간 클라우드 데이터를 접목한 빅데이터를 활용해 원동매화, 물금 벚꽃길 축제 등 행사지역 상권 분석은 물론 지역내 침체된 증산라피에스타상권의 상권 평가 등 분석을 진행했다.\\n          시는 이를 분석한 결과를 토대로 물금 증산 상권이 젊은이들이 머물 수 있는 공간이 될 수 있도록 정책 수립할 수 있는 기초자료로 제공하고 추후 상권 변화를 확인하기 위해 반기별로 분석을 진행할 예정이다.\\n          시는 이외에도 지난 2022년 구축한 ‘양산시 딥러닝 인공지능(AI) 서비스’로 전국 도로교통량조사와 병행했고, 행정안전부 '2022년 공공빅데이터 표준분석모델 정립 및 확산사업'의 협조기관으로 선정된바 있다.\\n          양산시는 빅데이터로 과학화된 행정으로 다양한 업무 분야에 활용할 수 있는 방안을 마련하고 더 나아가 시민들에게도 상권 분석에 도움이 되도록 사례를 확대 공개해 나갈 계획이다.\\n          [석동재 기자(=양산)(035sdj@naver.com)]\\n          \\n        \",\n",
       " \" \\n         \\n          양산시가 인공지능과 민간 클라우드 데이터를 융합한 빅데이터 행정을 펼쳐 눈길을 끈다. 빅데이터 행정은 지역내 상권 분석에서 축제 활성화 등 과학적 시정을 이끌어 내고 있다.\\n          시는 전국 지방자치단체 중 유일하게 2022년 6월 실시간 유동인구 측정 인공지능서비스를 자체적으로 구축했다.\\n          \\n           \\n          \\n          \\n           인공지능이 이동하는 사람을 스스로 찾아서 누적하는 방식으로 시간대별 일자별 실시간 행사장에 방문하는 관광객수를 측정해 행사 시간 조정과 방문객 안전 조치 활용 등 축제 계획에 적극적으로 반영하고 있다.\\n          \\n          행사기간 타지역 방문객 수 파악을 위해 이동통신사 데이터를 활용해 방문객의 거주지와 성별, 나이 등 이용객의 성향을 분석한다. 타지역 방문객들의 맞춤형 환경 조성과 홍보를 통해 관광객 유치에도 활용하고 있다.\\n          시는 2022년 8월에는 ㈜KB국민카드와 빅데이터 업무협약을 체결해 카드와 현금결제 데이터로 이용객 소비성향과 소비 품목 등을 파악하고 있다. \\n          더불어 행사지역 상권과 주변 상권지역까지 매출액 증가와 소비패턴을 구체적인 데이터로 수치화해 행정에 반영하고 있다. \\n          올해 원동매화축제와 물금 벚꽃길 축제 등 행사 지역 상권 분석과 지역 내 침체한 증산라피에스타 상권도 평가했다. 이 결과를 토대로 물금 증산 상권이 젊은층이 머물 수 있는 공간으로 조성할 수 있도록 기초자료도 제공했다.\\n          양산시 빅데이터 행정 성과는 축제·행사는 물론 교통 분야에서도 두각을 나타내고 있다. 지난해 구축한 '양산시 딥러닝 인공지능(AI) 서비스'가 이를 반영하고 있다. \\n          이 서비스로 전국 도로 교통량을 과학적으로 조사했다. 이로 말미암아 시는 행정안전부 '2022년 공공빅데이터 표준분석모델 정립과 확산사업' 협조기관으로 선정됐다. \\n          시는 일명 '행정의 과학화'를 구축한 빅테이터 행정을 다양한 분야에서도 활용하는 방안을 마련할 방침이다.\\n          양산=박석곤 기자 p2352@kukinews.com\\n          \\n        \",\n",
       " ' \\n         \\n          \\n           \\n           \\n            위 사진은 기사 내용과 직접적인 관련이 없습니다. 병역판정검사. 〈사진=연합뉴스〉\\n           \\n          \\n          \\n           최근 연예계와 스포츠계 등에서 허위 진단서를 제출하는 등 병역 면탈을 시도한 사람들이 대거 적발되면서 정부가 관리망을 강화하는 방안을 내놨습니다. \\n          \\n          행정안전부 통합데이터분석센터는 불법 병역 면탈을 예방하고 의심자를 찾아내기 위해 빅데이터를 활용할 계획이라고 밝혔습니다. 출입국 기록과 각종 병원진료 기록, 고용보험 가입 이력 등 공공 데이터를 토대로 병역 면탈 의심자를 추적 관리하는 것입니다. \\n          구체적인 방법은 진단서를 입체적으로 검증하는 것입니다. \\n          병역 의무가 있는 남성 A씨, 병역 신체 검사 때 건강 이상이 있다며 진단서를 제출해 병역 면제를 받습니다. 병무청은 이후 A씨의 진단서가 정말 진실된 증명인지 단정하지 않고 A씨를 병역 면탈 의심자 리스트에 올려둡니다. \\n          만약 건강 이상으로 군 복무를 할 수 없다던 A씨가 군 면제 이후 건강 조건이 충족돼야 가능한 자격증을 얻고 취업까지 했다면? 결국 병무청은 병역 면탈 의심자 리스트에 있던 A씨를 추적해 적발합니다. \\n          행정안전부 관계자는 JTBC 취재진에게 \"현재 병역 면탈 의심자를 잡기 위한 데이터 분석 모델을 만들고 있다\"라면서 \"추적 관리 기간 등 구체적인 방침은 병무청과 협의할 계획\"이라고 전했습니다. 또 \"고용보험 가입 이력 등 공공 데이터를 활용하기 때문에 추적 관리에 있어 개인정보 침해 문제는 없다\"라고 말했습니다.\\n          이번 정책은 올해 데이터 분석 모델 개발이 끝난 뒤 내년부터 본격적으로 도입될 것으로 보입니다. \\n          행안부는 병역 면탈 관리 외에도 보건·의료·근로 분야와 국민 안전 분야 등 5대 분야에서 12건의 과제를 선정해 데이터 분석을 이어나갈 방침입니다. \\n          \\n        ',\n",
       " ' \\n         \\n          \\n           \\n           \\n            방승찬(오른쪽) ETRI 원장과 남윤신 한국스포츠정책과학원 원장이 업무협약을 체결하고 있다.[ETRI 제공]\\n           \\n          \\n          [헤럴드경제=구본혁 기자] 국내 연구기관들이 스포츠 빅데이터와 정보통신기술(ICT)을 접목, 4차 산업혁명 시대를 선도하는 스포츠의 첨단화에 나선다.\\n          한국전자통신연구원(ETRI)은 11일 한국스포츠정책과학원과 인공지능(AI) 기반 스포츠 빅데이터 분석을 통한 스포츠 산업 및 과학의 첨단화에 상호 협력키로 했다.\\n          이번 협력은 우수한 국내 ICT 스포츠 빅데이터 기술 활용 및 분석을 통해 스포츠산업을 미래 고부가가치 4차 산업으로 혁신하기 위한 첫 발걸음이다.\\n          향후 양 기관은 ▷스포츠산업 정책 수립 및 중장기 연구개발(R&D) 추진과 관련한 의제 발굴 ▷스포츠과학(국가대표선수 경기력향상, 첨단스포츠기술 활용) 및 스포츠의학 연구와 ICT 융합을 위한 핵심기술 개발 등에 협력을 추진한다.\\n          ETRI 연구진은 문체부의 지능형 개인맞춤 재활운동 서비스 기술개발 등을 통해 의료·스포츠연계 빅데이터 플랫폼 연구, AI기반 운동 분석·추천 연구 등에 핵심원천기술을 보유하고 있다. 이러한 기술을 기반으로 한국스포츠정책과학원의 풍부한 스포츠 데이터를 활용, 가술의 완성도를 제고하고 국가대표 선수들에 적용하여 경기력 향상을 적극 돕기로 했다.\\n          이번 협력을 계기로, 양 기관은 학술세미나, 포럼 공동 개최 및 제반 자료 공동 활용으로 협력을 확대할 예정이다.\\n          방승찬 ETRI 원장은 “국가 스포츠 빅데이터와 ICT를 접목하는 이번 업무협력을 통해 양기관의 시너지 효과는 물론 나아가 4차 산업혁명 시대의 스포츠와 ICT가 융합된 첨단 스포츠산업 시장 활성화에도 기여하겠다”고 말했다.\\n          남윤신 한국스포츠정책과학원 원장도 “디지털전환 시대에 스포츠와 첨단기술의 융합은 필연적이고 ETRI와의 기술 협력을 통해 한국 스포츠의 글로벌 경쟁력 강화에 더욱 매진하겠다”고 밝혔다.\\n          nbgkoo@heraldcorp.com\\n          \\n        ',\n",
       " ' \\n         \\n          정부가 빅데이터를 이용해 병역의 의무를 이행하지 않고 병역 비리를 저지른 경우를 잡아내는 방안을 추진한다. 분석모델을 개발해 병역 판정 이후에도 출입국 기록과 각종 병원진료 기록, 고용보험 가입 이력 등을 추적 관리해 불법 병역 면탈 시도가 있었는지 확인하는 것이다.\\n          \\n           \\n           \\n            병역법 위반 혐의로 기소된 가수 라비가 11일 오전 서울 양천구 서울남부지방법원에서 열린 1차 공판에 출석하고 있다. 가수 라비와 나플라 등은 병역 브로커 구모씨와 공모해 허위 뇌전증 진단을 통해 병역을 회피한 혐의로 재판에 넘겨졌다. 구씨는 지난해 12월 구속 기소돼 현재 재판 중에 있다. /뉴스1\\n           \\n          \\n          행정안전부 통합데이터분석센터는 12일 이같이 국민 생활과 밀접한 사회 문제를 해결하고 정부 정책결정을 지원하기 위해 12건의 과제를 선정해 데이터 분석을 한다고 밝혔다.\\n          보건·의료·근로 분야에서는 생활 필수의약품 수급 불안 상황을 막기 위한 분석모델과 산업재해 취약 지수 예측 모형 개발을 추진한다. 신종플루와 코로나19 상황에서 필수의약품 수급이 불안했던 일이 다시 발생하지 않도록, 수요를 예측한다.\\n          국민 안전 분야에서는 시간대별 주정차 단속현황, 도로별 교통량을 분석해 소방차 출동 최적경로를 분석한다. 강수량을 기반으로 저수지 수위 변화를 예측해 가뭄을 대비하는 과제도 함께 추진한다.\\n          지역경제 분야에서는 신규창업이나 업종 변경을 고려하는 소상공인들에게 상권별로 적합 업종을 제시하기 위한 분석을 한다. 국민편의 분야에서는 지역 내 최적 대중교통 노선을 파악하기 위한 분석이 이뤄진다. 시간대별 대중교통 수요와 이동 경로, 교통수단별 이용자 규모를 분석해 주민 편익을 최대화할 수 있는 대중교통 노선을 제안한다.\\n          통합데이터분석센터는 이달 중 외교부, 병무청, 부산시 등 수요기관과 함께 데이터 수집과 활용방안을 구체화한 뒤 연말까지 데이터 분석과 모델 개발을 할 계획이다.\\n          - Copyright ⓒ 조선비즈 & Chosun.com -\\n          \\n        ',\n",
       " ' \\n         \\n          \\n           \\n           \\n            광명시청 전경. / 사진제공=광명시\\n           \\n          \\n          \\n           광명시(시장 박승원)가 인구 빅데이터 분석 통해 생애주기별 맞춤형 정책 추진한다고 10일 밝혔다\\n          \\n          시에 따르면 지난 3월 \\'광명시 유동인구 밀집지 현황\\'과 \\'광명시 인구현황별 파악 및 장래인구\\'에 대한 빅데이터 분석을 마치고 분석 결과를 정책에 반영하고 있다. 특히 시는 시민 안전 등 주요 시정 분야에 빅데이터를 적극 반영하고 있다. \\n          박승원 광명시장은 \"광명시는 어느 곳보다 빠르게 성장하는 도시로 변화 속도에 부응하는 행정이 필요하다\"며, \"디지털 대전환과 4차 산업혁명 흐름에 맞춰 빅데이터 등을 통해 정책 혁신을 도모하겠다\"고 밝혔다. \\n          우선 각종 행사와 축제에 인파가 몰려 발생하는 안전사고와 재난에 대응하기 위한 목적으로 실시한 \\'광명시 유동인구 밀집지 현황\\' 빅데이터 분석은 2022년 실시간 유동인구, 경사도, 도로 폭 등 데이터에 기반했다. \\n          시는 결과를 반영해 \\'다중인파 밀집지역 안전사고 예방지역\\' 3개 소를 선정하고 광명경찰서와 협력해 선정 지역 안전관리를 강화하고 있다. 선정 지역은 ▲광명3동 스타벅스 광명사거리역점 일대 ▲광명7동 GS25 광명스타점 일대 ▲철산역 앞 삼거리 일대이다. \\n          시는 이와 함께 올 하반기에 관내 전 지역에 \\'딥러닝 기반 영상분석\\'이 가능한 \\'지능형 CCTV 관제시스템\\'을 구축해 안전 환경을 한층 강화한다는 방침이다. \\n          지능형 CCTV 관제시스템은 CCTV에 딥러닝 기반 영상분석이 가능한 소프트웨어를 설치하고 유관기관과 시스템을 연계해 각종 사건사고 대응력을 높일 수 있다. \\n          딥러닝 기반 영상분석은 촬영 대상의 움직임을 분석해 배회, 침입, 군집, 역주행, 쓰러짐, 화재, 쓰레기투기 등 8가지 유형으로 확인되면 \\'광명시 통합관제센터\\'로 통보해 모니터링 방식보다 신속한 대응이 가능하다는 장점이 있다. \\n          \\'장래인구 빅데이터 분석 결과\\'는 인구변화에 따른 생애주기별 맞춤 정책에 활용한다. 미래 인구변화를 예측해 각 정책에 필요한 예산과 사업을 조정하거나 새로운 맞춤형 정책을 발굴해 추진하겠다는 전략이다. \\n          이에 따라 이번 분석 결과는 출산축하금 지급사업, 50세 이상 신중년 대상 광명시인생다모작지원센터 및 통합취업지원센터, 평생학습지원금, 1인 세대 지원 등 정책 개선에 활용될 예정이다. \\n          분석 결과에 따르면 광명시 인구는 공동주택 공급 추가, 재개발, 재건축 정비사업 등 요인으로 2025년 말 30만명을 넘어설 전망이다.\\n          한편, 2023년 1월 말 기준 광명시 인구는 28만 7603명이며, 시민 평균 연령은 43.1세이다. 연령별로는 50~64세가 7만 1518명으로 가장 많았고, 35~49세가 6만 7833명으로 뒤를 이었다. 19세 이하는 4만 9312명, 20세~34세는 5만 3605명, 65세 이상은 4만 5335명이다. \\n          1세대당 인구수는 뉴타운 개발 시기인 2016년 1월 말 기준 2.69명에서 2023년 1월 말 기준 2.43명으로 0.26명 감소했다. 같은 시기 세대수는 12만 8165세대에서 11만 8233세대로 9932세대가 감소했다. \\n          세대 구성원 변화도 뚜렷하게 나타났다. 같은 기간 3인 세대 이상 가구는 6만 8467세대에서 5만 2447세대로 감소한 반면 1인 세대는 3만 3435세대에서 3만 7065세대로 3630세대가 증가했다. \\n          시 관계자는 \"광명시는 빅데이터를 기반으로 정책 혁신을 촉진하기 위해 지난해 1월 빅데이터 전담부서를 신설하고, 공모전 등 과제 발굴과 빅데이터 분석을 실시해왔으며, 분석 결과를 구체적으로 시정에 반영하기 시작했다\"며, \"향후 다양한 분야의 빅데이터 분석과 정책 추진 부서와 긴밀한 협조를 통해 시정이 발전할 수 있도록 노력하겠다\"고 밝혔다. \\n          광명=김동우 기자 bosun1997@mt.co.kr<저작권자 ⓒ \\'성공을 꿈꾸는 사람들의 경제 뉴스\\' 머니S, 무단전재 및 재배포 금지>\\n          \\n        ',\n",
       " ' \\n         \\n          [머니투데이 김유경 기자] \\n          \\n           \\n          \\n          보건복지부와 건강보험심사평가원(이하 심사평가원)이 창의적 비즈니스 모델과 혁신 스타트업 발굴을 위해 \\'2023년 보건의료빅데이터 활용 창업경진대회\\'를 개최한다.\\n          보건복지부가 주최하고 심사평가원, 국민건강보험공단이 공동 주관하는 이번 대회는 이날(10일)부터 6월 8일까지 60일간, \\'아이디어 기획\\'과 \\'제품 및 서비스 개발\\' 2개 부문으로 공모할 예정이다. 대한민국 국민이라면 누구나 \\'보건의료빅데이터개방시스템\\'을 통해 참가 신청할 수 있다.\\n          올해는 경진대회 참여 촉진을 위해 공모기간을 10일 연장해 60일동안 공모하며, 수상팀을 확대해 총 16개 팀을 시상한다. 공모한 창업 아이디어 등 아이템을 대상으로 1차 사업계획서 서류심사, 2차 캐주얼 인터뷰, 3차 발표심사를 거쳐 수상작이 선정된다.\\n          최종 발표심사에 진출한 6개 팀에게는 보건복지부장관상(최우수 2팀, 우수 2팀) 및 건강보험심사평가원장상(장려 2팀)이 주어지고, 총 2200만원의 상금도 지급된다. 각 부문별 최우수팀은 행정안전부 주최 \\'제11회 범정부 공공데이터 활용 창업경진대회\\'에 보건복지부 대표과제(보건분야)로 추천될 예정이다.\\n          모든 수상팀에게는 보건의료빅데이터 분석 서비스를 제공하며, 데이터 이용 수수료도 면제된다. 또한 법률·홍보·투자 등 분야별 사업화 기반 마련 멘토링 교육, 창업전문가 1대 1 세부코칭 등 스타트업 관련 후속 전문 프로그램을 지원한다.\\n          강중구 원장은 \"이 대회를 통해 혁신적인 창업 아이디어와 제품 및 서비스를 발굴해 보건의료빅데이터 활용 촉진에 앞장서겠다\"며 \"창의적 비즈니스 모델과 혁신 스타트업이 바이오 헬스케어 산업의 미래 성장을 견인하고, 데이터 경제 활성화에 기여하기를 기대한다\"고 밝혔다.\\n          [머니투데이 스타트업 미디어 플랫폼 \\'유니콘팩토리\\']\\n          김유경 기자 yunew@mt.co.kr\\n          ⓒ 머니투데이 & mt.co.kr, 무단 전재 및 재배포 금지\\n          \\n        ',\n",
       " ' \\n         \\n          [김영란 기자(=나주)(gjnews0526@hanmail.net)]한국전력이 AI와 빅데이터를 기반으로 한\\u2008고독사 예방시스템을 구축한다.\\n          한전은 6일 오후 서울시 금천구청에서 고독사 예방 시스템 구축을 위해 한전-서울시복지재단-금천구청-SK텔레콤-행복커넥트 간 \\'AI 안부 든든 서비스\\' 사업 협력 MOU를 체결했다.\\n          이들 기관은 이날 MOU를 통해 AI·빅데이터 기반 통합 고독사 예방 시스템 구축 서비스 제공을 위한 데이터 수집과 연계를 통해 관제·출동 서비스 수행 시범사업 추진을 위한 주민 협조체계를 조성했다.\\n          \\n           \\n           \\n            ▲한국전력 나주 본사ⓒ한국전력 제공\\n           \\n          \\n          \\n           이를 통해 사회적 고립가구 지원정책 개발을 위한 효과성 분석 등에 상호 협력하기로 했다.\\n          \\n          \\'AI 안부 든든 서비스\\'는 가정 내 추가적 기기 설치 없이 원격검침계량기(AMI)를 통해 전력(사용량 등) 및 통신(통화수발신, 데이터 사용량 등) 데이터를 분석하고 휴대폰 사용이력을 확인해 생활 패턴을 파악하게 된다.\\n          이상 상황이 감지되면 AI가 자동으로 전화를 걸어 안부를 확인하고 비상시 현장에 출동해 대상자의 안전을 확보하는 서비스이다.\\n          한전은 올해 연말까지 서울시 금천구 내 약 200가구를 대상으로 서비스를 제공하고, 현장의 다양한 목소리를 반영해 고립·고독사 위험 가구를 체계적으로 발굴하고 지원하는 서울시 고립가구 지원 정책에 효과적으로 기여할 계획이다.\\n          이를 통해 1인가구 독거노인과 고령의 기초수급자, 중증 장애인 등 사회적 약자들을 위한 안전망 구축이 가능할 것으로 기대되고 있다.\\n          송호승 한전 디지털솔루션처장은 \"이번 업무협약을 통해 한전이 보유하고 있는 전력 빅데이터와 AI 기술을 민간의 솔루션과 접목하면 사회적 고립가구에서 발생할 수 있는 고독사 등 사회문제를 해결하고 국민편익 증진에 기여할 수 있을 것\"이라고 기대했다.\\n          [김영란 기자(=나주)(gjnews0526@hanmail.net)]\\n          \\n        ']"
      ]
     },
     "execution_count": 22,
     "metadata": {},
     "output_type": "execute_result"
    }
   ],
   "source": [
    "articles"
   ]
  },
  {
   "cell_type": "code",
   "execution_count": 25,
   "metadata": {},
   "outputs": [
    {
     "data": {
      "text/plain": [
       "\"\\nimport tqdm.notebook\\nimport time\\narticles = []\\ntitles = []\\nfor h in tqdm.notebook.tqdm(href):\\n    time.sleep(1)  #천천히 긁어오는것이다 차단먹지 않기 위해\\n    res = requests.get(h)\\n    root = lxml.html.fromstring(res.text)\\n    titles.append(root.cssselect('.tit_view')[0])\\n    for article in root.cssselect('.article_view'):\\n        articles.append(article.text_content().strip())\\n\""
      ]
     },
     "execution_count": 25,
     "metadata": {},
     "output_type": "execute_result"
    }
   ],
   "source": [
    "#참고\n",
    "\"\"\"\n",
    "import tqdm.notebook\n",
    "import time\n",
    "articles = []\n",
    "titles = []\n",
    "for h in tqdm.notebook.tqdm(href):\n",
    "    time.sleep(1)  #천천히 긁어오는것이다 차단먹지 않기 위해\n",
    "    res = requests.get(h)\n",
    "    root = lxml.html.fromstring(res.text)\n",
    "    titles.append(root.cssselect('.tit_view')[0])\n",
    "    for article in root.cssselect('.article_view'):\n",
    "        articles.append(article.text_content().strip())\n",
    "\"\"\""
   ]
  },
  {
   "cell_type": "markdown",
   "metadata": {},
   "source": [
    "### 다음 뉴스 스크래핑: 파일저장"
   ]
  },
  {
   "attachments": {},
   "cell_type": "markdown",
   "metadata": {},
   "source": [
    "- 스크래핑 결과를 엑셀 파일 형태로 저장합니다."
   ]
  },
  {
   "cell_type": "code",
   "execution_count": 21,
   "metadata": {},
   "outputs": [],
   "source": [
    "import pandas as pd"
   ]
  },
  {
   "cell_type": "code",
   "execution_count": 27,
   "metadata": {},
   "outputs": [],
   "source": [
    "news = pd.DataFrame({'주소' : href , '본문': articles})\n",
    "news.to_excel('기사.xlsx')"
   ]
  },
  {
   "attachments": {},
   "cell_type": "markdown",
   "metadata": {},
   "source": [
    "### 인코딩"
   ]
  },
  {
   "attachments": {},
   "cell_type": "markdown",
   "metadata": {},
   "source": [
    "- 컴퓨터는 모든 것을 수(number)로 다룸\n",
    "\n",
    "- 문자마다 번호를 매겨 표현(예: A = 65, B = 66)\n",
    "\n",
    "- 인코딩: 문자에 번호를 붙이는 방법(예: ASCII, UTF-8등등)"
   ]
  },
  {
   "attachments": {},
   "cell_type": "markdown",
   "metadata": {},
   "source": [
    "### 알파벳 인코딩"
   ]
  },
  {
   "attachments": {},
   "cell_type": "markdown",
   "metadata": {},
   "source": [
    "- ASCII: 7비트 인코딩(영어 알파벳 대소문자와 일부 특수 문자)\n",
    "\n",
    "- ISO-8859: ASCII의 확장. 대표적으로 ISO-8859-1(서유럽어)\n",
    "\n",
    "- 유니코드: 역사상 존재한 전세계 거의 모든 문자를 포함하는 체계\n",
    "\n",
    "- UTF-8: ASCII와 호환되는 유니코드의 표현 방법 중 하나"
   ]
  },
  {
   "attachments": {},
   "cell_type": "markdown",
   "metadata": {},
   "source": [
    "### 한글 인코딩"
   ]
  },
  {
   "attachments": {},
   "cell_type": "markdown",
   "metadata": {},
   "source": [
    "- 완성형(EUC-KR): 현대 한국어에 자주 쓰이는 2350자만 포함\n",
    "\n",
    "- 확장완성형(CP-949): 마이크로스프트에서 개발. 모든 한글을 표시\n",
    "\n",
    "- EUC-KR과 CP-949는 사실상 동의어로 사용\n",
    "\n",
    "- 모두 ASCII와는 호환"
   ]
  },
  {
   "cell_type": "markdown",
   "metadata": {},
   "source": []
  }
 ],
 "metadata": {
  "kernelspec": {
   "display_name": "base",
   "language": "python",
   "name": "python3"
  },
  "language_info": {
   "codemirror_mode": {
    "name": "ipython",
    "version": 3
   },
   "file_extension": ".py",
   "mimetype": "text/x-python",
   "name": "python",
   "nbconvert_exporter": "python",
   "pygments_lexer": "ipython3",
   "version": "3.9.12"
  },
  "orig_nbformat": 4
 },
 "nbformat": 4,
 "nbformat_minor": 2
}
