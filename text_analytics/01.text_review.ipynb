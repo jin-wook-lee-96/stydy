{
 "cells": [
  {
   "attachments": {},
   "cell_type": "markdown",
   "metadata": {},
   "source": [
    "\n",
    "<font color=\"#CC3D3D\"><p>\n",
    "# 01. 텍스트 분석 소개"
   ]
  },
  {
   "cell_type": "markdown",
   "metadata": {},
   "source": [
    "### 텍스트 분석의 필요성"
   ]
  },
  {
   "attachments": {},
   "cell_type": "markdown",
   "metadata": {},
   "source": [
    "- 텍스트 분석\n",
    ">- 텍스트 데이터에서 언어학, 통계학, 머신러닝 기법을 이용\n",
    ">- 의사결정, 조사, 연구 등을 위해 정보를 추출하고 분석\n",
    ">- 텍스트 마이닝(text mining)\n",
    ">- 예)고객 리뷰를 분석하여 제품을 개선하고 싶다 \n",
    "- 자연어 처리(자동으로 처리)\n",
    ">- 언어학, 컴퓨토 과학, 인공지능 등의 한 분야\n",
    ">- 컴퓨터를 이용해 자연어를 자동으로 처리하는 방법\n",
    ">- 예)고객 불만에 자동으로 응대하는 챗봇을 만들고 싶다\n",
    "\n",
    "=> 사람이 이해하는가 혹은 프로그램으로 처리하는가 목적성의 차이라고 보면 된다"
   ]
  },
  {
   "attachments": {},
   "cell_type": "markdown",
   "metadata": {},
   "source": [
    "### 자연어 \n",
    "- 자연어\n",
    ">- 한국어, 영어 등 자연스럽게 생겨난 언어\n",
    "- 인공어 \n",
    ">- 에스페란토(1887): 자멘호프가 국제적 의사소통을 위해 개발\n",
    ">- 나비: 영화 아바타의 외계인 언어로 사용하기 위해 개발\n",
    "- 통제 자연어 \n",
    ">- 자연어에서 어휘, 문법 및 의미 등을 단순하게 제한하여 만든 인공어\n",
    "- 형식어: 수식, 프로그래밍 언어 등"
   ]
  },
  {
   "attachments": {},
   "cell_type": "markdown",
   "metadata": {},
   "source": [
    "### 자연어의 특징\n",
    "- 규칙이 복잡하고 예외가 많음\n",
    "- 음운론, 통사론, 의미론 등 다양한 수준으로 이루어져 있ㅇ름\n",
    "> - 음소: 언어에서 소리의 가장 작은 단위, 그 자체로는 의미가 없음\n",
    "> - 형태소: 의미가 있는 가장 작은 단위(ex.multi-)\n",
    "> - 단어: 독립적으로 쓰일 수 있는 형태소(예:media)\n",
    "> - 구문구조: 단어들이 모여서 문장을 이루는 구조\n",
    "- 해석을 위해서는 여러 수준에 대한 복잡한 고려가 필요\n",
    "> - 예: Time files like an arrow; fruit files like a banana\n",
    "- 순서, 의존성, 불연속적 변화\n",
    "- 언어의 다양성\\\n",
    "(영어랑 한국어가 다르고\\\n",
    "다른 언어들과도 다 다르다)"
   ]
  },
  {
   "attachments": {},
   "cell_type": "markdown",
   "metadata": {},
   "source": [
    "### 자연어 처리의 접근 방식\n",
    "- 규칙기반\n",
    "> - 언어의 규칙을 프로그래밍\n",
    "> - 단순한 처리는 쉽게 가능\n",
    "> - 다양한 예외, 애매성 등으로 복잡한 처리는 어려움\n",
    "<br>\n",
    "- 머신러닝\n",
    "> - 방대한 데이터를 바탕으로 패턴을 추출\n",
    "> - 복잡한 처리도 가능\n",
    "> - 데이터를 손으로 분류하느 비용이 높음"
   ]
  },
  {
   "attachments": {},
   "cell_type": "markdown",
   "metadata": {},
   "source": [
    "<font color=\"#green\"><p>\n",
    "## 텍스트 분석의 종류와 사례"
   ]
  },
  {
   "attachments": {},
   "cell_type": "markdown",
   "metadata": {},
   "source": [
    "### 단어통계\n",
    "- 단어 사용의 패턴에는 여러 가지 정보가 포함\n",
    "- 개인: \"나\"를 많이 쓰는가, \"너\"를 많이 쓰는가?\n",
    "- 정치: 대통령 연설문에 어떤 단어가 많이 나오는가?\n",
    "- 경제: 기업의 실적 보고에 어떤 단어기 많이 나오는가?\n",
    "- 제품: 고객 리뷰에 어떤 단어가 많이 나오는가?"
   ]
  },
  {
   "attachments": {},
   "cell_type": "markdown",
   "metadata": {},
   "source": [
    "### 텍스트 분석의 종류\n",
    "- 감정분석: 텍스트에서 나타나는 감정을 분석하여 긍정, 부정, 중립 등의 감성을 파악\n",
    "- 토픽 모델링: 대량의 문서에서 주제를 추출하고 분류, 특정 주제에 대한 키워드 및 문서를 파악\n",
    "- 네트워크 분석: 텍스트를 이용하여 인물, 조직, 제품 등의 관계를 파악하고 네트워크를 시각화\n",
    "- 개체명 인식: 텍스트에서 인물, 조직, 장소 등의 개체명을 인식하고 분류\n",
    "- 키워드 추출: 텍스트에서 빈도수가 높은 키워드를 추출하여 문서의 핵심 내용을 파악\n",
    "- 요약: 긴 텍스트를 짧게 요약하여 핵심 내용을 파악\n",
    "- 문서분류: 텍스트를 분류하여 특정 주제에 대한 문서를 추출하거나 유사한 문서들을 그풉핑\n",
    "- 언어모형: 텍스트 데이터를 이용하여 언어 모델을 만들어 다음 단어나 문장을 예측\n",
    "- 문서 유사도 분석: 두 개 이상의 문서 간의 유사도를 측정하여 문서간의 관계를 파악\n",
    "\n"
   ]
  },
  {
   "attachments": {},
   "cell_type": "markdown",
   "metadata": {},
   "source": [
    "### 비즈니스 영역에서 텍스트 분석 사례\n",
    "- 고객 피트백 분석\n",
    ">- 이메일, 소셜 미디어, 고색 설문 조사 및 온라인 리뷰 등\n",
    ">- 정서, 키워드 및 테마를 분석\n",
    "- 위험관리\n",
    ">- 감정의 변화를 모니터링, 분석 보고서 및 백서에서 정보를 추출\n",
    ">- 업계 동향 및 금융 시장에 대한 통찰력\n",
    "- 유지관리\n",
    ">- 제품 및 기계으 작동 및 기능에 대한 문재와 관련된 패턴과 예방적 및 반응적 유지관리\n",
    ">- 의사 결정의 자동화, 유지보수 전문가가 문제와 장애의 근본 원인을 더 빨리 찾는 데 도움\n",
    "- 의료\n",
    ">- 생물학, 의학 분야 등에서 정보 추출\n",
    ">- 환자와 면담, 차트 내용의 텍스트 분석\n",
    "- 문서관리\n",
    ">- 스팸 필터링 및 이메일 분류 자동화"
   ]
  },
  {
   "attachments": {},
   "cell_type": "markdown",
   "metadata": {},
   "source": [
    "### 텍스트를 통한 평가\n",
    ">- 논술, 자기소개서, 에세이\n",
    ">- 객관식은 한계가 많으나, 일관성 있는 채점이 가능\n",
    ">- 텍스트는 일관성 있는 채점이 어여룽ㅁ\n",
    ">- 텍스트 분석으로 일관성있고 타당한 채점"
   ]
  },
  {
   "attachments": {},
   "cell_type": "markdown",
   "metadata": {},
   "source": [
    "### 구글 북스 엔그램 뷰어\n",
    "- 1500~2019년 영어, 중국어 등 출판물의 n-gram수를 검색하여 시각화해주는 도구\n",
    ">- n-gram: n개의 연속된 단어 표현"
   ]
  },
  {
   "attachments": {},
   "cell_type": "markdown",
   "metadata": {},
   "source": [
    "### 토픽 모델링\n",
    "- 텍스트에서 자주 함께 사용되는 단어들이 있음\n",
    "- 이러한 단어들은 특정한 토픽을 반영하는 것으로 볼 수 있음\n",
    "- 토픽 모델링: 텍스트에서 토픽들을 추출하는 것"
   ]
  },
  {
   "attachments": {},
   "cell_type": "markdown",
   "metadata": {},
   "source": [
    "<font color=\"#green\"><p>\n",
    "## Python 문자열 다루기"
   ]
  },
  {
   "attachments": {},
   "cell_type": "markdown",
   "metadata": {},
   "source": [
    "- chr() : 문자->번호\n",
    "- ord() : 번호 -> 문자\n",
    "- len() : 문자열의 길이\n",
    "- str() : 특정 값을 문자열로 반환"
   ]
  },
  {
   "cell_type": "code",
   "execution_count": 1,
   "metadata": {},
   "outputs": [],
   "source": [
    "import pandas as pd\n",
    "import numpy as np"
   ]
  },
  {
   "cell_type": "code",
   "execution_count": 2,
   "metadata": {},
   "outputs": [
    {
     "name": "stdout",
     "output_type": "stream",
     "text": [
      "foobar\n",
      "foobarbaz\n"
     ]
    }
   ],
   "source": [
    "s = 'foo'\n",
    "t = 'bar'\n",
    "u = 'baz'\n",
    "\n",
    "print(s+t)\n",
    "print(s +t + u)"
   ]
  },
  {
   "attachments": {},
   "cell_type": "markdown",
   "metadata": {},
   "source": [
    "### 포함판정"
   ]
  },
  {
   "cell_type": "code",
   "execution_count": 4,
   "metadata": {},
   "outputs": [
    {
     "data": {
      "text/plain": [
       "True"
      ]
     },
     "execution_count": 4,
     "metadata": {},
     "output_type": "execute_result"
    }
   ],
   "source": [
    "s = 'foo'\n",
    "s in 'That is food for thought'"
   ]
  },
  {
   "cell_type": "code",
   "execution_count": 5,
   "metadata": {},
   "outputs": [
    {
     "data": {
      "text/plain": [
       "False"
      ]
     },
     "execution_count": 5,
     "metadata": {},
     "output_type": "execute_result"
    }
   ],
   "source": [
    "s in  'That is good for now'"
   ]
  },
  {
   "cell_type": "code",
   "execution_count": 6,
   "metadata": {},
   "outputs": [
    {
     "data": {
      "text/plain": [
       "True"
      ]
     },
     "execution_count": 6,
     "metadata": {},
     "output_type": "execute_result"
    }
   ],
   "source": [
    "s not in 'That is good for you'"
   ]
  },
  {
   "cell_type": "markdown",
   "metadata": {},
   "source": [
    "#### f 문자열"
   ]
  },
  {
   "cell_type": "code",
   "execution_count": 8,
   "metadata": {},
   "outputs": [],
   "source": [
    "n = 20\n",
    "m = 25\n",
    "prod = n*m"
   ]
  },
  {
   "cell_type": "code",
   "execution_count": 9,
   "metadata": {},
   "outputs": [
    {
     "name": "stdout",
     "output_type": "stream",
     "text": [
      "The product of 20 and 25 is 500\n"
     ]
    }
   ],
   "source": [
    "print(f'The product of {n} and {m} is {prod}')"
   ]
  },
  {
   "cell_type": "markdown",
   "metadata": {},
   "source": [
    "#### 문자열 메소드"
   ]
  },
  {
   "attachments": {},
   "cell_type": "markdown",
   "metadata": {},
   "source": [
    "- 출현 개수 세기"
   ]
  },
  {
   "cell_type": "code",
   "execution_count": 10,
   "metadata": {},
   "outputs": [
    {
     "data": {
      "text/plain": [
       "2"
      ]
     },
     "execution_count": 10,
     "metadata": {},
     "output_type": "execute_result"
    }
   ],
   "source": [
    "s = 'foobar'\n",
    "s.count('o')"
   ]
  },
  {
   "attachments": {},
   "cell_type": "markdown",
   "metadata": {},
   "source": [
    "- 위치찾기 "
   ]
  },
  {
   "cell_type": "code",
   "execution_count": 12,
   "metadata": {},
   "outputs": [
    {
     "data": {
      "text/plain": [
       "1"
      ]
     },
     "execution_count": 12,
     "metadata": {},
     "output_type": "execute_result"
    }
   ],
   "source": [
    "#2개있는것은 첫번쨰 것 만 나온다\n",
    "s.find('o')"
   ]
  },
  {
   "cell_type": "code",
   "execution_count": 13,
   "metadata": {},
   "outputs": [
    {
     "data": {
      "text/plain": [
       "-1"
      ]
     },
     "execution_count": 13,
     "metadata": {},
     "output_type": "execute_result"
    }
   ],
   "source": [
    "#못찾으면 -1\n",
    "s.find('x')"
   ]
  },
  {
   "attachments": {},
   "cell_type": "markdown",
   "metadata": {},
   "source": [
    "- ~로 시작하는가?"
   ]
  },
  {
   "cell_type": "code",
   "execution_count": 14,
   "metadata": {},
   "outputs": [
    {
     "data": {
      "text/plain": [
       "True"
      ]
     },
     "execution_count": 14,
     "metadata": {},
     "output_type": "execute_result"
    }
   ],
   "source": [
    "s.startswith('f')"
   ]
  },
  {
   "cell_type": "code",
   "execution_count": 15,
   "metadata": {},
   "outputs": [
    {
     "data": {
      "text/plain": [
       "True"
      ]
     },
     "execution_count": 15,
     "metadata": {},
     "output_type": "execute_result"
    }
   ],
   "source": [
    "s.endswith('r')"
   ]
  },
  {
   "cell_type": "code",
   "execution_count": 16,
   "metadata": {},
   "outputs": [
    {
     "data": {
      "text/plain": [
       "['.DS_Store', 'data', '01.text_review.ipynb']"
      ]
     },
     "execution_count": 16,
     "metadata": {},
     "output_type": "execute_result"
    }
   ],
   "source": [
    "import os\n",
    "os.listdir()"
   ]
  },
  {
   "attachments": {},
   "cell_type": "markdown",
   "metadata": {},
   "source": [
    "```\n",
    "예를들어 zip 으로 된 파일만 지우고 싶을때\n",
    "특정 파일만 지우고 싶을때 사용\n",
    "\n",
    "for filename in os.listdr():\n",
    "    if filename.endwith('.zip'):\n",
    "        os.remove(filename)\n",
    "```\n"
   ]
  },
  {
   "attachments": {},
   "cell_type": "markdown",
   "metadata": {},
   "source": [
    "- 찾아바꾸기"
   ]
  },
  {
   "cell_type": "code",
   "execution_count": 17,
   "metadata": {},
   "outputs": [
    {
     "data": {
      "text/plain": [
       "'fooxar'"
      ]
     },
     "execution_count": 17,
     "metadata": {},
     "output_type": "execute_result"
    }
   ],
   "source": [
    "s.replace('b','x')"
   ]
  },
  {
   "cell_type": "markdown",
   "metadata": {},
   "source": [
    "- 앞뒤 공백 지우기"
   ]
  },
  {
   "cell_type": "code",
   "execution_count": 18,
   "metadata": {},
   "outputs": [
    {
     "data": {
      "text/plain": [
       "'hello'"
      ]
     },
     "execution_count": 18,
     "metadata": {},
     "output_type": "execute_result"
    }
   ],
   "source": [
    "x = '    hello   '\n",
    "x.strip()"
   ]
  },
  {
   "cell_type": "code",
   "execution_count": 19,
   "metadata": {},
   "outputs": [
    {
     "data": {
      "text/plain": [
       "['hello', 'world', 'everyone']"
      ]
     },
     "execution_count": 19,
     "metadata": {},
     "output_type": "execute_result"
    }
   ],
   "source": [
    "'hello world everyone'.split()"
   ]
  },
  {
   "attachments": {},
   "cell_type": "markdown",
   "metadata": {},
   "source": [
    "#### 문자열 <-> 리스트"
   ]
  },
  {
   "cell_type": "code",
   "execution_count": 21,
   "metadata": {},
   "outputs": [],
   "source": [
    "s = '1,2,3'"
   ]
  },
  {
   "cell_type": "code",
   "execution_count": 22,
   "metadata": {},
   "outputs": [
    {
     "data": {
      "text/plain": [
       "['1,2,3']"
      ]
     },
     "execution_count": 22,
     "metadata": {},
     "output_type": "execute_result"
    }
   ],
   "source": [
    "s.split()"
   ]
  },
  {
   "cell_type": "code",
   "execution_count": 23,
   "metadata": {},
   "outputs": [
    {
     "data": {
      "text/plain": [
       "'1,2,3'"
      ]
     },
     "execution_count": 23,
     "metadata": {},
     "output_type": "execute_result"
    }
   ],
   "source": [
    "x = ['1','2','3']\n",
    "','.join(x)"
   ]
  },
  {
   "attachments": {},
   "cell_type": "markdown",
   "metadata": {},
   "source": [
    "<font color=\"#green\"><p>\n",
    "## 정규표현식"
   ]
  },
  {
   "attachments": {},
   "cell_type": "markdown",
   "metadata": {},
   "source": [
    "### 생성규칙\n",
    "- 영어의 문장은 주어 + 동사 + 목적어 순으로 구성\n",
    "- 주어는 They같은 대명사나 The book처럼 관사 + 명사 형태\n",
    "- 생성 규칙(product rule): 문법에서 이렇기 하나의 기호가 다른 기호들로 바뀌는 규착\n",
    "\n",
    "- <문장> -> <주어><동사><목적어>\n",
    "- <주어> -> <대명사>|<관사><대명사>\n",
    "- <대명사> -> I | We | They | ..."
   ]
  },
  {
   "attachments": {},
   "cell_type": "markdown",
   "metadata": {},
   "source": [
    "### 단말기호\n",
    "- 단말(terminal)기호\n",
    ">- 생성 규칙에서 They처럼 더이상 다른 기호로 바뀌지 않는 기호\n",
    ">- 소문자(a,b, ..)로 표기\n",
    "- 비단말 기호\n",
    ">- <문장>이나 <주어>처럼 다른 기호로 바뀌는 기호는\n",
    ">- 알파벳 대문자(A,B,..)로 표기\n",
    "- 예) 비단말 기호 A가 두개의 단말 기호 a와 b로 바뀌는 규칙:\n",
    ">- A-> ab"
   ]
  },
  {
   "attachments": {},
   "cell_type": "markdown",
   "metadata": {},
   "source": [
    "### 정규문법\n",
    "- 다음 두 가지 형태의 생성 규칙만 가지는 문법\n",
    ">- A -> a\n",
    ">- A -> aB\n",
    "\n",
    "- 이메일 주소의 생성규칙:\n",
    ">- <이메일주소> -> <아이디><도메인>\n",
    ">- <아이디> -> <글자><글자들>\n",
    ">- <글자들> -> <공백>|<글자><글자들>\n",
    ">- <글자> -> a | b | c|...\n",
    ">- <도메인> -> @<사이트주소>\n",
    ">- ..."
   ]
  },
  {
   "attachments": {},
   "cell_type": "markdown",
   "metadata": {},
   "source": [
    "### 정규문법으로 나타낼 수 없는 경우\n",
    "- 수식이나 컴퓨터 프로그래밍 언어의 문법처럼 좀 더 복잡한 형식\n",
    "- 예) 수식에서 괄호의 경우 항상 짝이 맞아야 한다를 규칙으로 표현하면:\n",
    ">- <괄호> -> (<내용>)\n",
    ">- 이는 A -> aBc 형태의 규칙이므로 정규문법으로 나타낼 수 없다.\n",
    "- 문맥 자유 문법(comtext free grammar)등 더 복잡한 규칙이 필요"
   ]
  },
  {
   "attachments": {},
   "cell_type": "markdown",
   "metadata": {},
   "source": [
    "### 정규표현식(regular expression)\n",
    "- 또는 정규식\n",
    "- 정규문법을 나타내기 위한 간단한 표기법\n",
    "- 일반적으로 정규 문법에 약간의 확장이 추가된 형태로 사용\n",
    "- 컴퓨터 프로그래밍이나 자연어 처리 등에서 단순한 패턴을 찾거나 바꿀 때 많이 사용\n",
    "\n",
    "- 예) 전화번호를 처리하는 정규표현식\\\n",
    "010-[0-9]{4}-[0-9]{4}"
   ]
  },
  {
   "attachments": {},
   "cell_type": "markdown",
   "metadata": {},
   "source": [
    "### 정규식 사용 유형\n",
    "- 예) \"유재명: 010-1234-5678\n",
    "\n",
    "\n",
    "- 확인(validate): 문자열이 규칙에 맞는지 확인\n",
    ">- 예) 전화번호가 \"010-xxxx-xxxx\"형태가 맞는가? -> 결과: \"True\"\n",
    "- 추출(extract): 규칙과 일치하는 문자열 추출\n",
    ">- 예) 전화번호가 무엇인가? -> 결과: \"010-1234-5678\"\n",
    "- 교체(substitute): 문자열이 규칙과 일치하도록 교체\n",
    ">- 예) 전화번호는 개인정보이므로 지우자 -> 결과: 결과: \"유재명: 010-####-####\""
   ]
  },
  {
   "attachments": {},
   "cell_type": "markdown",
   "metadata": {},
   "source": [
    "한 글자 찾기\n",
    "- 글자 그대로 사용\n",
    "\n",
    "연속\n",
    "- a 다음에 b&nbsp;&nbsp;->&nbsp;&nbsp;ab\n",
    "- 0다음에 1 다음에 0 &nbsp;&nbsp;->&nbsp;&nbsp;010\n",
    "\n",
    "혹은 \"|\"\n",
    "- \"네\" 혹은 \"아니요\"\n",
    "\n",
    "\n",
    "ex) 네|아니요\n",
    "\n",
    " 포함관계\n",
    " - \"아니|아니요\"VS\"아니요|아니\"\n",
    " - \"아니오\"에 \"아니\"가 포함\n",
    " - 포함관계에 주의\n",
    "\n",
    "다중 혹은\"|\"\n",
    "- ->\"네|아니오|아니요\"\n",
    "- 반복이 많음\n",
    "- 길어짐\n",
    "\n",
    "여러 가지 중에 하나\n",
    "- a, b, c중에 하나 -> [abc]\n",
    "- 0부터 9까지 중에 하나 -> [0-9]\n",
    "\n",
    "~가 아닌것  \n",
    "- a,b,c가 아닌것-> [^abc]\n",
    "- 0부터 9까지가 아닌것 [^0-9]\n",
    "\n",
    "반복\n",
    "- 세 자리 숫자 매칭 -> [0-9][0-9][0-9]\n",
    "- 0-9사이의 한 자리 숫자를 정확히 3번 반복 -> [0-9]{3}\n",
    "- \"{최소 반복, 최대 반복}\"\n",
    "- 0-9사이의 한 자리 숫자를 최소 1, 최대 3번 반복\n",
    "- c가 0~4회 반복 -> c{,4}\n",
    "- d가 2회 이상 반복 -> d{2,}\n",
    "\n",
    "\n",
    "\n",
    "### 나머지는 필요할때 찾아서 참고하기,,\n"
   ]
  },
  {
   "cell_type": "markdown",
   "metadata": {},
   "source": []
  }
 ],
 "metadata": {
  "kernelspec": {
   "display_name": "base",
   "language": "python",
   "name": "python3"
  },
  "language_info": {
   "codemirror_mode": {
    "name": "ipython",
    "version": 3
   },
   "file_extension": ".py",
   "mimetype": "text/x-python",
   "name": "python",
   "nbconvert_exporter": "python",
   "pygments_lexer": "ipython3",
   "version": "3.9.12"
  },
  "orig_nbformat": 4
 },
 "nbformat": 4,
 "nbformat_minor": 2
}
