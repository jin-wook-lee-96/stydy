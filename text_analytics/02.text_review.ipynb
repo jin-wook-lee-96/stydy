{
 "cells": [
  {
   "attachments": {},
   "cell_type": "markdown",
   "metadata": {},
   "source": [
    "<font color=\"#CC3D3D\"><p>\n",
    "# 02. 문서 단어 행렬"
   ]
  },
  {
   "attachments": {},
   "cell_type": "markdown",
   "metadata": {},
   "source": [
    "### 문서 단어 행렬(Document Term Matrix)\n",
    "- 문서별로 단어의 빈도를 정리한 표\n",
    "- 문서 1: 오늘은 밥을 먹었ㅉ다\n",
    "- 문서 2: 어제도 밥, 오늘도 밥\n",
    "\n",
    "||오늘|어제|밥|먹다|\n",
    "|----|----|----|----|----|\n",
    "|문서1     |1     |0     |1     |1 |\n",
    "|문서2     |1     |1     |2     |0 |"
   ]
  },
  {
   "attachments": {},
   "cell_type": "markdown",
   "metadata": {},
   "source": [
    "### DTM의 장단점\n",
    "- 비정형 데이터인 텍스트를 표 형태로 정형화\n",
    "- 정형 데이터의 다양한 통게 기법을 적용가능\n",
    "- 처리가 단순 <-> 어순과 맥락을 무시하는 것이 단점"
   ]
  },
  {
   "attachments": {},
   "cell_type": "markdown",
   "metadata": {},
   "source": [
    "<font color=\"#green\"><p>\n",
    "## CountVectorizer 실습"
   ]
  },
  {
   "cell_type": "code",
   "execution_count": 62,
   "metadata": {},
   "outputs": [],
   "source": [
    "import pandas as pd\n",
    "df = pd.read_excel('data/yelp.xlsx')"
   ]
  },
  {
   "cell_type": "code",
   "execution_count": 63,
   "metadata": {},
   "outputs": [
    {
     "data": {
      "text/html": [
       "<div>\n",
       "<style scoped>\n",
       "    .dataframe tbody tr th:only-of-type {\n",
       "        vertical-align: middle;\n",
       "    }\n",
       "\n",
       "    .dataframe tbody tr th {\n",
       "        vertical-align: top;\n",
       "    }\n",
       "\n",
       "    .dataframe thead th {\n",
       "        text-align: right;\n",
       "    }\n",
       "</style>\n",
       "<table border=\"1\" class=\"dataframe\">\n",
       "  <thead>\n",
       "    <tr style=\"text-align: right;\">\n",
       "      <th></th>\n",
       "      <th>review</th>\n",
       "      <th>sentiment</th>\n",
       "    </tr>\n",
       "  </thead>\n",
       "  <tbody>\n",
       "    <tr>\n",
       "      <th>0</th>\n",
       "      <td>Wow... Loved this place.</td>\n",
       "      <td>1</td>\n",
       "    </tr>\n",
       "    <tr>\n",
       "      <th>1</th>\n",
       "      <td>Crust is not good.</td>\n",
       "      <td>0</td>\n",
       "    </tr>\n",
       "    <tr>\n",
       "      <th>2</th>\n",
       "      <td>Not tasty and the texture was just nasty.</td>\n",
       "      <td>0</td>\n",
       "    </tr>\n",
       "    <tr>\n",
       "      <th>3</th>\n",
       "      <td>Stopped by during the late May bank holiday of...</td>\n",
       "      <td>1</td>\n",
       "    </tr>\n",
       "    <tr>\n",
       "      <th>4</th>\n",
       "      <td>The selection on the menu was great and so wer...</td>\n",
       "      <td>1</td>\n",
       "    </tr>\n",
       "  </tbody>\n",
       "</table>\n",
       "</div>"
      ],
      "text/plain": [
       "                                              review  sentiment\n",
       "0                           Wow... Loved this place.          1\n",
       "1                                 Crust is not good.          0\n",
       "2          Not tasty and the texture was just nasty.          0\n",
       "3  Stopped by during the late May bank holiday of...          1\n",
       "4  The selection on the menu was great and so wer...          1"
      ]
     },
     "execution_count": 63,
     "metadata": {},
     "output_type": "execute_result"
    }
   ],
   "source": [
    "df.head(5)"
   ]
  },
  {
   "cell_type": "code",
   "execution_count": 64,
   "metadata": {},
   "outputs": [
    {
     "data": {
      "text/plain": [
       "(1000, 2)"
      ]
     },
     "execution_count": 64,
     "metadata": {},
     "output_type": "execute_result"
    }
   ],
   "source": [
    "df.shape"
   ]
  },
  {
   "cell_type": "markdown",
   "metadata": {},
   "source": [
    "### 문서 단어 행렬 설정\n"
   ]
  },
  {
   "cell_type": "code",
   "execution_count": 65,
   "metadata": {},
   "outputs": [],
   "source": [
    "from sklearn.feature_extraction.text import CountVectorizer\n",
    "cv = CountVectorizer(max_features = 500, stop_words = 'english') "
   ]
  },
  {
   "attachments": {},
   "cell_type": "markdown",
   "metadata": {},
   "source": [
    "max_features : 문서단어행렬에 포함시킬 최대 단어의 수\\\n",
    "stop_words: 분석에서 제외할 불용어를 설정\n",
    ">- english로 설정하면 영어의 경우 관사, 전치사 등을 제외\n",
    "\n",
    "\n",
    ">- 다른 언어는 리스트 등의 형태로 불용어 목록을 넘겨주어야함"
   ]
  },
  {
   "attachments": {},
   "cell_type": "markdown",
   "metadata": {},
   "source": [
    "### 영어 불용어 목록보기"
   ]
  },
  {
   "cell_type": "code",
   "execution_count": 66,
   "metadata": {},
   "outputs": [
    {
     "data": {
      "text/plain": [
       "frozenset({'a',\n",
       "           'about',\n",
       "           'above',\n",
       "           'across',\n",
       "           'after',\n",
       "           'afterwards',\n",
       "           'again',\n",
       "           'against',\n",
       "           'all',\n",
       "           'almost',\n",
       "           'alone',\n",
       "           'along',\n",
       "           'already',\n",
       "           'also',\n",
       "           'although',\n",
       "           'always',\n",
       "           'am',\n",
       "           'among',\n",
       "           'amongst',\n",
       "           'amoungst',\n",
       "           'amount',\n",
       "           'an',\n",
       "           'and',\n",
       "           'another',\n",
       "           'any',\n",
       "           'anyhow',\n",
       "           'anyone',\n",
       "           'anything',\n",
       "           'anyway',\n",
       "           'anywhere',\n",
       "           'are',\n",
       "           'around',\n",
       "           'as',\n",
       "           'at',\n",
       "           'back',\n",
       "           'be',\n",
       "           'became',\n",
       "           'because',\n",
       "           'become',\n",
       "           'becomes',\n",
       "           'becoming',\n",
       "           'been',\n",
       "           'before',\n",
       "           'beforehand',\n",
       "           'behind',\n",
       "           'being',\n",
       "           'below',\n",
       "           'beside',\n",
       "           'besides',\n",
       "           'between',\n",
       "           'beyond',\n",
       "           'bill',\n",
       "           'both',\n",
       "           'bottom',\n",
       "           'but',\n",
       "           'by',\n",
       "           'call',\n",
       "           'can',\n",
       "           'cannot',\n",
       "           'cant',\n",
       "           'co',\n",
       "           'con',\n",
       "           'could',\n",
       "           'couldnt',\n",
       "           'cry',\n",
       "           'de',\n",
       "           'describe',\n",
       "           'detail',\n",
       "           'do',\n",
       "           'done',\n",
       "           'down',\n",
       "           'due',\n",
       "           'during',\n",
       "           'each',\n",
       "           'eg',\n",
       "           'eight',\n",
       "           'either',\n",
       "           'eleven',\n",
       "           'else',\n",
       "           'elsewhere',\n",
       "           'empty',\n",
       "           'enough',\n",
       "           'etc',\n",
       "           'even',\n",
       "           'ever',\n",
       "           'every',\n",
       "           'everyone',\n",
       "           'everything',\n",
       "           'everywhere',\n",
       "           'except',\n",
       "           'few',\n",
       "           'fifteen',\n",
       "           'fifty',\n",
       "           'fill',\n",
       "           'find',\n",
       "           'fire',\n",
       "           'first',\n",
       "           'five',\n",
       "           'for',\n",
       "           'former',\n",
       "           'formerly',\n",
       "           'forty',\n",
       "           'found',\n",
       "           'four',\n",
       "           'from',\n",
       "           'front',\n",
       "           'full',\n",
       "           'further',\n",
       "           'get',\n",
       "           'give',\n",
       "           'go',\n",
       "           'had',\n",
       "           'has',\n",
       "           'hasnt',\n",
       "           'have',\n",
       "           'he',\n",
       "           'hence',\n",
       "           'her',\n",
       "           'here',\n",
       "           'hereafter',\n",
       "           'hereby',\n",
       "           'herein',\n",
       "           'hereupon',\n",
       "           'hers',\n",
       "           'herself',\n",
       "           'him',\n",
       "           'himself',\n",
       "           'his',\n",
       "           'how',\n",
       "           'however',\n",
       "           'hundred',\n",
       "           'i',\n",
       "           'ie',\n",
       "           'if',\n",
       "           'in',\n",
       "           'inc',\n",
       "           'indeed',\n",
       "           'interest',\n",
       "           'into',\n",
       "           'is',\n",
       "           'it',\n",
       "           'its',\n",
       "           'itself',\n",
       "           'keep',\n",
       "           'last',\n",
       "           'latter',\n",
       "           'latterly',\n",
       "           'least',\n",
       "           'less',\n",
       "           'ltd',\n",
       "           'made',\n",
       "           'many',\n",
       "           'may',\n",
       "           'me',\n",
       "           'meanwhile',\n",
       "           'might',\n",
       "           'mill',\n",
       "           'mine',\n",
       "           'more',\n",
       "           'moreover',\n",
       "           'most',\n",
       "           'mostly',\n",
       "           'move',\n",
       "           'much',\n",
       "           'must',\n",
       "           'my',\n",
       "           'myself',\n",
       "           'name',\n",
       "           'namely',\n",
       "           'neither',\n",
       "           'never',\n",
       "           'nevertheless',\n",
       "           'next',\n",
       "           'nine',\n",
       "           'no',\n",
       "           'nobody',\n",
       "           'none',\n",
       "           'noone',\n",
       "           'nor',\n",
       "           'not',\n",
       "           'nothing',\n",
       "           'now',\n",
       "           'nowhere',\n",
       "           'of',\n",
       "           'off',\n",
       "           'often',\n",
       "           'on',\n",
       "           'once',\n",
       "           'one',\n",
       "           'only',\n",
       "           'onto',\n",
       "           'or',\n",
       "           'other',\n",
       "           'others',\n",
       "           'otherwise',\n",
       "           'our',\n",
       "           'ours',\n",
       "           'ourselves',\n",
       "           'out',\n",
       "           'over',\n",
       "           'own',\n",
       "           'part',\n",
       "           'per',\n",
       "           'perhaps',\n",
       "           'please',\n",
       "           'put',\n",
       "           'rather',\n",
       "           're',\n",
       "           'same',\n",
       "           'see',\n",
       "           'seem',\n",
       "           'seemed',\n",
       "           'seeming',\n",
       "           'seems',\n",
       "           'serious',\n",
       "           'several',\n",
       "           'she',\n",
       "           'should',\n",
       "           'show',\n",
       "           'side',\n",
       "           'since',\n",
       "           'sincere',\n",
       "           'six',\n",
       "           'sixty',\n",
       "           'so',\n",
       "           'some',\n",
       "           'somehow',\n",
       "           'someone',\n",
       "           'something',\n",
       "           'sometime',\n",
       "           'sometimes',\n",
       "           'somewhere',\n",
       "           'still',\n",
       "           'such',\n",
       "           'system',\n",
       "           'take',\n",
       "           'ten',\n",
       "           'than',\n",
       "           'that',\n",
       "           'the',\n",
       "           'their',\n",
       "           'them',\n",
       "           'themselves',\n",
       "           'then',\n",
       "           'thence',\n",
       "           'there',\n",
       "           'thereafter',\n",
       "           'thereby',\n",
       "           'therefore',\n",
       "           'therein',\n",
       "           'thereupon',\n",
       "           'these',\n",
       "           'they',\n",
       "           'thick',\n",
       "           'thin',\n",
       "           'third',\n",
       "           'this',\n",
       "           'those',\n",
       "           'though',\n",
       "           'three',\n",
       "           'through',\n",
       "           'throughout',\n",
       "           'thru',\n",
       "           'thus',\n",
       "           'to',\n",
       "           'together',\n",
       "           'too',\n",
       "           'top',\n",
       "           'toward',\n",
       "           'towards',\n",
       "           'twelve',\n",
       "           'twenty',\n",
       "           'two',\n",
       "           'un',\n",
       "           'under',\n",
       "           'until',\n",
       "           'up',\n",
       "           'upon',\n",
       "           'us',\n",
       "           'very',\n",
       "           'via',\n",
       "           'was',\n",
       "           'we',\n",
       "           'well',\n",
       "           'were',\n",
       "           'what',\n",
       "           'whatever',\n",
       "           'when',\n",
       "           'whence',\n",
       "           'whenever',\n",
       "           'where',\n",
       "           'whereafter',\n",
       "           'whereas',\n",
       "           'whereby',\n",
       "           'wherein',\n",
       "           'whereupon',\n",
       "           'wherever',\n",
       "           'whether',\n",
       "           'which',\n",
       "           'while',\n",
       "           'whither',\n",
       "           'who',\n",
       "           'whoever',\n",
       "           'whole',\n",
       "           'whom',\n",
       "           'whose',\n",
       "           'why',\n",
       "           'will',\n",
       "           'with',\n",
       "           'within',\n",
       "           'without',\n",
       "           'would',\n",
       "           'yet',\n",
       "           'you',\n",
       "           'your',\n",
       "           'yours',\n",
       "           'yourself',\n",
       "           'yourselves'})"
      ]
     },
     "execution_count": 66,
     "metadata": {},
     "output_type": "execute_result"
    }
   ],
   "source": [
    "from sklearn.feature_extraction.text import ENGLISH_STOP_WORDS\n",
    "ENGLISH_STOP_WORDS"
   ]
  },
  {
   "attachments": {},
   "cell_type": "markdown",
   "metadata": {},
   "source": [
    "- 불용어 추가"
   ]
  },
  {
   "cell_type": "code",
   "execution_count": 67,
   "metadata": {},
   "outputs": [],
   "source": [
    "stop_words = ENGLISH_STOP_WORDS|{'my_stop_word'}"
   ]
  },
  {
   "attachments": {},
   "cell_type": "markdown",
   "metadata": {},
   "source": [
    "### 문서 단어 행렬 만들기"
   ]
  },
  {
   "attachments": {},
   "cell_type": "markdown",
   "metadata": {},
   "source": [
    "- df의 review컬럼을 바탕으로 문서 단어 행렬을 만든다"
   ]
  },
  {
   "cell_type": "code",
   "execution_count": 68,
   "metadata": {},
   "outputs": [],
   "source": [
    "dtm = cv.fit_transform(df['review'])"
   ]
  },
  {
   "attachments": {},
   "cell_type": "markdown",
   "metadata": {},
   "source": [
    "- 만들어진 dtm의 형태를 확인해보면 1000행, 500열"
   ]
  },
  {
   "cell_type": "code",
   "execution_count": 69,
   "metadata": {},
   "outputs": [
    {
     "data": {
      "text/plain": [
       "(1000, 500)"
      ]
     },
     "execution_count": 69,
     "metadata": {},
     "output_type": "execute_result"
    }
   ],
   "source": [
    "dtm.shape"
   ]
  },
  {
   "attachments": {},
   "cell_type": "markdown",
   "metadata": {},
   "source": [
    "- 단어 목록을 환인한다. 단어 목록은 dtm이 아닌 cv에 저장"
   ]
  },
  {
   "cell_type": "code",
   "execution_count": 70,
   "metadata": {},
   "outputs": [
    {
     "data": {
      "text/plain": [
       "array(['10', '100', '12', '20', '30', '35', '40', 'absolutely', 'ago',\n",
       "       'amazing', 'ambiance', 'ambience', 'anytime', 'area', 'arrived',\n",
       "       'ask', 'asked', 'ate', 'atmosphere', 'attentive', 'authentic',\n",
       "       'average', 'avoid', 'away', 'awesome', 'awful', 'bacon', 'bad',\n",
       "       'bar', 'barely', 'basically', 'bathroom', 'batter', 'bay', 'beans',\n",
       "       'beat', 'beautiful', 'beef', 'beer', 'believe', 'belly', 'best',\n",
       "       'better', 'big', 'biscuits', 'bisque', 'bit', 'bite', 'bites',\n",
       "       'black', 'bland', 'boyfriend', 'bread', 'breakfast', 'bring',\n",
       "       'brought', 'brunch', 'buffet', 'burger', 'burgers', 'business',\n",
       "       'busy', 'butter', 'cafe', 'came', 'care', 'check', 'checked',\n",
       "       'cheese', 'chef', 'chewy', 'chicken', 'chips', 'clean', 'close',\n",
       "       'cold', 'come', 'coming', 'considering', 'cooked', 'cool',\n",
       "       'couldn', 'couple', 'course', 'cream', 'customer', 'damn', 'day',\n",
       "       'deal', 'decor', 'definitely', 'delicious', 'delish', 'deserves',\n",
       "       'dessert', 'desserts', 'did', 'didn', 'different', 'dining',\n",
       "       'dinner', 'dirty', 'disappointed', 'disappointing',\n",
       "       'disappointment', 'dish', 'dishes', 'dog', 'don', 'door',\n",
       "       'dressing', 'drink', 'drinks', 'drive', 'dry', 'duck', 'eat',\n",
       "       'eaten', 'eating', 'edible', 'egg', 'enjoy', 'enjoyed', 'equally',\n",
       "       'especially', 'establishment', 'excellent', 'expect', 'expected',\n",
       "       'experience', 'extremely', 'fact', 'family', 'fantastic', 'far',\n",
       "       'fast', 'favorite', 'feel', 'feeling', 'feels', 'fell', 'felt',\n",
       "       'filet', 'filling', 'finally', 'fine', 'finish', 'fish', 'flat',\n",
       "       'flavor', 'flavorful', 'flavorless', 'flower', 'fly', 'focused',\n",
       "       'folks', 'food', 'fresh', 'fried', 'friend', 'friendly', 'friends',\n",
       "       'fries', 'frozen', 'fry', 'fun', 'garlic', 'gave', 'generous',\n",
       "       'getting', 'given', 'glad', 'going', 'gold', 'gone', 'good', 'got',\n",
       "       'grease', 'great', 'greek', 'green', 'greeted', 'grill', 'grilled',\n",
       "       'gross', 'grossed', 'group', 'guess', 'guy', 'gyros', 'half',\n",
       "       'hands', 'happy', 'hard', 'healthy', 'heart', 'helpful', 'high',\n",
       "       'highly', 'hit', 'home', 'homemade', 'honest', 'hope', 'horrible',\n",
       "       'hot', 'hour', 'house', 'huge', 'hummus', 'husband', 'ice',\n",
       "       'immediately', 'impressed', 'incredible', 'inside', 'insulted',\n",
       "       'interesting', 'isn', 'job', 'just', 'kept', 'kind', 'know',\n",
       "       'lacked', 'lacking', 'large', 'leave', 'left', 'let', 'life',\n",
       "       'like', 'liked', 'list', 'literally', 'little', 'live', 'll',\n",
       "       'lobster', 'location', 'long', 'longer', 'look', 'looked',\n",
       "       'looking', 'lot', 'love', 'loved', 'lovely', 'lovers', 'low',\n",
       "       'lukewarm', 'lunch', 'make', 'management', 'manager', 'maybe',\n",
       "       'meal', 'meals', 'meat', 'mediocre', 'melt', 'menu', 'minutes',\n",
       "       'moist', 'mom', 'money', 'mouth', 'music', 'nasty', 'need',\n",
       "       'needs', 'neighborhood', 'new', 'nice', 'nicest', 'night', 'non',\n",
       "       'note', 'offers', 'oh', 'ok', 'old', 'omg', 'opportunity',\n",
       "       'options', 'order', 'ordered', 'orders', 'outside', 'outstanding',\n",
       "       'oven', 'overall', 'overpriced', 'overwhelmed', 'owner', 'owners',\n",
       "       'pace', 'paid', 'pancakes', 'paper', 'par', 'party', 'passed',\n",
       "       'pasta', 'patio', 'pay', 'people', 'perfect', 'perfectly', 'pho',\n",
       "       'phoenix', 'piece', 'pita', 'pizza', 'pizzas', 'place', 'places',\n",
       "       'pleasant', 'pleased', 'point', 'poor', 'pork', 'portions',\n",
       "       'possible', 'potato', 'potatoes', 'pretty', 'price', 'priced',\n",
       "       'prices', 'pricing', 'probably', 'professional', 'promise',\n",
       "       'pulled', 'quality', 'quick', 'quickly', 'quite', 'rare', 'rated',\n",
       "       'real', 'really', 'reasonable', 'received', 'recommend',\n",
       "       'recommendation', 'recommended', 'regular', 'restaurant',\n",
       "       'restaurants', 'return', 'review', 'reviews', 'rice', 'right',\n",
       "       'rolls', 'room', 'rude', 'running', 'sad', 'said', 'salad',\n",
       "       'salads', 'salmon', 'salsa', 'salt', 'sandwich', 'sashimi', 'sat',\n",
       "       'satisfying', 'sauce', 'say', 'scallop', 'seafood', 'seasoned',\n",
       "       'seated', 'seating', 'second', 'seen', 'selection', 'selections',\n",
       "       'seriously', 'serve', 'served', 'server', 'servers', 'serves',\n",
       "       'service', 'services', 'serving', 'setting', 'shower', 'shrimp',\n",
       "       'sick', 'sides', 'slow', 'small', 'soggy', 'soon', 'soup',\n",
       "       'special', 'spicy', 'spot', 'staff', 'stale', 'star', 'stars',\n",
       "       'stay', 'steak', 'steaks', 'stomach', 'stop', 'strip', 'style',\n",
       "       'subway', 'sucked', 'sucks', 'super', 'sure', 'sushi', 'sweet',\n",
       "       'table', 'tables', 'tacos', 'talk', 'taste', 'tasted', 'tasteless',\n",
       "       'tasty', 'tea', 'tell', 'tender', 'terrible', 'texture', 'thai',\n",
       "       'thing', 'things', 'think', 'thought', 'thumbs', 'time', 'times',\n",
       "       'tip', 'today', 'told', 'took', 'total', 'totally', 'town',\n",
       "       'treated', 'tried', 'trip', 'try', 'twice', 'unfortunately',\n",
       "       'unless', 'used', 've', 'vegas', 'vegetables', 'vegetarian',\n",
       "       'vibe', 'vinegrette', 'visit', 'wait', 'waited', 'waiter',\n",
       "       'waiting', 'waitress', 'walked', 'wall', 'want', 'wanted', 'warm',\n",
       "       'wasn', 'waste', 'watched', 'water', 'way', 'went', 'white',\n",
       "       'wife', 'wine', 'wings', 'won', 'wonderful', 'word', 'world',\n",
       "       'worse', 'worst', 'worth', 'wouldn', 'wow', 'wrong', 'year',\n",
       "       'years', 'yummy', 'zero'], dtype=object)"
      ]
     },
     "execution_count": 70,
     "metadata": {},
     "output_type": "execute_result"
    }
   ],
   "source": [
    "cv.get_feature_names_out()"
   ]
  },
  {
   "attachments": {},
   "cell_type": "markdown",
   "metadata": {},
   "source": [
    "### 희소행렬(sparse matrix)"
   ]
  },
  {
   "attachments": {},
   "cell_type": "markdown",
   "metadata": {},
   "source": [
    "- 문서 단어 행렬에서 대부분의 값은 0\n",
    "\n",
    "- 이러한 행렬을 희소(sparse)행렬이라 함 <->조밀(dense)\n",
    "\n",
    "- 용량을 아끼기 위해 0을 빼고 저장하는 압축 방법을 사용"
   ]
  },
  {
   "attachments": {},
   "cell_type": "markdown",
   "metadata": {},
   "source": [
    "### 희소 행렬 압축 방식"
   ]
  },
  {
   "attachments": {},
   "cell_type": "markdown",
   "metadata": {},
   "source": [
    "- 희소행렬: 대부분의 원소가 0인 행렬\n",
    "\n",
    "- 행렬 형식으로 저장하면 용량을 많이 차지하므로 압축하여 저장한다\n",
    "\n",
    "- 압축방식:\n",
    "    - Coordinate list\n",
    "    - Compressed Sparse Row\n"
   ]
  },
  {
   "attachments": {},
   "cell_type": "markdown",
   "metadata": {},
   "source": [
    "### COOrdinate list"
   ]
  },
  {
   "attachments": {},
   "cell_type": "markdown",
   "metadata": {},
   "source": [
    "- 0이 아닌 값을 (행,열,값)형식으로 저장\n",
    "\\begin{bmatrix}\n",
    "10 & 20 & 0 & 0 \\\\\n",
    "0 & 30& 40& 0 \\\\\n",
    "0& 0 & 0 & 50\\\\\n",
    "\\end{bmatrix}\n",
    "\n",
    "- 예: [(0,0,10),(0,1,20),(1,1,30),(1,2,40),(2,3,50)]"
   ]
  },
  {
   "attachments": {},
   "cell_type": "markdown",
   "metadata": {},
   "source": [
    "### Compressed Sparse Row"
   ]
  },
  {
   "attachments": {},
   "cell_type": "markdown",
   "metadata": {},
   "source": [
    "- 값과 열번호를 별도로 저장\n",
    "\n",
    "- 행번호 대신, 값에서 각 행의 시작과 끝 인덳스를 저장하여 행번호를 압축\n",
    "\n",
    "- 예: 값 = [10,20,30,40,50] 열 = [0,1,1,2,3], 행 = [0,2,4,5]\n",
    "\n",
    "- 빈행이 없고, 한 행에 여러 개의 값이 둘어갈 경우 압축효율이 높음\n",
    "\n",
    "- 행렬의 한 행의 값을 빠르게 뽑을 수 있음\n",
    "\n",
    "- 사이킷런에서 문서 단어 행렬을 만들 떄 사용하는 방법\n",
    "\n",
    "- CSC: 행 대신 열번호를 압축한 형식"
   ]
  },
  {
   "attachments": {},
   "cell_type": "markdown",
   "metadata": {},
   "source": [
    "### 합계"
   ]
  },
  {
   "attachments": {},
   "cell_type": "markdown",
   "metadata": {},
   "source": [
    "- 단어별 총 빈도(axis = 1: 행별 합계)"
   ]
  },
  {
   "cell_type": "code",
   "execution_count": 71,
   "metadata": {},
   "outputs": [
    {
     "data": {
      "text/plain": [
       "matrix([[ 3],\n",
       "        [ 1],\n",
       "        [ 4],\n",
       "        [ 2],\n",
       "        [ 4],\n",
       "        [ 4],\n",
       "        [ 3],\n",
       "        [ 5],\n",
       "        [ 2],\n",
       "        [ 1],\n",
       "        [ 1],\n",
       "        [ 0],\n",
       "        [ 3],\n",
       "        [ 2],\n",
       "        [ 2],\n",
       "        [ 0],\n",
       "        [ 2],\n",
       "        [ 4],\n",
       "        [ 5],\n",
       "        [ 2],\n",
       "        [ 0],\n",
       "        [ 2],\n",
       "        [ 1],\n",
       "        [ 3],\n",
       "        [ 0],\n",
       "        [ 2],\n",
       "        [ 3],\n",
       "        [ 5],\n",
       "        [11],\n",
       "        [ 3],\n",
       "        [ 5],\n",
       "        [ 1],\n",
       "        [ 1],\n",
       "        [ 7],\n",
       "        [ 4],\n",
       "        [ 2],\n",
       "        [ 3],\n",
       "        [ 8],\n",
       "        [ 1],\n",
       "        [ 2],\n",
       "        [ 3],\n",
       "        [ 3],\n",
       "        [ 9],\n",
       "        [ 5],\n",
       "        [ 3],\n",
       "        [ 4],\n",
       "        [ 3],\n",
       "        [ 6],\n",
       "        [ 3],\n",
       "        [ 7],\n",
       "        [ 7],\n",
       "        [ 5],\n",
       "        [ 1],\n",
       "        [ 5],\n",
       "        [ 1],\n",
       "        [ 7],\n",
       "        [ 6],\n",
       "        [ 3],\n",
       "        [ 7],\n",
       "        [ 1],\n",
       "        [ 4],\n",
       "        [ 2],\n",
       "        [ 1],\n",
       "        [ 1],\n",
       "        [ 2],\n",
       "        [ 5],\n",
       "        [ 2],\n",
       "        [ 5],\n",
       "        [ 6],\n",
       "        [ 4],\n",
       "        [ 4],\n",
       "        [ 5],\n",
       "        [ 1],\n",
       "        [ 2],\n",
       "        [ 4],\n",
       "        [ 3],\n",
       "        [ 4],\n",
       "        [ 5],\n",
       "        [ 8],\n",
       "        [ 8],\n",
       "        [ 4],\n",
       "        [ 6],\n",
       "        [ 2],\n",
       "        [ 1],\n",
       "        [ 4],\n",
       "        [ 6],\n",
       "        [ 4],\n",
       "        [ 3],\n",
       "        [ 0],\n",
       "        [ 2],\n",
       "        [ 3],\n",
       "        [ 5],\n",
       "        [ 1],\n",
       "        [ 3],\n",
       "        [ 2],\n",
       "        [ 1],\n",
       "        [ 0],\n",
       "        [ 3],\n",
       "        [ 1],\n",
       "        [ 5],\n",
       "        [ 5],\n",
       "        [ 6],\n",
       "        [ 5],\n",
       "        [ 8],\n",
       "        [ 1],\n",
       "        [ 2],\n",
       "        [ 6],\n",
       "        [ 3],\n",
       "        [ 1],\n",
       "        [ 1],\n",
       "        [ 6],\n",
       "        [ 4],\n",
       "        [ 7],\n",
       "        [ 3],\n",
       "        [ 2],\n",
       "        [ 1],\n",
       "        [ 2],\n",
       "        [ 3],\n",
       "        [ 4],\n",
       "        [ 6],\n",
       "        [ 7],\n",
       "        [ 2],\n",
       "        [ 4],\n",
       "        [10],\n",
       "        [ 9],\n",
       "        [ 3],\n",
       "        [ 9],\n",
       "        [ 3],\n",
       "        [ 2],\n",
       "        [ 8],\n",
       "        [ 5],\n",
       "        [ 1],\n",
       "        [ 9],\n",
       "        [ 2],\n",
       "        [ 6],\n",
       "        [ 6],\n",
       "        [ 2],\n",
       "        [ 3],\n",
       "        [ 6],\n",
       "        [ 4],\n",
       "        [ 1],\n",
       "        [ 5],\n",
       "        [ 6],\n",
       "        [ 2],\n",
       "        [ 4],\n",
       "        [ 2],\n",
       "        [ 7],\n",
       "        [11],\n",
       "        [ 1],\n",
       "        [ 5],\n",
       "        [ 6],\n",
       "        [ 3],\n",
       "        [ 2],\n",
       "        [ 3],\n",
       "        [ 2],\n",
       "        [ 3],\n",
       "        [ 5],\n",
       "        [ 9],\n",
       "        [ 2],\n",
       "        [ 5],\n",
       "        [ 3],\n",
       "        [ 2],\n",
       "        [ 2],\n",
       "        [ 1],\n",
       "        [ 2],\n",
       "        [ 1],\n",
       "        [ 7],\n",
       "        [ 4],\n",
       "        [ 3],\n",
       "        [ 1],\n",
       "        [ 7],\n",
       "        [ 7],\n",
       "        [ 1],\n",
       "        [ 2],\n",
       "        [ 3],\n",
       "        [ 2],\n",
       "        [ 2],\n",
       "        [ 1],\n",
       "        [ 3],\n",
       "        [ 5],\n",
       "        [ 8],\n",
       "        [ 4],\n",
       "        [ 1],\n",
       "        [ 1],\n",
       "        [ 7],\n",
       "        [ 3],\n",
       "        [ 4],\n",
       "        [ 2],\n",
       "        [ 2],\n",
       "        [ 9],\n",
       "        [ 2],\n",
       "        [ 3],\n",
       "        [ 3],\n",
       "        [ 8],\n",
       "        [ 6],\n",
       "        [ 4],\n",
       "        [ 3],\n",
       "        [ 3],\n",
       "        [ 2],\n",
       "        [ 2],\n",
       "        [ 4],\n",
       "        [ 2],\n",
       "        [ 3],\n",
       "        [ 3],\n",
       "        [ 2],\n",
       "        [ 3],\n",
       "        [ 4],\n",
       "        [ 2],\n",
       "        [ 2],\n",
       "        [ 4],\n",
       "        [ 3],\n",
       "        [ 8],\n",
       "        [ 3],\n",
       "        [ 1],\n",
       "        [ 2],\n",
       "        [ 2],\n",
       "        [ 2],\n",
       "        [ 1],\n",
       "        [ 3],\n",
       "        [ 2],\n",
       "        [ 6],\n",
       "        [ 3],\n",
       "        [ 6],\n",
       "        [ 3],\n",
       "        [ 4],\n",
       "        [ 2],\n",
       "        [ 0],\n",
       "        [ 4],\n",
       "        [ 0],\n",
       "        [ 3],\n",
       "        [ 5],\n",
       "        [ 7],\n",
       "        [ 2],\n",
       "        [ 3],\n",
       "        [ 4],\n",
       "        [ 3],\n",
       "        [ 7],\n",
       "        [ 5],\n",
       "        [ 2],\n",
       "        [ 4],\n",
       "        [ 5],\n",
       "        [ 2],\n",
       "        [ 2],\n",
       "        [ 3],\n",
       "        [ 6],\n",
       "        [ 7],\n",
       "        [ 3],\n",
       "        [ 5],\n",
       "        [ 1],\n",
       "        [ 6],\n",
       "        [ 4],\n",
       "        [ 1],\n",
       "        [ 3],\n",
       "        [ 5],\n",
       "        [ 4],\n",
       "        [ 4],\n",
       "        [ 2],\n",
       "        [ 5],\n",
       "        [ 2],\n",
       "        [ 1],\n",
       "        [ 2],\n",
       "        [ 2],\n",
       "        [ 2],\n",
       "        [ 3],\n",
       "        [ 3],\n",
       "        [ 0],\n",
       "        [ 2],\n",
       "        [ 6],\n",
       "        [ 4],\n",
       "        [ 2],\n",
       "        [ 1],\n",
       "        [ 2],\n",
       "        [ 1],\n",
       "        [ 4],\n",
       "        [ 4],\n",
       "        [ 4],\n",
       "        [ 4],\n",
       "        [ 4],\n",
       "        [ 1],\n",
       "        [ 4],\n",
       "        [ 5],\n",
       "        [ 1],\n",
       "        [ 2],\n",
       "        [ 5],\n",
       "        [ 4],\n",
       "        [ 3],\n",
       "        [ 3],\n",
       "        [ 7],\n",
       "        [ 2],\n",
       "        [ 3],\n",
       "        [ 5],\n",
       "        [ 4],\n",
       "        [ 7],\n",
       "        [ 5],\n",
       "        [ 5],\n",
       "        [ 3],\n",
       "        [ 7],\n",
       "        [ 4],\n",
       "        [ 2],\n",
       "        [ 4],\n",
       "        [ 7],\n",
       "        [ 4],\n",
       "        [ 7],\n",
       "        [ 2],\n",
       "        [ 3],\n",
       "        [ 0],\n",
       "        [ 0],\n",
       "        [ 4],\n",
       "        [ 1],\n",
       "        [ 3],\n",
       "        [ 2],\n",
       "        [ 2],\n",
       "        [ 2],\n",
       "        [ 1],\n",
       "        [ 6],\n",
       "        [ 1],\n",
       "        [ 5],\n",
       "        [ 5],\n",
       "        [ 6],\n",
       "        [ 2],\n",
       "        [ 1],\n",
       "        [ 4],\n",
       "        [ 4],\n",
       "        [ 3],\n",
       "        [ 3],\n",
       "        [ 3],\n",
       "        [ 2],\n",
       "        [ 7],\n",
       "        [ 9],\n",
       "        [ 8],\n",
       "        [ 5],\n",
       "        [ 3],\n",
       "        [ 4],\n",
       "        [ 1],\n",
       "        [ 2],\n",
       "        [ 3],\n",
       "        [ 3],\n",
       "        [ 6],\n",
       "        [ 2],\n",
       "        [ 2],\n",
       "        [ 1],\n",
       "        [ 4],\n",
       "        [ 7],\n",
       "        [ 1],\n",
       "        [ 6],\n",
       "        [ 4],\n",
       "        [ 3],\n",
       "        [ 6],\n",
       "        [ 3],\n",
       "        [ 5],\n",
       "        [ 5],\n",
       "        [ 1],\n",
       "        [ 3],\n",
       "        [ 2],\n",
       "        [ 1],\n",
       "        [ 4],\n",
       "        [ 5],\n",
       "        [ 3],\n",
       "        [ 4],\n",
       "        [ 4],\n",
       "        [ 4],\n",
       "        [ 6],\n",
       "        [ 3],\n",
       "        [ 3],\n",
       "        [ 6],\n",
       "        [ 4],\n",
       "        [ 5],\n",
       "        [ 3],\n",
       "        [ 4],\n",
       "        [ 2],\n",
       "        [ 5],\n",
       "        [ 0],\n",
       "        [ 1],\n",
       "        [ 6],\n",
       "        [ 4],\n",
       "        [ 4],\n",
       "        [ 3],\n",
       "        [ 4],\n",
       "        [ 2],\n",
       "        [ 8],\n",
       "        [ 1],\n",
       "        [ 1],\n",
       "        [ 3],\n",
       "        [ 2],\n",
       "        [ 2],\n",
       "        [ 3],\n",
       "        [ 3],\n",
       "        [ 4],\n",
       "        [ 0],\n",
       "        [ 2],\n",
       "        [ 6],\n",
       "        [ 7],\n",
       "        [ 3],\n",
       "        [ 6],\n",
       "        [ 8],\n",
       "        [ 4],\n",
       "        [ 3],\n",
       "        [ 5],\n",
       "        [ 5],\n",
       "        [ 2],\n",
       "        [ 1],\n",
       "        [ 4],\n",
       "        [ 3],\n",
       "        [ 7],\n",
       "        [ 7],\n",
       "        [ 1],\n",
       "        [ 3],\n",
       "        [ 5],\n",
       "        [ 2],\n",
       "        [ 3],\n",
       "        [ 5],\n",
       "        [ 3],\n",
       "        [ 2],\n",
       "        [ 2],\n",
       "        [ 5],\n",
       "        [ 2],\n",
       "        [ 1],\n",
       "        [ 3],\n",
       "        [ 5],\n",
       "        [ 8],\n",
       "        [ 6],\n",
       "        [ 4],\n",
       "        [ 0],\n",
       "        [ 7],\n",
       "        [ 0],\n",
       "        [ 0],\n",
       "        [ 3],\n",
       "        [ 1],\n",
       "        [ 0],\n",
       "        [ 5],\n",
       "        [ 1],\n",
       "        [ 2],\n",
       "        [ 3],\n",
       "        [ 7],\n",
       "        [ 1],\n",
       "        [ 2],\n",
       "        [ 2],\n",
       "        [ 4],\n",
       "        [ 3],\n",
       "        [ 1],\n",
       "        [ 3],\n",
       "        [ 1],\n",
       "        [ 4],\n",
       "        [ 1],\n",
       "        [ 4],\n",
       "        [ 2],\n",
       "        [ 0],\n",
       "        [ 2],\n",
       "        [ 7],\n",
       "        [ 5],\n",
       "        [ 6],\n",
       "        [ 1],\n",
       "        [10],\n",
       "        [ 1],\n",
       "        [ 3],\n",
       "        [ 5],\n",
       "        [ 5],\n",
       "        [ 2],\n",
       "        [ 1],\n",
       "        [ 2],\n",
       "        [ 3],\n",
       "        [ 3],\n",
       "        [ 3],\n",
       "        [ 2],\n",
       "        [ 5],\n",
       "        [ 4],\n",
       "        [ 7],\n",
       "        [ 9],\n",
       "        [ 1],\n",
       "        [ 3],\n",
       "        [ 1],\n",
       "        [ 1],\n",
       "        [ 3],\n",
       "        [ 3],\n",
       "        [ 3],\n",
       "        [ 4],\n",
       "        [ 3],\n",
       "        [ 3],\n",
       "        [ 2],\n",
       "        [ 1],\n",
       "        [ 5],\n",
       "        [ 4],\n",
       "        [ 6],\n",
       "        [ 3],\n",
       "        [ 2],\n",
       "        [ 7],\n",
       "        [ 2],\n",
       "        [ 3],\n",
       "        [ 1],\n",
       "        [ 1],\n",
       "        [ 2],\n",
       "        [ 2],\n",
       "        [ 3],\n",
       "        [ 2],\n",
       "        [ 2],\n",
       "        [ 0],\n",
       "        [ 4],\n",
       "        [ 2],\n",
       "        [ 5],\n",
       "        [ 2],\n",
       "        [ 6],\n",
       "        [ 3],\n",
       "        [ 4],\n",
       "        [ 2],\n",
       "        [ 3],\n",
       "        [ 2],\n",
       "        [ 3],\n",
       "        [ 1],\n",
       "        [ 2],\n",
       "        [ 1],\n",
       "        [ 5],\n",
       "        [ 3],\n",
       "        [ 2],\n",
       "        [ 1],\n",
       "        [ 2],\n",
       "        [ 4],\n",
       "        [ 1],\n",
       "        [ 7],\n",
       "        [ 1],\n",
       "        [ 5],\n",
       "        [ 3],\n",
       "        [ 1],\n",
       "        [ 1],\n",
       "        [ 2],\n",
       "        [ 2],\n",
       "        [ 5],\n",
       "        [ 1],\n",
       "        [ 4],\n",
       "        [ 2],\n",
       "        [ 1],\n",
       "        [ 2],\n",
       "        [ 3],\n",
       "        [ 7],\n",
       "        [ 9],\n",
       "        [ 2],\n",
       "        [ 3],\n",
       "        [ 4],\n",
       "        [ 8],\n",
       "        [ 1],\n",
       "        [ 3],\n",
       "        [ 4],\n",
       "        [ 6],\n",
       "        [ 3],\n",
       "        [ 3],\n",
       "        [ 3],\n",
       "        [ 3],\n",
       "        [ 5],\n",
       "        [ 1],\n",
       "        [ 2],\n",
       "        [ 9],\n",
       "        [ 5],\n",
       "        [ 2],\n",
       "        [ 2],\n",
       "        [ 4],\n",
       "        [ 3],\n",
       "        [ 3],\n",
       "        [ 2],\n",
       "        [ 3],\n",
       "        [ 2],\n",
       "        [ 2],\n",
       "        [ 3],\n",
       "        [ 1],\n",
       "        [ 2],\n",
       "        [ 7],\n",
       "        [ 4],\n",
       "        [ 3],\n",
       "        [ 3],\n",
       "        [ 2],\n",
       "        [ 2],\n",
       "        [ 0],\n",
       "        [ 2],\n",
       "        [ 3],\n",
       "        [ 3],\n",
       "        [ 4],\n",
       "        [ 5],\n",
       "        [ 7],\n",
       "        [ 2],\n",
       "        [ 3],\n",
       "        [ 2],\n",
       "        [ 5],\n",
       "        [ 1],\n",
       "        [ 1],\n",
       "        [ 4],\n",
       "        [ 3],\n",
       "        [ 3],\n",
       "        [ 7],\n",
       "        [ 1],\n",
       "        [ 3],\n",
       "        [ 3],\n",
       "        [ 2],\n",
       "        [ 3],\n",
       "        [ 4],\n",
       "        [ 7],\n",
       "        [ 3],\n",
       "        [ 2],\n",
       "        [ 2],\n",
       "        [ 4],\n",
       "        [ 4],\n",
       "        [ 6],\n",
       "        [ 2],\n",
       "        [ 0],\n",
       "        [12],\n",
       "        [ 3],\n",
       "        [ 5],\n",
       "        [ 4],\n",
       "        [ 2],\n",
       "        [ 1],\n",
       "        [ 3],\n",
       "        [ 4],\n",
       "        [ 1],\n",
       "        [ 6],\n",
       "        [ 6],\n",
       "        [ 6],\n",
       "        [ 4],\n",
       "        [ 1],\n",
       "        [ 2],\n",
       "        [ 3],\n",
       "        [ 3],\n",
       "        [ 5],\n",
       "        [ 1],\n",
       "        [ 4],\n",
       "        [ 1],\n",
       "        [ 3],\n",
       "        [10],\n",
       "        [ 3],\n",
       "        [ 2],\n",
       "        [ 8],\n",
       "        [ 3],\n",
       "        [ 7],\n",
       "        [ 8],\n",
       "        [ 6],\n",
       "        [ 5],\n",
       "        [ 1],\n",
       "        [ 5],\n",
       "        [ 5],\n",
       "        [ 2],\n",
       "        [ 2],\n",
       "        [ 8],\n",
       "        [ 3],\n",
       "        [ 1],\n",
       "        [ 1],\n",
       "        [ 1],\n",
       "        [ 3],\n",
       "        [ 3],\n",
       "        [ 3],\n",
       "        [ 2],\n",
       "        [ 0],\n",
       "        [ 3],\n",
       "        [ 2],\n",
       "        [ 4],\n",
       "        [ 5],\n",
       "        [ 5],\n",
       "        [ 4],\n",
       "        [ 1],\n",
       "        [ 2],\n",
       "        [ 3],\n",
       "        [ 3],\n",
       "        [ 4],\n",
       "        [ 3],\n",
       "        [ 3],\n",
       "        [ 4],\n",
       "        [ 0],\n",
       "        [ 4],\n",
       "        [ 1],\n",
       "        [ 1],\n",
       "        [ 4],\n",
       "        [ 2],\n",
       "        [ 5],\n",
       "        [ 6],\n",
       "        [ 1],\n",
       "        [ 0],\n",
       "        [ 2],\n",
       "        [ 3],\n",
       "        [ 1],\n",
       "        [ 3],\n",
       "        [ 2],\n",
       "        [ 1],\n",
       "        [ 3],\n",
       "        [ 4],\n",
       "        [ 3],\n",
       "        [ 3],\n",
       "        [ 2],\n",
       "        [ 2],\n",
       "        [ 4],\n",
       "        [ 3],\n",
       "        [ 2],\n",
       "        [ 5],\n",
       "        [ 4],\n",
       "        [ 4],\n",
       "        [ 4],\n",
       "        [ 2],\n",
       "        [ 3],\n",
       "        [ 1],\n",
       "        [ 5],\n",
       "        [ 4],\n",
       "        [ 4],\n",
       "        [ 7],\n",
       "        [ 0],\n",
       "        [ 1],\n",
       "        [ 6],\n",
       "        [ 4],\n",
       "        [ 5],\n",
       "        [ 3],\n",
       "        [ 5],\n",
       "        [ 3],\n",
       "        [ 1],\n",
       "        [ 2],\n",
       "        [ 1],\n",
       "        [ 6],\n",
       "        [ 4],\n",
       "        [ 3],\n",
       "        [ 1],\n",
       "        [ 1],\n",
       "        [ 1],\n",
       "        [ 4],\n",
       "        [13],\n",
       "        [ 3],\n",
       "        [ 3],\n",
       "        [ 1],\n",
       "        [ 7],\n",
       "        [ 1],\n",
       "        [ 8],\n",
       "        [ 3],\n",
       "        [ 4],\n",
       "        [ 3],\n",
       "        [ 4],\n",
       "        [ 6],\n",
       "        [ 2],\n",
       "        [ 2],\n",
       "        [ 3],\n",
       "        [ 6],\n",
       "        [ 4],\n",
       "        [ 3],\n",
       "        [ 4],\n",
       "        [ 6],\n",
       "        [ 4],\n",
       "        [ 4],\n",
       "        [ 6],\n",
       "        [ 4],\n",
       "        [ 0],\n",
       "        [ 5],\n",
       "        [ 2],\n",
       "        [ 5],\n",
       "        [ 4],\n",
       "        [ 0],\n",
       "        [ 6],\n",
       "        [ 3],\n",
       "        [ 5],\n",
       "        [ 4],\n",
       "        [ 5],\n",
       "        [ 5],\n",
       "        [ 3],\n",
       "        [ 4],\n",
       "        [ 5],\n",
       "        [ 3],\n",
       "        [ 5],\n",
       "        [ 5],\n",
       "        [ 3],\n",
       "        [ 2],\n",
       "        [ 3],\n",
       "        [ 6],\n",
       "        [ 5],\n",
       "        [ 5],\n",
       "        [ 2],\n",
       "        [ 1],\n",
       "        [ 2],\n",
       "        [ 2],\n",
       "        [ 1],\n",
       "        [ 7],\n",
       "        [ 5],\n",
       "        [ 5],\n",
       "        [ 5],\n",
       "        [ 5],\n",
       "        [ 3],\n",
       "        [ 2],\n",
       "        [ 3],\n",
       "        [ 3],\n",
       "        [ 3],\n",
       "        [ 1],\n",
       "        [ 2],\n",
       "        [ 2],\n",
       "        [ 2],\n",
       "        [ 4],\n",
       "        [ 6],\n",
       "        [ 2],\n",
       "        [ 0],\n",
       "        [ 1],\n",
       "        [ 4],\n",
       "        [ 5],\n",
       "        [ 5],\n",
       "        [ 7],\n",
       "        [ 1],\n",
       "        [ 8],\n",
       "        [ 2],\n",
       "        [ 5],\n",
       "        [ 7],\n",
       "        [ 6],\n",
       "        [ 2],\n",
       "        [ 2],\n",
       "        [ 4],\n",
       "        [ 1],\n",
       "        [ 3],\n",
       "        [ 3],\n",
       "        [ 2],\n",
       "        [ 1],\n",
       "        [11],\n",
       "        [ 2],\n",
       "        [ 6],\n",
       "        [ 3],\n",
       "        [ 8],\n",
       "        [ 4],\n",
       "        [ 2],\n",
       "        [ 4],\n",
       "        [ 0],\n",
       "        [ 2],\n",
       "        [ 3],\n",
       "        [ 2],\n",
       "        [ 2],\n",
       "        [ 4],\n",
       "        [ 1],\n",
       "        [ 2],\n",
       "        [ 2],\n",
       "        [ 5],\n",
       "        [ 1],\n",
       "        [ 2],\n",
       "        [ 1],\n",
       "        [ 3],\n",
       "        [ 4],\n",
       "        [ 2],\n",
       "        [ 4],\n",
       "        [ 3],\n",
       "        [ 2],\n",
       "        [ 6],\n",
       "        [ 7],\n",
       "        [ 1],\n",
       "        [ 8],\n",
       "        [ 4],\n",
       "        [ 5],\n",
       "        [ 5],\n",
       "        [ 1],\n",
       "        [ 5],\n",
       "        [ 4],\n",
       "        [ 7],\n",
       "        [ 1],\n",
       "        [ 2],\n",
       "        [ 3],\n",
       "        [ 2],\n",
       "        [ 5],\n",
       "        [ 3],\n",
       "        [10],\n",
       "        [ 2],\n",
       "        [ 1],\n",
       "        [ 3],\n",
       "        [ 4],\n",
       "        [ 8],\n",
       "        [ 3],\n",
       "        [ 5],\n",
       "        [ 8],\n",
       "        [ 3],\n",
       "        [ 4],\n",
       "        [ 7],\n",
       "        [ 5],\n",
       "        [12],\n",
       "        [ 3],\n",
       "        [ 0],\n",
       "        [ 3],\n",
       "        [ 4],\n",
       "        [ 3],\n",
       "        [ 5],\n",
       "        [ 9],\n",
       "        [ 2],\n",
       "        [ 3],\n",
       "        [ 7],\n",
       "        [ 4],\n",
       "        [ 2],\n",
       "        [ 1],\n",
       "        [ 2],\n",
       "        [ 2],\n",
       "        [ 5],\n",
       "        [ 6],\n",
       "        [ 3],\n",
       "        [ 4],\n",
       "        [ 1],\n",
       "        [ 8],\n",
       "        [ 6],\n",
       "        [ 2],\n",
       "        [ 3],\n",
       "        [ 5],\n",
       "        [ 2],\n",
       "        [ 6],\n",
       "        [ 6],\n",
       "        [ 1],\n",
       "        [ 2],\n",
       "        [ 2],\n",
       "        [ 3],\n",
       "        [ 6],\n",
       "        [ 3],\n",
       "        [ 2],\n",
       "        [ 2],\n",
       "        [ 3],\n",
       "        [ 1],\n",
       "        [ 5],\n",
       "        [ 2],\n",
       "        [ 2],\n",
       "        [ 1],\n",
       "        [ 4],\n",
       "        [ 4],\n",
       "        [ 2],\n",
       "        [ 1],\n",
       "        [ 4],\n",
       "        [ 5],\n",
       "        [ 1],\n",
       "        [ 4],\n",
       "        [ 2],\n",
       "        [ 2],\n",
       "        [ 4],\n",
       "        [ 4],\n",
       "        [ 3],\n",
       "        [ 4],\n",
       "        [ 3],\n",
       "        [ 5],\n",
       "        [ 1],\n",
       "        [ 3],\n",
       "        [ 1],\n",
       "        [ 3],\n",
       "        [ 6],\n",
       "        [ 3],\n",
       "        [ 4],\n",
       "        [ 6],\n",
       "        [ 2],\n",
       "        [ 4],\n",
       "        [ 7],\n",
       "        [ 1],\n",
       "        [ 2],\n",
       "        [ 5],\n",
       "        [ 3],\n",
       "        [ 3],\n",
       "        [ 2],\n",
       "        [ 5],\n",
       "        [ 5],\n",
       "        [ 2],\n",
       "        [ 1],\n",
       "        [ 2],\n",
       "        [ 1],\n",
       "        [ 4],\n",
       "        [ 1],\n",
       "        [ 6],\n",
       "        [ 1],\n",
       "        [ 4],\n",
       "        [ 8],\n",
       "        [ 3],\n",
       "        [ 8],\n",
       "        [ 8],\n",
       "        [ 1],\n",
       "        [ 3],\n",
       "        [ 2],\n",
       "        [ 3],\n",
       "        [ 3],\n",
       "        [ 6],\n",
       "        [ 4],\n",
       "        [ 3],\n",
       "        [ 7],\n",
       "        [ 4],\n",
       "        [ 5],\n",
       "        [ 3],\n",
       "        [ 2],\n",
       "        [ 2],\n",
       "        [ 0],\n",
       "        [ 9],\n",
       "        [ 6],\n",
       "        [10],\n",
       "        [ 3],\n",
       "        [ 1],\n",
       "        [ 3],\n",
       "        [ 4],\n",
       "        [ 1],\n",
       "        [ 7],\n",
       "        [ 2],\n",
       "        [ 2],\n",
       "        [ 7],\n",
       "        [ 4],\n",
       "        [ 3],\n",
       "        [ 2],\n",
       "        [ 7],\n",
       "        [ 3],\n",
       "        [ 5],\n",
       "        [ 5],\n",
       "        [ 3],\n",
       "        [ 2],\n",
       "        [ 2],\n",
       "        [ 5],\n",
       "        [ 3],\n",
       "        [ 4],\n",
       "        [ 2],\n",
       "        [ 2],\n",
       "        [ 5],\n",
       "        [ 1],\n",
       "        [ 2],\n",
       "        [ 6],\n",
       "        [ 6]])"
      ]
     },
     "execution_count": 71,
     "metadata": {},
     "output_type": "execute_result"
    }
   ],
   "source": [
    "dtm.sum(axis = 1)"
   ]
  },
  {
   "attachments": {},
   "cell_type": "markdown",
   "metadata": {},
   "source": [
    "- 문서별 총 단어 수(axis = 0:열별 합계)"
   ]
  },
  {
   "cell_type": "code",
   "execution_count": 72,
   "metadata": {},
   "outputs": [
    {
     "data": {
      "text/plain": [
       "matrix([[  5,   2,   2,   4,   5,   3,   4,   8,   3,  24,   7,   3,   5,\n",
       "           7,   3,   4,   5,   3,  11,   7,   6,   4,   5,   5,  12,   3,\n",
       "           5,  18,   7,   5,   2,   3,   2,   4,   3,   4,   3,   5,   8,\n",
       "           3,   2,  30,  16,   3,   2,   2,   8,   2,   2,   2,  11,   3,\n",
       "           5,  10,   5,   3,   3,  11,  12,   4,   4,   3,   3,   3,  20,\n",
       "           3,   7,   3,   3,   4,   3,  17,   7,   9,   4,   9,  11,  10,\n",
       "           4,   7,   3,   3,   3,   3,   4,   6,   4,   9,   7,   3,  19,\n",
       "          23,   3,   3,   5,   3,  22,  13,   3,   8,   6,   4,  19,   5,\n",
       "           4,   8,   9,   3,  26,   3,   3,   4,   4,   4,   4,   3,  19,\n",
       "           5,   8,   3,   3,   6,   5,   3,   3,   4,  10,   5,   3,  20,\n",
       "           5,   4,   7,  12,   7,   5,   3,  11,   2,   2,   2,   8,   2,\n",
       "           2,   2,   3,   2,   5,   3,  13,   3,   2,   2,   2,   2,   4,\n",
       "         126,  14,   5,   5,  27,   4,   9,   3,   2,   4,   2,   4,   3,\n",
       "           8,   2,   2,  18,   2,   3,  95,  18,   2,  70,   3,   3,   2,\n",
       "           2,   2,   2,   2,   2,   3,   2,   2,   3,   3,   8,   6,   3,\n",
       "           4,   4,   4,   4,   5,   5,   3,   3,   3,   6,   9,   6,   4,\n",
       "           5,   3,   4,   5,   3,   8,   4,   7,   3,   3,   3,   4,  35,\n",
       "           5,   4,  11,   3,   3,   4,   4,   6,   3,   2,  46,   3,   3,\n",
       "           3,  10,   4,  13,   3,   4,   5,   2,   4,   2,   2,   7,  19,\n",
       "          10,   2,   2,   2,   2,  10,   8,   6,   4,   3,  11,   3,   9,\n",
       "           6,   3,  15,  19,   3,   3,   6,   3,   3,   3,   3,   4,   2,\n",
       "           5,  25,   2,  12,   2,   2,   2,   3,   3,   5,   2,   2,   4,\n",
       "          11,  14,   2,   5,   3,   2,   8,   7,   2,   4,   4,   2,   2,\n",
       "           2,   2,   3,   3,   2,   5,   3,   4,   9,  10,   3,   6,   4,\n",
       "           4,   3,  15,   3, 106,   5,   3,   3,   3,   6,   4,   5,   4,\n",
       "           6,   3,  20,   7,   3,  10,   2,  10,   2,   2,   3,  14,   5,\n",
       "           3,   8,   4,   2,   5,  36,   5,   3,  11,   3,   3,   3,  25,\n",
       "           3,   5,   3,   3,   4,   9,   3,   3,   8,   4,   4,   8,  15,\n",
       "           2,   4,   3,   3,   9,   3,   5,   2,  10,  16,   2,   5,   2,\n",
       "           5,   3,   3,   2,  10,   2,   7,   2,   6,  13,   5,   2,  85,\n",
       "           2,   2,   3,   2,   6,   5,   3,  11,   6,   3,   9,   4,   7,\n",
       "           8,   8,  19,   3,   3,  15,   3,  14,   4,   3,   3,   3,   3,\n",
       "           3,   4,   3,   7,   8,  13,   5,   9,   5,   4,   5,  13,   8,\n",
       "           5,  11,   4,   6,   6,  10,   3,   5,   8,   5,  16,   5,   4,\n",
       "          42,  13,   3,   4,   3,   8,   3,   3,   7,   3,   7,   4,   8,\n",
       "           6,   4,   3,   3,  23,  22,   4,   3,   3,   2,   4,  14,  10,\n",
       "           7,   5,   8,   3,   3,  13,   3,   7,  13,   5,   3,   3,  15,\n",
       "          13,   3,   3,   4,   4,  19,   7,   2,   3,   3,  15,  10,   3,\n",
       "           3,   5,   2,   3,   4,   5]])"
      ]
     },
     "execution_count": 72,
     "metadata": {},
     "output_type": "execute_result"
    }
   ],
   "source": [
    "dtm.sum(axis = 0)"
   ]
  },
  {
   "attachments": {},
   "cell_type": "markdown",
   "metadata": {},
   "source": [
    "### 단어 빈도 데이터 프레임"
   ]
  },
  {
   "cell_type": "code",
   "execution_count": 73,
   "metadata": {},
   "outputs": [],
   "source": [
    "word_count = pd.DataFrame({\n",
    "    '단어': cv.get_feature_names_out(),\n",
    "    '빈도': dtm.sum(axis = 0).flat\n",
    "    })"
   ]
  },
  {
   "attachments": {},
   "cell_type": "markdown",
   "metadata": {},
   "source": [
    "- 각 단어의 총 빈도를 데이터 프레임으로 만들어 word_count라고 한다\n",
    "\n",
    "- .sum의 결과가 횅렬 형태이므로 .flat을 사용하여 컬럼에 들어갈 수 있는 형태로 변환한다"
   ]
  },
  {
   "attachments": {},
   "cell_type": "markdown",
   "metadata": {},
   "source": [
    "### 빈도수 정렬"
   ]
  },
  {
   "cell_type": "code",
   "execution_count": 74,
   "metadata": {},
   "outputs": [
    {
     "data": {
      "text/html": [
       "<div>\n",
       "<style scoped>\n",
       "    .dataframe tbody tr th:only-of-type {\n",
       "        vertical-align: middle;\n",
       "    }\n",
       "\n",
       "    .dataframe tbody tr th {\n",
       "        vertical-align: top;\n",
       "    }\n",
       "\n",
       "    .dataframe thead th {\n",
       "        text-align: right;\n",
       "    }\n",
       "</style>\n",
       "<table border=\"1\" class=\"dataframe\">\n",
       "  <thead>\n",
       "    <tr style=\"text-align: right;\">\n",
       "      <th></th>\n",
       "      <th>단어</th>\n",
       "      <th>빈도</th>\n",
       "    </tr>\n",
       "  </thead>\n",
       "  <tbody>\n",
       "    <tr>\n",
       "      <th>156</th>\n",
       "      <td>food</td>\n",
       "      <td>126</td>\n",
       "    </tr>\n",
       "    <tr>\n",
       "      <th>316</th>\n",
       "      <td>place</td>\n",
       "      <td>106</td>\n",
       "    </tr>\n",
       "    <tr>\n",
       "      <th>175</th>\n",
       "      <td>good</td>\n",
       "      <td>95</td>\n",
       "    </tr>\n",
       "    <tr>\n",
       "      <th>389</th>\n",
       "      <td>service</td>\n",
       "      <td>85</td>\n",
       "    </tr>\n",
       "    <tr>\n",
       "      <th>178</th>\n",
       "      <td>great</td>\n",
       "      <td>70</td>\n",
       "    </tr>\n",
       "  </tbody>\n",
       "</table>\n",
       "</div>"
      ],
      "text/plain": [
       "          단어   빈도\n",
       "156     food  126\n",
       "316    place  106\n",
       "175     good   95\n",
       "389  service   85\n",
       "178    great   70"
      ]
     },
     "execution_count": 74,
     "metadata": {},
     "output_type": "execute_result"
    }
   ],
   "source": [
    "word_count.sort_values('빈도', ascending=False).head()"
   ]
  },
  {
   "attachments": {},
   "cell_type": "markdown",
   "metadata": {},
   "source": [
    "- .sort_values()를 이용해 빈도 순으로 정렬을 한다.\n",
    "\n",
    "- ascending = True를 하면 오름차순 정렬\n",
    "\n",
    "- 생략하거나 False로 하면 내림차순 정렬\n"
   ]
  },
  {
   "attachments": {},
   "cell_type": "markdown",
   "metadata": {},
   "source": [
    "-엑셀 파일로 저장:"
   ]
  },
  {
   "cell_type": "code",
   "execution_count": 75,
   "metadata": {},
   "outputs": [],
   "source": [
    "word_count.to_excel('word_count.xlsx')"
   ]
  },
  {
   "attachments": {},
   "cell_type": "markdown",
   "metadata": {},
   "source": [
    "<font color=\"#green\"><p>\n",
    "## 단어구름"
   ]
  },
  {
   "attachments": {},
   "cell_type": "markdown",
   "metadata": {},
   "source": [
    "- 단어 빈도를 시각화하는 방법\n",
    "\n",
    "- 자주 나오는 단어는 크게, 드물게 나오는 단어는 작게 시각화\n",
    "\n",
    "- 단어의 배치를 통해 특정한 이미지 형태가 되도록 하게도 함"
   ]
  },
  {
   "attachments": {},
   "cell_type": "markdown",
   "metadata": {},
   "source": [
    "### 설치와 임포트"
   ]
  },
  {
   "attachments": {},
   "cell_type": "markdown",
   "metadata": {},
   "source": [
    "- pip명령어로 설치"
   ]
  },
  {
   "cell_type": "code",
   "execution_count": 76,
   "metadata": {},
   "outputs": [],
   "source": [
    "# pip install wordcloud"
   ]
  },
  {
   "attachments": {},
   "cell_type": "markdown",
   "metadata": {},
   "source": [
    "- wordcloud 모듈 임포트"
   ]
  },
  {
   "cell_type": "code",
   "execution_count": 77,
   "metadata": {},
   "outputs": [],
   "source": [
    "from wordcloud import WordCloud"
   ]
  },
  {
   "attachments": {},
   "cell_type": "markdown",
   "metadata": {},
   "source": [
    "### 설정"
   ]
  },
  {
   "cell_type": "code",
   "execution_count": 78,
   "metadata": {},
   "outputs": [],
   "source": [
    "\n",
    "wc = WordCloud(\n",
    "    font_path = 'NanumGothic.ttf',#글꼴 파일이 있을경우 , '눈누' -> 폰트 사이트\n",
    "    background_color = 'white',# 배경색\n",
    "    max_words = 100,# 시각화할 단어 개수\n",
    "    width = 400,# 가로크기\n",
    "    height= 300)# 세로크기"
   ]
  },
  {
   "attachments": {},
   "cell_type": "markdown",
   "metadata": {},
   "source": [
    "### 그리기"
   ]
  },
  {
   "attachments": {},
   "cell_type": "markdown",
   "metadata": {},
   "source": [
    "- word_count를 사전(dict) 형태로 변환"
   ]
  },
  {
   "cell_type": "code",
   "execution_count": 79,
   "metadata": {},
   "outputs": [],
   "source": [
    "count_dic = dict(zip(word_count.단어, word_count.빈도))"
   ]
  },
  {
   "attachments": {},
   "cell_type": "markdown",
   "metadata": {},
   "source": [
    "- 단어구름"
   ]
  },
  {
   "cell_type": "code",
   "execution_count": 80,
   "metadata": {},
   "outputs": [],
   "source": [
    "cloud = wc.fit_words(count_dic)"
   ]
  },
  {
   "attachments": {},
   "cell_type": "markdown",
   "metadata": {},
   "source": [
    "### 보기 및 저장"
   ]
  },
  {
   "attachments": {},
   "cell_type": "markdown",
   "metadata": {},
   "source": [
    "- 보기"
   ]
  },
  {
   "cell_type": "code",
   "execution_count": 81,
   "metadata": {},
   "outputs": [
    {
     "data": {
      "image/png": "[encoded data removed]",
      "text/plain": [
       "<PIL.Image.Image image mode=RGB size=400x300 at 0x7FE421B7FA90>"
      ]
     },
     "execution_count": 81,
     "metadata": {},
     "output_type": "execute_result"
    }
   ],
   "source": [
    "cloud.to_image()"
   ]
  },
  {
   "attachments": {},
   "cell_type": "markdown",
   "metadata": {},
   "source": [
    "### 파일로 저장"
   ]
  },
  {
   "cell_type": "code",
   "execution_count": 82,
   "metadata": {},
   "outputs": [
    {
     "data": {
      "text/plain": [
       "<wordcloud.wordcloud.WordCloud at 0x7fe3f1c2e880>"
      ]
     },
     "execution_count": 82,
     "metadata": {},
     "output_type": "execute_result"
    }
   ],
   "source": [
    "cloud.to_file('cloud.png')"
   ]
  },
  {
   "attachments": {},
   "cell_type": "markdown",
   "metadata": {},
   "source": [
    "<font color=\"#green\"><p>\n",
    "## 공기어 네트워크"
   ]
  },
  {
   "attachments": {},
   "cell_type": "markdown",
   "metadata": {},
   "source": [
    "### 공기어 네트워크 분석"
   ]
  },
  {
   "attachments": {},
   "cell_type": "markdown",
   "metadata": {},
   "source": [
    "- 공기어(cooccurence): 한 맥락에 함꼐 나타나는 단어\n",
    "\n",
    "- 네트워크 분석(network analysis): 점과 선으로 이루어진 구조를 분석하는 것"
   ]
  },
  {
   "attachments": {},
   "cell_type": "markdown",
   "metadata": {},
   "source": [
    "### 실습준비"
   ]
  },
  {
   "attachments": {},
   "cell_type": "markdown",
   "metadata": {},
   "source": [
    "- 임포트"
   ]
  },
  {
   "cell_type": "code",
   "execution_count": 83,
   "metadata": {},
   "outputs": [],
   "source": [
    "import numpy as np\n",
    "import pandas as pd"
   ]
  },
  {
   "cell_type": "markdown",
   "metadata": {},
   "source": [
    "- 데이터 열기"
   ]
  },
  {
   "cell_type": "code",
   "execution_count": 84,
   "metadata": {},
   "outputs": [],
   "source": [
    "df = pd.read_excel('data/yelp.xlsx')"
   ]
  },
  {
   "cell_type": "markdown",
   "metadata": {},
   "source": [
    "### 문서 단어 행렬 만들기"
   ]
  },
  {
   "attachments": {},
   "cell_type": "markdown",
   "metadata": {},
   "source": [
    "- 문서 단어 행렬 만들기"
   ]
  },
  {
   "cell_type": "code",
   "execution_count": 85,
   "metadata": {},
   "outputs": [],
   "source": [
    "from sklearn.feature_extraction.text import CountVectorizer\n",
    "cv = CountVectorizer(stop_words='english', min_df = 0.01, binary = True)"
   ]
  },
  {
   "attachments": {},
   "cell_type": "markdown",
   "metadata": {},
   "source": [
    "- min_df = 0.01: 최소 1%이상의 문서에서 출현한 단어만 포함\n",
    "\n",
    "- binary = True: 문서에 나타난 단어는 빈도 무관하게 1이 됌"
   ]
  },
  {
   "cell_type": "code",
   "execution_count": 86,
   "metadata": {},
   "outputs": [],
   "source": [
    "dtm = cv.fit_transform(df.review)"
   ]
  },
  {
   "attachments": {},
   "cell_type": "markdown",
   "metadata": {},
   "source": [
    "### 인접 행렬 만들기"
   ]
  },
  {
   "attachments": {},
   "cell_type": "markdown",
   "metadata": {},
   "source": [
    "- 인접행렬(adjacency matrix): 네트워크에서 인접한 점(단어)들의 관계를 행렬로 나타낸것\n",
    "\n",
    "- 문서 단어 행렬을 곱하면 함꼐 나타난 단어는 1이 되고, 그렇지 않은 단어는 0이 됌"
   ]
  },
  {
   "cell_type": "code",
   "execution_count": 87,
   "metadata": {},
   "outputs": [],
   "source": [
    "cooccur = dtm.T @ dtm\n",
    "adj = cooccur.A"
   ]
  },
  {
   "attachments": {},
   "cell_type": "markdown",
   "metadata": {},
   "source": [
    "- .T: 전치행렬(행과 열을 바꿈)\n",
    "- @: 행렬곱"
   ]
  },
  {
   "attachments": {},
   "cell_type": "markdown",
   "metadata": {},
   "source": [
    "### 점 상호 정보/ 향상도"
   ]
  },
  {
   "attachments": {},
   "cell_type": "markdown",
   "metadata": {},
   "source": [
    "- 빈도가 높은 단어는 다른 단어와 함께 나올 확률도 높음\n",
    "- 두 단어가 함꼐 나올 확률을 각 단어가 나올 확률과 비교할 필요\n"
   ]
  },
  {
   "attachments": {},
   "cell_type": "markdown",
   "metadata": {},
   "source": [
    "$$\\frac{P(A\\cap B)}{P(A)P(B)}$$\n"
   ]
  },
  {
   "attachments": {},
   "cell_type": "markdown",
   "metadata": {},
   "source": [
    "- A와B가 독립이면, 위의 비율은 1\n",
    "\n",
    "- 분야에 따라 향상도(lift), 점 상호 정보(위의 값에 log를 적용한 경우)라 부름"
   ]
  },
  {
   "attachments": {},
   "cell_type": "markdown",
   "metadata": {},
   "source": [
    "### 향상도로 변환"
   ]
  },
  {
   "attachments": {},
   "cell_type": "markdown",
   "metadata": {},
   "source": [
    "- 각 단어별 문서빈도"
   ]
  },
  {
   "cell_type": "code",
   "execution_count": 88,
   "metadata": {},
   "outputs": [],
   "source": [
    "n = np.diag(adj)"
   ]
  },
  {
   "attachments": {},
   "cell_type": "markdown",
   "metadata": {},
   "source": [
    "- 전체문서"
   ]
  },
  {
   "cell_type": "code",
   "execution_count": 89,
   "metadata": {},
   "outputs": [],
   "source": [
    "total, _ = dtm.shape"
   ]
  },
  {
   "attachments": {},
   "cell_type": "markdown",
   "metadata": {},
   "source": [
    "- 향상도 "
   ]
  },
  {
   "cell_type": "code",
   "execution_count": 90,
   "metadata": {},
   "outputs": [],
   "source": [
    "lift = total * adj / np.outer(n,n)"
   ]
  },
  {
   "attachments": {},
   "cell_type": "markdown",
   "metadata": {},
   "source": [
    "### 시각화를 위한 편집"
   ]
  },
  {
   "attachments": {},
   "cell_type": "markdown",
   "metadata": {},
   "source": [
    "- 향상도가 2 이상인 경우는 1, 아니면 0으로 바꿈"
   ]
  },
  {
   "cell_type": "code",
   "execution_count": 91,
   "metadata": {},
   "outputs": [],
   "source": [
    "m = np.where(lift >= 2,1,0)"
   ]
  },
  {
   "cell_type": "markdown",
   "metadata": {},
   "source": [
    "- 대각원소(=행렬에서 대각선 방향의 원소)는 단어의 문서 빈도를 나타내므로 0으로 설정"
   ]
  },
  {
   "cell_type": "code",
   "execution_count": 92,
   "metadata": {},
   "outputs": [],
   "source": [
    "np.fill_diagonal(m,0)"
   ]
  },
  {
   "attachments": {},
   "cell_type": "markdown",
   "metadata": {},
   "source": [
    "### Networkx"
   ]
  },
  {
   "attachments": {},
   "cell_type": "markdown",
   "metadata": {},
   "source": [
    "- python에서 네트워크 분석을 위한 라이브러리"
   ]
  },
  {
   "cell_type": "code",
   "execution_count": 93,
   "metadata": {},
   "outputs": [],
   "source": [
    "import networkx as nx"
   ]
  },
  {
   "cell_type": "markdown",
   "metadata": {},
   "source": [
    "- 인접행렬을 네트워크로 바꾸기"
   ]
  },
  {
   "cell_type": "code",
   "execution_count": 94,
   "metadata": {},
   "outputs": [],
   "source": [
    "net = nx.from_numpy_array(m)"
   ]
  },
  {
   "attachments": {},
   "cell_type": "markdown",
   "metadata": {},
   "source": [
    "### 공기어 보기"
   ]
  },
  {
   "attachments": {},
   "cell_type": "markdown",
   "metadata": {},
   "source": [
    "- 노드 이름을 단어로 바꾸기"
   ]
  },
  {
   "cell_type": "code",
   "execution_count": 95,
   "metadata": {},
   "outputs": [],
   "source": [
    "words = cv.get_feature_names_out()\n",
    "net = nx.relabel_nodes(net, dict(enumerate(words)))"
   ]
  },
  {
   "cell_type": "markdown",
   "metadata": {},
   "source": [
    "- steak와 연결된 단어 보기"
   ]
  },
  {
   "cell_type": "code",
   "execution_count": 96,
   "metadata": {},
   "outputs": [
    {
     "data": {
      "text/plain": [
       "['amazing',\n",
       " 'atmosphere',\n",
       " 'best',\n",
       " 'chicken',\n",
       " 'did',\n",
       " 'don',\n",
       " 'flavor',\n",
       " 'fresh',\n",
       " 'great',\n",
       " 'really',\n",
       " 'vegas',\n",
       " 'wasn',\n",
       " 'worst']"
      ]
     },
     "execution_count": 96,
     "metadata": {},
     "output_type": "execute_result"
    }
   ],
   "source": [
    "list(nx.neighbors(net, 'steak'))"
   ]
  },
  {
   "attachments": {},
   "cell_type": "markdown",
   "metadata": {},
   "source": [
    "### 중심성"
   ]
  },
  {
   "attachments": {},
   "cell_type": "markdown",
   "metadata": {},
   "source": [
    "- 네트워크에서 노드의 중요도를 나타내는 지표"
   ]
  },
  {
   "attachments": {},
   "cell_type": "markdown",
   "metadata": {},
   "source": [
    "- 연결 중심성(degree centrality): 연결된 단어 수/(전체 단어 수 -1) -> 친구가 많은것"
   ]
  },
  {
   "cell_type": "code",
   "execution_count": 97,
   "metadata": {},
   "outputs": [],
   "source": [
    "dc = nx.degree_centrality(net)"
   ]
  },
  {
   "cell_type": "markdown",
   "metadata": {},
   "source": [
    "- 메개 중심성(between centrality): 단어-단어 간의 최단 경로에 포함된 비율"
   ]
  },
  {
   "cell_type": "code",
   "execution_count": 98,
   "metadata": {},
   "outputs": [],
   "source": [
    "bc = nx.betweenness_centrality(net)\n"
   ]
  },
  {
   "cell_type": "markdown",
   "metadata": {},
   "source": [
    "- 근접 중심성(closeness centrality): 다른 단어와 거리가 평균적으로 짧은 단어"
   ]
  },
  {
   "cell_type": "code",
   "execution_count": 99,
   "metadata": {},
   "outputs": [],
   "source": [
    "cc = nx.closeness_centrality(net)"
   ]
  },
  {
   "attachments": {},
   "cell_type": "markdown",
   "metadata": {},
   "source": [
    ">- 고유벡터 중심성(eigenvector centrality): 중요한 단어와 연결된 단어가 중요한 단어  -> 중요한 친구"
   ]
  },
  {
   "cell_type": "code",
   "execution_count": 100,
   "metadata": {},
   "outputs": [],
   "source": [
    "ec = nx.eigenvector_centrality(net)"
   ]
  },
  {
   "attachments": {},
   "cell_type": "markdown",
   "metadata": {},
   "source": [
    "### 중심성 순으로 정렬"
   ]
  },
  {
   "attachments": {},
   "cell_type": "markdown",
   "metadata": {},
   "source": [
    "- 중심성을 데이터 프레임으로 변환"
   ]
  },
  {
   "cell_type": "code",
   "execution_count": 101,
   "metadata": {},
   "outputs": [],
   "source": [
    "ecf = pd.DataFrame(ec.items(), columns=['word', 'centrality'])"
   ]
  },
  {
   "cell_type": "markdown",
   "metadata": {},
   "source": [
    "- 중심성 순으로 정렬"
   ]
  },
  {
   "cell_type": "code",
   "execution_count": 102,
   "metadata": {},
   "outputs": [
    {
     "data": {
      "text/html": [
       "<div>\n",
       "<style scoped>\n",
       "    .dataframe tbody tr th:only-of-type {\n",
       "        vertical-align: middle;\n",
       "    }\n",
       "\n",
       "    .dataframe tbody tr th {\n",
       "        vertical-align: top;\n",
       "    }\n",
       "\n",
       "    .dataframe thead th {\n",
       "        text-align: right;\n",
       "    }\n",
       "</style>\n",
       "<table border=\"1\" class=\"dataframe\">\n",
       "  <thead>\n",
       "    <tr style=\"text-align: right;\">\n",
       "      <th></th>\n",
       "      <th>word</th>\n",
       "      <th>centrality</th>\n",
       "    </tr>\n",
       "  </thead>\n",
       "  <tbody>\n",
       "    <tr>\n",
       "      <th>39</th>\n",
       "      <td>loved</td>\n",
       "      <td>0.026497</td>\n",
       "    </tr>\n",
       "    <tr>\n",
       "      <th>63</th>\n",
       "      <td>stars</td>\n",
       "      <td>0.041249</td>\n",
       "    </tr>\n",
       "    <tr>\n",
       "      <th>77</th>\n",
       "      <td>way</td>\n",
       "      <td>0.051813</td>\n",
       "    </tr>\n",
       "    <tr>\n",
       "      <th>62</th>\n",
       "      <td>staff</td>\n",
       "      <td>0.056761</td>\n",
       "    </tr>\n",
       "    <tr>\n",
       "      <th>68</th>\n",
       "      <td>terrible</td>\n",
       "      <td>0.057225</td>\n",
       "    </tr>\n",
       "    <tr>\n",
       "      <th>...</th>\n",
       "      <td>...</td>\n",
       "      <td>...</td>\n",
       "    </tr>\n",
       "    <tr>\n",
       "      <th>75</th>\n",
       "      <td>want</td>\n",
       "      <td>0.164544</td>\n",
       "    </tr>\n",
       "    <tr>\n",
       "      <th>29</th>\n",
       "      <td>going</td>\n",
       "      <td>0.170552</td>\n",
       "    </tr>\n",
       "    <tr>\n",
       "      <th>22</th>\n",
       "      <td>experience</td>\n",
       "      <td>0.174456</td>\n",
       "    </tr>\n",
       "    <tr>\n",
       "      <th>70</th>\n",
       "      <td>time</td>\n",
       "      <td>0.191572</td>\n",
       "    </tr>\n",
       "    <tr>\n",
       "      <th>73</th>\n",
       "      <td>vegas</td>\n",
       "      <td>0.202061</td>\n",
       "    </tr>\n",
       "  </tbody>\n",
       "</table>\n",
       "<p>82 rows × 2 columns</p>\n",
       "</div>"
      ],
      "text/plain": [
       "          word  centrality\n",
       "39       loved    0.026497\n",
       "63       stars    0.041249\n",
       "77         way    0.051813\n",
       "62       staff    0.056761\n",
       "68    terrible    0.057225\n",
       "..         ...         ...\n",
       "75        want    0.164544\n",
       "29       going    0.170552\n",
       "22  experience    0.174456\n",
       "70        time    0.191572\n",
       "73       vegas    0.202061\n",
       "\n",
       "[82 rows x 2 columns]"
      ]
     },
     "execution_count": 102,
     "metadata": {},
     "output_type": "execute_result"
    }
   ],
   "source": [
    "ecf.sort_values('centrality')"
   ]
  },
  {
   "attachments": {},
   "cell_type": "markdown",
   "metadata": {},
   "source": [
    "### pyvis "
   ]
  },
  {
   "attachments": {},
   "cell_type": "markdown",
   "metadata": {},
   "source": [
    "- Python 네트워크 시각화를 위한 라이브러리"
   ]
  },
  {
   "attachments": {},
   "cell_type": "markdown",
   "metadata": {},
   "source": [
    "- 설치"
   ]
  },
  {
   "cell_type": "code",
   "execution_count": 103,
   "metadata": {},
   "outputs": [],
   "source": [
    "# pip install pyvis\n"
   ]
  },
  {
   "attachments": {},
   "cell_type": "markdown",
   "metadata": {},
   "source": [
    "- 임포트"
   ]
  },
  {
   "cell_type": "code",
   "execution_count": 120,
   "metadata": {},
   "outputs": [],
   "source": [
    "from pyvis.network import Network"
   ]
  },
  {
   "cell_type": "markdown",
   "metadata": {},
   "source": [
    "### pyvis 시각화"
   ]
  },
  {
   "attachments": {},
   "cell_type": "markdown",
   "metadata": {},
   "source": [
    "- networkx 네트워크를 pyvis 네트워크로 변환"
   ]
  },
  {
   "cell_type": "code",
   "execution_count": 121,
   "metadata": {},
   "outputs": [],
   "source": [
    "vis = Network(height='800px', width= '1000px')\n",
    "vis.from_nx(net)"
   ]
  },
  {
   "cell_type": "markdown",
   "metadata": {},
   "source": [
    "- 설정 버튼 추가"
   ]
  },
  {
   "cell_type": "code",
   "execution_count": 122,
   "metadata": {},
   "outputs": [],
   "source": [
    "vis.show_buttons(filter_= True)"
   ]
  },
  {
   "cell_type": "markdown",
   "metadata": {},
   "source": [
    "- 보이기"
   ]
  },
  {
   "cell_type": "code",
   "execution_count": 125,
   "metadata": {},
   "outputs": [],
   "source": [
    "vis.save_graph('nx.html')"
   ]
  },
  {
   "cell_type": "code",
   "execution_count": null,
   "metadata": {},
   "outputs": [],
   "source": []
  }
 ],
 "metadata": {
  "kernelspec": {
   "display_name": "base",
   "language": "python",
   "name": "python3"
  },
  "language_info": {
   "codemirror_mode": {
    "name": "ipython",
    "version": 3
   },
   "file_extension": ".py",
   "mimetype": "text/x-python",
   "name": "python",
   "nbconvert_exporter": "python",
   "pygments_lexer": "ipython3",
   "version": "3.9.12"
  },
  "orig_nbformat": 4
 },
 "nbformat": 4,
 "nbformat_minor": 2
}
